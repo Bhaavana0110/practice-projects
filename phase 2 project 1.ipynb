{
 "cells": [
  {
   "cell_type": "markdown",
   "id": "faf2ac91",
   "metadata": {},
   "source": [
    "                                        World Happiness Report Project\n",
    "Project Description:\n",
    "The World Happiness Report is a landmark survey of the state of global happiness. The first report was published in 2012, the second in 2013, the third in 2015, and the fourth in the 2016 Update. The World Happiness 2017, which ranks 155 countries by their happiness levels, was released at the United Nations at an event celebrating International Day of Happiness on March 20th. The report continues to gain global recognition as governments, organizations and civil society increasingly use happiness indicators to inform their policy-making decisions. Leading experts across fields – economics, psychology, survey analysis, national statistics, health, public policy and more – describe how measurements of well-being can be used effectively to assess the progress of nations. The reports review the state of happiness in the world today and show how the new science of happiness explains personal and national variations in happiness.\n",
    "\n",
    "What is Dystopia?\n",
    "Dystopia is an imaginary country that has the world’s least-happy people. The purpose in establishing Dystopia is to have a benchmark against which all countries can be favorably compared (no country performs more poorly than Dystopia) in terms of each of the six key variables, thus allowing each sub-bar to be of positive width. The lowest scores observed for the six key variables, therefore, characterize Dystopia. Since life would be very unpleasant in a country with the world’s lowest incomes, lowest life expectancy, lowest generosity, most corruption, least freedom and least social support, it is referred to as “Dystopia,” in contrast to Utopia.\n",
    "\n",
    "What are the residuals?\n",
    "The residuals, or unexplained components, differ for each country, reflecting the extent to which the six variables either over- or under-explain average life evaluations. These residuals have an average value of approximately zero over the whole set of countries. \n",
    "\n",
    "What do the columns succeeding the Happiness Score(like Family, Generosity, etc.) describe?\n",
    "The following columns: GDP per Capita, Family, Life Expectancy, Freedom, Generosity, Trust Government Corruption describe the extent to which these factors contribute in evaluating the happiness in each country.\n",
    "The Dystopia Residual metric actually is the Dystopia Happiness Score(1.85) + the Residual value or the unexplained value for each country.\n",
    "The Dystopia Residual is already provided in the dataset. \n",
    "If you add all these factors up, you get the happiness score so it might be un-reliable to model them to predict Happiness Scores.\n",
    "You need to predict the happiness score considering all the other factors mentioned in the dataset."
   ]
  },
  {
   "cell_type": "code",
   "execution_count": 4,
   "id": "02eb4fe1",
   "metadata": {},
   "outputs": [],
   "source": [
    "import pandas as pd\n",
    "import numpy as np\n",
    "from sklearn.preprocessing import StandardScaler\n",
    "from sklearn.linear_model import LogisticRegression, LinearRegression,Lasso,Ridge\n",
    "from sklearn.model_selection import train_test_split, GridSearchCV\n",
    "from sklearn.metrics import  roc_curve,roc_auc_score,r2_score\n",
    "from statsmodels.stats.outliers_influence import variance_inflation_factor\n",
    "import matplotlib.pyplot as plt\n",
    "import seaborn as sns\n",
    "import pickle\n",
    "import warnings\n",
    "warnings.filterwarnings('ignore')"
   ]
  },
  {
   "cell_type": "code",
   "execution_count": 5,
   "id": "c5910f0f",
   "metadata": {},
   "outputs": [
    {
     "data": {
      "text/html": [
       "<div>\n",
       "<style scoped>\n",
       "    .dataframe tbody tr th:only-of-type {\n",
       "        vertical-align: middle;\n",
       "    }\n",
       "\n",
       "    .dataframe tbody tr th {\n",
       "        vertical-align: top;\n",
       "    }\n",
       "\n",
       "    .dataframe thead th {\n",
       "        text-align: right;\n",
       "    }\n",
       "</style>\n",
       "<table border=\"1\" class=\"dataframe\">\n",
       "  <thead>\n",
       "    <tr style=\"text-align: right;\">\n",
       "      <th></th>\n",
       "      <th>Country</th>\n",
       "      <th>Region</th>\n",
       "      <th>Happiness Rank</th>\n",
       "      <th>Happiness Score</th>\n",
       "      <th>Standard Error</th>\n",
       "      <th>Economy (GDP per Capita)</th>\n",
       "      <th>Family</th>\n",
       "      <th>Health (Life Expectancy)</th>\n",
       "      <th>Freedom</th>\n",
       "      <th>Trust (Government Corruption)</th>\n",
       "      <th>Generosity</th>\n",
       "      <th>Dystopia Residual</th>\n",
       "    </tr>\n",
       "  </thead>\n",
       "  <tbody>\n",
       "    <tr>\n",
       "      <th>0</th>\n",
       "      <td>Switzerland</td>\n",
       "      <td>Western Europe</td>\n",
       "      <td>1</td>\n",
       "      <td>7.587</td>\n",
       "      <td>0.03411</td>\n",
       "      <td>1.39651</td>\n",
       "      <td>1.34951</td>\n",
       "      <td>0.94143</td>\n",
       "      <td>0.66557</td>\n",
       "      <td>0.41978</td>\n",
       "      <td>0.29678</td>\n",
       "      <td>2.51738</td>\n",
       "    </tr>\n",
       "    <tr>\n",
       "      <th>1</th>\n",
       "      <td>Iceland</td>\n",
       "      <td>Western Europe</td>\n",
       "      <td>2</td>\n",
       "      <td>7.561</td>\n",
       "      <td>0.04884</td>\n",
       "      <td>1.30232</td>\n",
       "      <td>1.40223</td>\n",
       "      <td>0.94784</td>\n",
       "      <td>0.62877</td>\n",
       "      <td>0.14145</td>\n",
       "      <td>0.43630</td>\n",
       "      <td>2.70201</td>\n",
       "    </tr>\n",
       "    <tr>\n",
       "      <th>2</th>\n",
       "      <td>Denmark</td>\n",
       "      <td>Western Europe</td>\n",
       "      <td>3</td>\n",
       "      <td>7.527</td>\n",
       "      <td>0.03328</td>\n",
       "      <td>1.32548</td>\n",
       "      <td>1.36058</td>\n",
       "      <td>0.87464</td>\n",
       "      <td>0.64938</td>\n",
       "      <td>0.48357</td>\n",
       "      <td>0.34139</td>\n",
       "      <td>2.49204</td>\n",
       "    </tr>\n",
       "    <tr>\n",
       "      <th>3</th>\n",
       "      <td>Norway</td>\n",
       "      <td>Western Europe</td>\n",
       "      <td>4</td>\n",
       "      <td>7.522</td>\n",
       "      <td>0.03880</td>\n",
       "      <td>1.45900</td>\n",
       "      <td>1.33095</td>\n",
       "      <td>0.88521</td>\n",
       "      <td>0.66973</td>\n",
       "      <td>0.36503</td>\n",
       "      <td>0.34699</td>\n",
       "      <td>2.46531</td>\n",
       "    </tr>\n",
       "    <tr>\n",
       "      <th>4</th>\n",
       "      <td>Canada</td>\n",
       "      <td>North America</td>\n",
       "      <td>5</td>\n",
       "      <td>7.427</td>\n",
       "      <td>0.03553</td>\n",
       "      <td>1.32629</td>\n",
       "      <td>1.32261</td>\n",
       "      <td>0.90563</td>\n",
       "      <td>0.63297</td>\n",
       "      <td>0.32957</td>\n",
       "      <td>0.45811</td>\n",
       "      <td>2.45176</td>\n",
       "    </tr>\n",
       "    <tr>\n",
       "      <th>...</th>\n",
       "      <td>...</td>\n",
       "      <td>...</td>\n",
       "      <td>...</td>\n",
       "      <td>...</td>\n",
       "      <td>...</td>\n",
       "      <td>...</td>\n",
       "      <td>...</td>\n",
       "      <td>...</td>\n",
       "      <td>...</td>\n",
       "      <td>...</td>\n",
       "      <td>...</td>\n",
       "      <td>...</td>\n",
       "    </tr>\n",
       "    <tr>\n",
       "      <th>153</th>\n",
       "      <td>Rwanda</td>\n",
       "      <td>Sub-Saharan Africa</td>\n",
       "      <td>154</td>\n",
       "      <td>3.465</td>\n",
       "      <td>0.03464</td>\n",
       "      <td>0.22208</td>\n",
       "      <td>0.77370</td>\n",
       "      <td>0.42864</td>\n",
       "      <td>0.59201</td>\n",
       "      <td>0.55191</td>\n",
       "      <td>0.22628</td>\n",
       "      <td>0.67042</td>\n",
       "    </tr>\n",
       "    <tr>\n",
       "      <th>154</th>\n",
       "      <td>Benin</td>\n",
       "      <td>Sub-Saharan Africa</td>\n",
       "      <td>155</td>\n",
       "      <td>3.340</td>\n",
       "      <td>0.03656</td>\n",
       "      <td>0.28665</td>\n",
       "      <td>0.35386</td>\n",
       "      <td>0.31910</td>\n",
       "      <td>0.48450</td>\n",
       "      <td>0.08010</td>\n",
       "      <td>0.18260</td>\n",
       "      <td>1.63328</td>\n",
       "    </tr>\n",
       "    <tr>\n",
       "      <th>155</th>\n",
       "      <td>Syria</td>\n",
       "      <td>Middle East and Northern Africa</td>\n",
       "      <td>156</td>\n",
       "      <td>3.006</td>\n",
       "      <td>0.05015</td>\n",
       "      <td>0.66320</td>\n",
       "      <td>0.47489</td>\n",
       "      <td>0.72193</td>\n",
       "      <td>0.15684</td>\n",
       "      <td>0.18906</td>\n",
       "      <td>0.47179</td>\n",
       "      <td>0.32858</td>\n",
       "    </tr>\n",
       "    <tr>\n",
       "      <th>156</th>\n",
       "      <td>Burundi</td>\n",
       "      <td>Sub-Saharan Africa</td>\n",
       "      <td>157</td>\n",
       "      <td>2.905</td>\n",
       "      <td>0.08658</td>\n",
       "      <td>0.01530</td>\n",
       "      <td>0.41587</td>\n",
       "      <td>0.22396</td>\n",
       "      <td>0.11850</td>\n",
       "      <td>0.10062</td>\n",
       "      <td>0.19727</td>\n",
       "      <td>1.83302</td>\n",
       "    </tr>\n",
       "    <tr>\n",
       "      <th>157</th>\n",
       "      <td>Togo</td>\n",
       "      <td>Sub-Saharan Africa</td>\n",
       "      <td>158</td>\n",
       "      <td>2.839</td>\n",
       "      <td>0.06727</td>\n",
       "      <td>0.20868</td>\n",
       "      <td>0.13995</td>\n",
       "      <td>0.28443</td>\n",
       "      <td>0.36453</td>\n",
       "      <td>0.10731</td>\n",
       "      <td>0.16681</td>\n",
       "      <td>1.56726</td>\n",
       "    </tr>\n",
       "  </tbody>\n",
       "</table>\n",
       "<p>158 rows × 12 columns</p>\n",
       "</div>"
      ],
      "text/plain": [
       "         Country                           Region  Happiness Rank  \\\n",
       "0    Switzerland                   Western Europe               1   \n",
       "1        Iceland                   Western Europe               2   \n",
       "2        Denmark                   Western Europe               3   \n",
       "3         Norway                   Western Europe               4   \n",
       "4         Canada                    North America               5   \n",
       "..           ...                              ...             ...   \n",
       "153       Rwanda               Sub-Saharan Africa             154   \n",
       "154        Benin               Sub-Saharan Africa             155   \n",
       "155        Syria  Middle East and Northern Africa             156   \n",
       "156      Burundi               Sub-Saharan Africa             157   \n",
       "157         Togo               Sub-Saharan Africa             158   \n",
       "\n",
       "     Happiness Score  Standard Error  Economy (GDP per Capita)   Family  \\\n",
       "0              7.587         0.03411                   1.39651  1.34951   \n",
       "1              7.561         0.04884                   1.30232  1.40223   \n",
       "2              7.527         0.03328                   1.32548  1.36058   \n",
       "3              7.522         0.03880                   1.45900  1.33095   \n",
       "4              7.427         0.03553                   1.32629  1.32261   \n",
       "..               ...             ...                       ...      ...   \n",
       "153            3.465         0.03464                   0.22208  0.77370   \n",
       "154            3.340         0.03656                   0.28665  0.35386   \n",
       "155            3.006         0.05015                   0.66320  0.47489   \n",
       "156            2.905         0.08658                   0.01530  0.41587   \n",
       "157            2.839         0.06727                   0.20868  0.13995   \n",
       "\n",
       "     Health (Life Expectancy)  Freedom  Trust (Government Corruption)  \\\n",
       "0                     0.94143  0.66557                        0.41978   \n",
       "1                     0.94784  0.62877                        0.14145   \n",
       "2                     0.87464  0.64938                        0.48357   \n",
       "3                     0.88521  0.66973                        0.36503   \n",
       "4                     0.90563  0.63297                        0.32957   \n",
       "..                        ...      ...                            ...   \n",
       "153                   0.42864  0.59201                        0.55191   \n",
       "154                   0.31910  0.48450                        0.08010   \n",
       "155                   0.72193  0.15684                        0.18906   \n",
       "156                   0.22396  0.11850                        0.10062   \n",
       "157                   0.28443  0.36453                        0.10731   \n",
       "\n",
       "     Generosity  Dystopia Residual  \n",
       "0       0.29678            2.51738  \n",
       "1       0.43630            2.70201  \n",
       "2       0.34139            2.49204  \n",
       "3       0.34699            2.46531  \n",
       "4       0.45811            2.45176  \n",
       "..          ...                ...  \n",
       "153     0.22628            0.67042  \n",
       "154     0.18260            1.63328  \n",
       "155     0.47179            0.32858  \n",
       "156     0.19727            1.83302  \n",
       "157     0.16681            1.56726  \n",
       "\n",
       "[158 rows x 12 columns]"
      ]
     },
     "execution_count": 5,
     "metadata": {},
     "output_type": "execute_result"
    }
   ],
   "source": [
    "health=pd.read_csv(r'C:\\Users\\HP\\Files-main\\happiness_score_dataset.csv')\n",
    "health"
   ]
  },
  {
   "cell_type": "markdown",
   "id": "19de6ac4",
   "metadata": {},
   "source": [
    "Detailing the dataset.\n",
    "\n",
    "The following are the columns provided in the given dataset:\n",
    "1. Country : Name of the country\n",
    "2. Region : where the country belongs to\n",
    "3. Happiness Rank : Ranking is given according to the happiness score of each country.\n",
    "4. Happiness Score: generally the range will be 0-10. 10 is for the best and 0 is worst . it is based several factors.\n",
    "5. Standard Error: Error of the Happiness Score.\n",
    "6. Economy(GDP per Capita): It is calculated by dividing the country's GDP bu the country's total population.\n",
    "7. Family: It contributes to the calculation of happiness score.\n",
    "8. Health(Life Expectancy):Average number of years of life spent in good health that a person would be expected to live.\n",
    "9. Freedom: Happiness explained by freedom to make life choices has increased between 2015 and 2019.\n",
    "10. Trust (Government Corruption): The extent  to which perception of corruption contributes to the calculation of happiness score.\n",
    "11. Generosity: It is function of the national average of GWP responses to the question.\n",
    "12. Dystopia Residual: The Dystopia Residual metric actually is the Dystopia Happiness Score(1.85) + the Residual value or the unexplained value for each country."
   ]
  },
  {
   "cell_type": "code",
   "execution_count": 6,
   "id": "db97ed65",
   "metadata": {},
   "outputs": [
    {
     "data": {
      "text/html": [
       "<div>\n",
       "<style scoped>\n",
       "    .dataframe tbody tr th:only-of-type {\n",
       "        vertical-align: middle;\n",
       "    }\n",
       "\n",
       "    .dataframe tbody tr th {\n",
       "        vertical-align: top;\n",
       "    }\n",
       "\n",
       "    .dataframe thead th {\n",
       "        text-align: right;\n",
       "    }\n",
       "</style>\n",
       "<table border=\"1\" class=\"dataframe\">\n",
       "  <thead>\n",
       "    <tr style=\"text-align: right;\">\n",
       "      <th></th>\n",
       "      <th>Country</th>\n",
       "      <th>Region</th>\n",
       "      <th>Happiness Rank</th>\n",
       "      <th>Happiness Score</th>\n",
       "      <th>Standard Error</th>\n",
       "      <th>Economy (GDP per Capita)</th>\n",
       "      <th>Family</th>\n",
       "      <th>Health (Life Expectancy)</th>\n",
       "      <th>Freedom</th>\n",
       "      <th>Trust (Government Corruption)</th>\n",
       "      <th>Generosity</th>\n",
       "      <th>Dystopia Residual</th>\n",
       "    </tr>\n",
       "  </thead>\n",
       "  <tbody>\n",
       "    <tr>\n",
       "      <th>0</th>\n",
       "      <td>Switzerland</td>\n",
       "      <td>Western Europe</td>\n",
       "      <td>1</td>\n",
       "      <td>7.587</td>\n",
       "      <td>0.03411</td>\n",
       "      <td>1.39651</td>\n",
       "      <td>1.34951</td>\n",
       "      <td>0.94143</td>\n",
       "      <td>0.66557</td>\n",
       "      <td>0.41978</td>\n",
       "      <td>0.29678</td>\n",
       "      <td>2.51738</td>\n",
       "    </tr>\n",
       "    <tr>\n",
       "      <th>1</th>\n",
       "      <td>Iceland</td>\n",
       "      <td>Western Europe</td>\n",
       "      <td>2</td>\n",
       "      <td>7.561</td>\n",
       "      <td>0.04884</td>\n",
       "      <td>1.30232</td>\n",
       "      <td>1.40223</td>\n",
       "      <td>0.94784</td>\n",
       "      <td>0.62877</td>\n",
       "      <td>0.14145</td>\n",
       "      <td>0.43630</td>\n",
       "      <td>2.70201</td>\n",
       "    </tr>\n",
       "    <tr>\n",
       "      <th>2</th>\n",
       "      <td>Denmark</td>\n",
       "      <td>Western Europe</td>\n",
       "      <td>3</td>\n",
       "      <td>7.527</td>\n",
       "      <td>0.03328</td>\n",
       "      <td>1.32548</td>\n",
       "      <td>1.36058</td>\n",
       "      <td>0.87464</td>\n",
       "      <td>0.64938</td>\n",
       "      <td>0.48357</td>\n",
       "      <td>0.34139</td>\n",
       "      <td>2.49204</td>\n",
       "    </tr>\n",
       "    <tr>\n",
       "      <th>3</th>\n",
       "      <td>Norway</td>\n",
       "      <td>Western Europe</td>\n",
       "      <td>4</td>\n",
       "      <td>7.522</td>\n",
       "      <td>0.03880</td>\n",
       "      <td>1.45900</td>\n",
       "      <td>1.33095</td>\n",
       "      <td>0.88521</td>\n",
       "      <td>0.66973</td>\n",
       "      <td>0.36503</td>\n",
       "      <td>0.34699</td>\n",
       "      <td>2.46531</td>\n",
       "    </tr>\n",
       "    <tr>\n",
       "      <th>4</th>\n",
       "      <td>Canada</td>\n",
       "      <td>North America</td>\n",
       "      <td>5</td>\n",
       "      <td>7.427</td>\n",
       "      <td>0.03553</td>\n",
       "      <td>1.32629</td>\n",
       "      <td>1.32261</td>\n",
       "      <td>0.90563</td>\n",
       "      <td>0.63297</td>\n",
       "      <td>0.32957</td>\n",
       "      <td>0.45811</td>\n",
       "      <td>2.45176</td>\n",
       "    </tr>\n",
       "  </tbody>\n",
       "</table>\n",
       "</div>"
      ],
      "text/plain": [
       "       Country          Region  Happiness Rank  Happiness Score  \\\n",
       "0  Switzerland  Western Europe               1            7.587   \n",
       "1      Iceland  Western Europe               2            7.561   \n",
       "2      Denmark  Western Europe               3            7.527   \n",
       "3       Norway  Western Europe               4            7.522   \n",
       "4       Canada   North America               5            7.427   \n",
       "\n",
       "   Standard Error  Economy (GDP per Capita)   Family  \\\n",
       "0         0.03411                   1.39651  1.34951   \n",
       "1         0.04884                   1.30232  1.40223   \n",
       "2         0.03328                   1.32548  1.36058   \n",
       "3         0.03880                   1.45900  1.33095   \n",
       "4         0.03553                   1.32629  1.32261   \n",
       "\n",
       "   Health (Life Expectancy)  Freedom  Trust (Government Corruption)  \\\n",
       "0                   0.94143  0.66557                        0.41978   \n",
       "1                   0.94784  0.62877                        0.14145   \n",
       "2                   0.87464  0.64938                        0.48357   \n",
       "3                   0.88521  0.66973                        0.36503   \n",
       "4                   0.90563  0.63297                        0.32957   \n",
       "\n",
       "   Generosity  Dystopia Residual  \n",
       "0     0.29678            2.51738  \n",
       "1     0.43630            2.70201  \n",
       "2     0.34139            2.49204  \n",
       "3     0.34699            2.46531  \n",
       "4     0.45811            2.45176  "
      ]
     },
     "execution_count": 6,
     "metadata": {},
     "output_type": "execute_result"
    }
   ],
   "source": [
    "health.head()"
   ]
  },
  {
   "cell_type": "markdown",
   "id": "bfcaeec4",
   "metadata": {},
   "source": [
    "Exploratory Data analysis"
   ]
  },
  {
   "cell_type": "code",
   "execution_count": 7,
   "id": "dd1c6217",
   "metadata": {},
   "outputs": [
    {
     "data": {
      "text/plain": [
       "(158, 12)"
      ]
     },
     "execution_count": 7,
     "metadata": {},
     "output_type": "execute_result"
    }
   ],
   "source": [
    "health.shape"
   ]
  },
  {
   "cell_type": "code",
   "execution_count": 8,
   "id": "94bef21f",
   "metadata": {},
   "outputs": [
    {
     "data": {
      "text/plain": [
       "Country                          0\n",
       "Region                           0\n",
       "Happiness Rank                   0\n",
       "Happiness Score                  0\n",
       "Standard Error                   0\n",
       "Economy (GDP per Capita)         0\n",
       "Family                           0\n",
       "Health (Life Expectancy)         0\n",
       "Freedom                          0\n",
       "Trust (Government Corruption)    0\n",
       "Generosity                       0\n",
       "Dystopia Residual                0\n",
       "dtype: int64"
      ]
     },
     "execution_count": 8,
     "metadata": {},
     "output_type": "execute_result"
    }
   ],
   "source": [
    "health.isna().sum()"
   ]
  },
  {
   "cell_type": "markdown",
   "id": "ef88fad3",
   "metadata": {},
   "source": [
    "no null presented in the given dataset"
   ]
  },
  {
   "cell_type": "code",
   "execution_count": 9,
   "id": "17404c3c",
   "metadata": {},
   "outputs": [
    {
     "data": {
      "text/plain": [
       "Country                           object\n",
       "Region                            object\n",
       "Happiness Rank                     int64\n",
       "Happiness Score                  float64\n",
       "Standard Error                   float64\n",
       "Economy (GDP per Capita)         float64\n",
       "Family                           float64\n",
       "Health (Life Expectancy)         float64\n",
       "Freedom                          float64\n",
       "Trust (Government Corruption)    float64\n",
       "Generosity                       float64\n",
       "Dystopia Residual                float64\n",
       "dtype: object"
      ]
     },
     "execution_count": 9,
     "metadata": {},
     "output_type": "execute_result"
    }
   ],
   "source": [
    "health.dtypes"
   ]
  },
  {
   "cell_type": "markdown",
   "id": "e13c7265",
   "metadata": {},
   "source": [
    "there are two categorical columns and ten numerical columns presented."
   ]
  },
  {
   "cell_type": "code",
   "execution_count": 10,
   "id": "99d1aadb",
   "metadata": {},
   "outputs": [
    {
     "name": "stdout",
     "output_type": "stream",
     "text": [
      "<class 'pandas.core.frame.DataFrame'>\n",
      "RangeIndex: 158 entries, 0 to 157\n",
      "Data columns (total 12 columns):\n",
      " #   Column                         Non-Null Count  Dtype  \n",
      "---  ------                         --------------  -----  \n",
      " 0   Country                        158 non-null    object \n",
      " 1   Region                         158 non-null    object \n",
      " 2   Happiness Rank                 158 non-null    int64  \n",
      " 3   Happiness Score                158 non-null    float64\n",
      " 4   Standard Error                 158 non-null    float64\n",
      " 5   Economy (GDP per Capita)       158 non-null    float64\n",
      " 6   Family                         158 non-null    float64\n",
      " 7   Health (Life Expectancy)       158 non-null    float64\n",
      " 8   Freedom                        158 non-null    float64\n",
      " 9   Trust (Government Corruption)  158 non-null    float64\n",
      " 10  Generosity                     158 non-null    float64\n",
      " 11  Dystopia Residual              158 non-null    float64\n",
      "dtypes: float64(9), int64(1), object(2)\n",
      "memory usage: 14.9+ KB\n"
     ]
    }
   ],
   "source": [
    "health.info()"
   ]
  },
  {
   "cell_type": "markdown",
   "id": "dc46671a",
   "metadata": {},
   "source": [
    "there are both categorical and numerical columns presented. and no nulls"
   ]
  },
  {
   "cell_type": "code",
   "execution_count": 11,
   "id": "67177e59",
   "metadata": {},
   "outputs": [],
   "source": [
    "#droping rank\n",
    "health=health.drop('Happiness Rank',axis=1)"
   ]
  },
  {
   "cell_type": "code",
   "execution_count": 12,
   "id": "fd6253e3",
   "metadata": {},
   "outputs": [],
   "source": [
    "#droping Country\n",
    "health=health.drop('Country', axis=1)"
   ]
  },
  {
   "cell_type": "code",
   "execution_count": 13,
   "id": "07e927a1",
   "metadata": {},
   "outputs": [
    {
     "data": {
      "text/plain": [
       "array(['Western Europe', 'North America', 'Australia and New Zealand',\n",
       "       'Middle East and Northern Africa', 'Latin America and Caribbean',\n",
       "       'Southeastern Asia', 'Central and Eastern Europe', 'Eastern Asia',\n",
       "       'Sub-Saharan Africa', 'Southern Asia'], dtype=object)"
      ]
     },
     "execution_count": 13,
     "metadata": {},
     "output_type": "execute_result"
    }
   ],
   "source": [
    "health['Region'].unique()\n"
   ]
  },
  {
   "cell_type": "code",
   "execution_count": 14,
   "id": "75000347",
   "metadata": {},
   "outputs": [
    {
     "data": {
      "text/plain": [
       "Sub-Saharan Africa                 40\n",
       "Central and Eastern Europe         29\n",
       "Latin America and Caribbean        22\n",
       "Western Europe                     21\n",
       "Middle East and Northern Africa    20\n",
       "Southeastern Asia                   9\n",
       "Southern Asia                       7\n",
       "Eastern Asia                        6\n",
       "North America                       2\n",
       "Australia and New Zealand           2\n",
       "Name: Region, dtype: int64"
      ]
     },
     "execution_count": 14,
     "metadata": {},
     "output_type": "execute_result"
    }
   ],
   "source": [
    "health['Region'].value_counts()"
   ]
  },
  {
   "cell_type": "code",
   "execution_count": 15,
   "id": "e624fd7a",
   "metadata": {},
   "outputs": [
    {
     "data": {
      "text/html": [
       "<div>\n",
       "<style scoped>\n",
       "    .dataframe tbody tr th:only-of-type {\n",
       "        vertical-align: middle;\n",
       "    }\n",
       "\n",
       "    .dataframe tbody tr th {\n",
       "        vertical-align: top;\n",
       "    }\n",
       "\n",
       "    .dataframe thead th {\n",
       "        text-align: right;\n",
       "    }\n",
       "</style>\n",
       "<table border=\"1\" class=\"dataframe\">\n",
       "  <thead>\n",
       "    <tr style=\"text-align: right;\">\n",
       "      <th></th>\n",
       "      <th>Happiness Score</th>\n",
       "      <th>Standard Error</th>\n",
       "      <th>Economy (GDP per Capita)</th>\n",
       "      <th>Family</th>\n",
       "      <th>Health (Life Expectancy)</th>\n",
       "      <th>Freedom</th>\n",
       "      <th>Trust (Government Corruption)</th>\n",
       "      <th>Generosity</th>\n",
       "      <th>Dystopia Residual</th>\n",
       "    </tr>\n",
       "    <tr>\n",
       "      <th>Region</th>\n",
       "      <th></th>\n",
       "      <th></th>\n",
       "      <th></th>\n",
       "      <th></th>\n",
       "      <th></th>\n",
       "      <th></th>\n",
       "      <th></th>\n",
       "      <th></th>\n",
       "      <th></th>\n",
       "    </tr>\n",
       "  </thead>\n",
       "  <tbody>\n",
       "    <tr>\n",
       "      <th>Australia and New Zealand</th>\n",
       "      <td>14.570</td>\n",
       "      <td>0.07454</td>\n",
       "      <td>2.58376</td>\n",
       "      <td>2.62890</td>\n",
       "      <td>1.83993</td>\n",
       "      <td>1.29062</td>\n",
       "      <td>0.78559</td>\n",
       "      <td>0.91063</td>\n",
       "      <td>4.53071</td>\n",
       "    </tr>\n",
       "    <tr>\n",
       "      <th>Central and Eastern Europe</th>\n",
       "      <td>154.655</td>\n",
       "      <td>1.31102</td>\n",
       "      <td>27.33071</td>\n",
       "      <td>30.53823</td>\n",
       "      <td>20.84444</td>\n",
       "      <td>10.38979</td>\n",
       "      <td>2.51354</td>\n",
       "      <td>4.41565</td>\n",
       "      <td>58.62059</td>\n",
       "    </tr>\n",
       "    <tr>\n",
       "      <th>Eastern Asia</th>\n",
       "      <td>33.757</td>\n",
       "      <td>0.22335</td>\n",
       "      <td>6.91068</td>\n",
       "      <td>6.59656</td>\n",
       "      <td>5.26433</td>\n",
       "      <td>2.77494</td>\n",
       "      <td>0.76617</td>\n",
       "      <td>1.35531</td>\n",
       "      <td>10.08964</td>\n",
       "    </tr>\n",
       "    <tr>\n",
       "      <th>Latin America and Caribbean</th>\n",
       "      <td>135.183</td>\n",
       "      <td>1.34479</td>\n",
       "      <td>19.28994</td>\n",
       "      <td>24.30385</td>\n",
       "      <td>15.48515</td>\n",
       "      <td>11.03827</td>\n",
       "      <td>2.57778</td>\n",
       "      <td>4.79133</td>\n",
       "      <td>57.69670</td>\n",
       "    </tr>\n",
       "    <tr>\n",
       "      <th>Middle East and Northern Africa</th>\n",
       "      <td>108.138</td>\n",
       "      <td>0.92674</td>\n",
       "      <td>21.33947</td>\n",
       "      <td>18.40980</td>\n",
       "      <td>14.11231</td>\n",
       "      <td>7.23502</td>\n",
       "      <td>3.63404</td>\n",
       "      <td>3.80751</td>\n",
       "      <td>39.60017</td>\n",
       "    </tr>\n",
       "    <tr>\n",
       "      <th>North America</th>\n",
       "      <td>14.546</td>\n",
       "      <td>0.07392</td>\n",
       "      <td>2.72080</td>\n",
       "      <td>2.56972</td>\n",
       "      <td>1.76742</td>\n",
       "      <td>1.17901</td>\n",
       "      <td>0.48847</td>\n",
       "      <td>0.85916</td>\n",
       "      <td>4.96187</td>\n",
       "    </tr>\n",
       "    <tr>\n",
       "      <th>Southeastern Asia</th>\n",
       "      <td>47.857</td>\n",
       "      <td>0.38422</td>\n",
       "      <td>7.10149</td>\n",
       "      <td>8.46421</td>\n",
       "      <td>6.09621</td>\n",
       "      <td>5.01394</td>\n",
       "      <td>1.36148</td>\n",
       "      <td>3.77335</td>\n",
       "      <td>16.04718</td>\n",
       "    </tr>\n",
       "    <tr>\n",
       "      <th>Southern Asia</th>\n",
       "      <td>32.066</td>\n",
       "      <td>0.22513</td>\n",
       "      <td>3.92340</td>\n",
       "      <td>4.51725</td>\n",
       "      <td>3.78581</td>\n",
       "      <td>2.61336</td>\n",
       "      <td>0.71775</td>\n",
       "      <td>2.39000</td>\n",
       "      <td>14.11738</td>\n",
       "    </tr>\n",
       "    <tr>\n",
       "      <th>Sub-Saharan Africa</th>\n",
       "      <td>168.112</td>\n",
       "      <td>2.21195</td>\n",
       "      <td>15.21892</td>\n",
       "      <td>32.36340</td>\n",
       "      <td>11.29327</td>\n",
       "      <td>14.63776</td>\n",
       "      <td>4.95511</td>\n",
       "      <td>8.84547</td>\n",
       "      <td>80.79920</td>\n",
       "    </tr>\n",
       "    <tr>\n",
       "      <th>Western Europe</th>\n",
       "      <td>140.482</td>\n",
       "      <td>0.79013</td>\n",
       "      <td>27.27051</td>\n",
       "      <td>26.19334</td>\n",
       "      <td>19.09211</td>\n",
       "      <td>11.54845</td>\n",
       "      <td>4.86072</td>\n",
       "      <td>6.34428</td>\n",
       "      <td>45.17489</td>\n",
       "    </tr>\n",
       "  </tbody>\n",
       "</table>\n",
       "</div>"
      ],
      "text/plain": [
       "                                 Happiness Score  Standard Error  \\\n",
       "Region                                                             \n",
       "Australia and New Zealand                 14.570         0.07454   \n",
       "Central and Eastern Europe               154.655         1.31102   \n",
       "Eastern Asia                              33.757         0.22335   \n",
       "Latin America and Caribbean              135.183         1.34479   \n",
       "Middle East and Northern Africa          108.138         0.92674   \n",
       "North America                             14.546         0.07392   \n",
       "Southeastern Asia                         47.857         0.38422   \n",
       "Southern Asia                             32.066         0.22513   \n",
       "Sub-Saharan Africa                       168.112         2.21195   \n",
       "Western Europe                           140.482         0.79013   \n",
       "\n",
       "                                 Economy (GDP per Capita)    Family  \\\n",
       "Region                                                                \n",
       "Australia and New Zealand                         2.58376   2.62890   \n",
       "Central and Eastern Europe                       27.33071  30.53823   \n",
       "Eastern Asia                                      6.91068   6.59656   \n",
       "Latin America and Caribbean                      19.28994  24.30385   \n",
       "Middle East and Northern Africa                  21.33947  18.40980   \n",
       "North America                                     2.72080   2.56972   \n",
       "Southeastern Asia                                 7.10149   8.46421   \n",
       "Southern Asia                                     3.92340   4.51725   \n",
       "Sub-Saharan Africa                               15.21892  32.36340   \n",
       "Western Europe                                   27.27051  26.19334   \n",
       "\n",
       "                                 Health (Life Expectancy)   Freedom  \\\n",
       "Region                                                                \n",
       "Australia and New Zealand                         1.83993   1.29062   \n",
       "Central and Eastern Europe                       20.84444  10.38979   \n",
       "Eastern Asia                                      5.26433   2.77494   \n",
       "Latin America and Caribbean                      15.48515  11.03827   \n",
       "Middle East and Northern Africa                  14.11231   7.23502   \n",
       "North America                                     1.76742   1.17901   \n",
       "Southeastern Asia                                 6.09621   5.01394   \n",
       "Southern Asia                                     3.78581   2.61336   \n",
       "Sub-Saharan Africa                               11.29327  14.63776   \n",
       "Western Europe                                   19.09211  11.54845   \n",
       "\n",
       "                                 Trust (Government Corruption)  Generosity  \\\n",
       "Region                                                                       \n",
       "Australia and New Zealand                              0.78559     0.91063   \n",
       "Central and Eastern Europe                             2.51354     4.41565   \n",
       "Eastern Asia                                           0.76617     1.35531   \n",
       "Latin America and Caribbean                            2.57778     4.79133   \n",
       "Middle East and Northern Africa                        3.63404     3.80751   \n",
       "North America                                          0.48847     0.85916   \n",
       "Southeastern Asia                                      1.36148     3.77335   \n",
       "Southern Asia                                          0.71775     2.39000   \n",
       "Sub-Saharan Africa                                     4.95511     8.84547   \n",
       "Western Europe                                         4.86072     6.34428   \n",
       "\n",
       "                                 Dystopia Residual  \n",
       "Region                                              \n",
       "Australia and New Zealand                  4.53071  \n",
       "Central and Eastern Europe                58.62059  \n",
       "Eastern Asia                              10.08964  \n",
       "Latin America and Caribbean               57.69670  \n",
       "Middle East and Northern Africa           39.60017  \n",
       "North America                              4.96187  \n",
       "Southeastern Asia                         16.04718  \n",
       "Southern Asia                             14.11738  \n",
       "Sub-Saharan Africa                        80.79920  \n",
       "Western Europe                            45.17489  "
      ]
     },
     "execution_count": 15,
     "metadata": {},
     "output_type": "execute_result"
    }
   ],
   "source": [
    "health.groupby(['Region']).sum()"
   ]
  },
  {
   "cell_type": "code",
   "execution_count": 16,
   "id": "c36a45c8",
   "metadata": {},
   "outputs": [
    {
     "data": {
      "text/plain": [
       "(158, 10)"
      ]
     },
     "execution_count": 16,
     "metadata": {},
     "output_type": "execute_result"
    }
   ],
   "source": [
    "health.shape"
   ]
  },
  {
   "cell_type": "code",
   "execution_count": 17,
   "id": "1e1a3564",
   "metadata": {},
   "outputs": [],
   "source": [
    "health=health.set_index('Region')"
   ]
  },
  {
   "cell_type": "code",
   "execution_count": 18,
   "id": "e54781dc",
   "metadata": {},
   "outputs": [
    {
     "data": {
      "text/html": [
       "<div>\n",
       "<style scoped>\n",
       "    .dataframe tbody tr th:only-of-type {\n",
       "        vertical-align: middle;\n",
       "    }\n",
       "\n",
       "    .dataframe tbody tr th {\n",
       "        vertical-align: top;\n",
       "    }\n",
       "\n",
       "    .dataframe thead th {\n",
       "        text-align: right;\n",
       "    }\n",
       "</style>\n",
       "<table border=\"1\" class=\"dataframe\">\n",
       "  <thead>\n",
       "    <tr style=\"text-align: right;\">\n",
       "      <th></th>\n",
       "      <th>Happiness Score</th>\n",
       "      <th>Standard Error</th>\n",
       "      <th>Economy (GDP per Capita)</th>\n",
       "      <th>Family</th>\n",
       "      <th>Health (Life Expectancy)</th>\n",
       "      <th>Freedom</th>\n",
       "      <th>Trust (Government Corruption)</th>\n",
       "      <th>Generosity</th>\n",
       "      <th>Dystopia Residual</th>\n",
       "    </tr>\n",
       "    <tr>\n",
       "      <th>Region</th>\n",
       "      <th></th>\n",
       "      <th></th>\n",
       "      <th></th>\n",
       "      <th></th>\n",
       "      <th></th>\n",
       "      <th></th>\n",
       "      <th></th>\n",
       "      <th></th>\n",
       "      <th></th>\n",
       "    </tr>\n",
       "  </thead>\n",
       "  <tbody>\n",
       "    <tr>\n",
       "      <th>Western Europe</th>\n",
       "      <td>7.587</td>\n",
       "      <td>0.03411</td>\n",
       "      <td>1.39651</td>\n",
       "      <td>1.34951</td>\n",
       "      <td>0.94143</td>\n",
       "      <td>0.66557</td>\n",
       "      <td>0.41978</td>\n",
       "      <td>0.29678</td>\n",
       "      <td>2.51738</td>\n",
       "    </tr>\n",
       "    <tr>\n",
       "      <th>Western Europe</th>\n",
       "      <td>7.561</td>\n",
       "      <td>0.04884</td>\n",
       "      <td>1.30232</td>\n",
       "      <td>1.40223</td>\n",
       "      <td>0.94784</td>\n",
       "      <td>0.62877</td>\n",
       "      <td>0.14145</td>\n",
       "      <td>0.43630</td>\n",
       "      <td>2.70201</td>\n",
       "    </tr>\n",
       "    <tr>\n",
       "      <th>Western Europe</th>\n",
       "      <td>7.527</td>\n",
       "      <td>0.03328</td>\n",
       "      <td>1.32548</td>\n",
       "      <td>1.36058</td>\n",
       "      <td>0.87464</td>\n",
       "      <td>0.64938</td>\n",
       "      <td>0.48357</td>\n",
       "      <td>0.34139</td>\n",
       "      <td>2.49204</td>\n",
       "    </tr>\n",
       "    <tr>\n",
       "      <th>Western Europe</th>\n",
       "      <td>7.522</td>\n",
       "      <td>0.03880</td>\n",
       "      <td>1.45900</td>\n",
       "      <td>1.33095</td>\n",
       "      <td>0.88521</td>\n",
       "      <td>0.66973</td>\n",
       "      <td>0.36503</td>\n",
       "      <td>0.34699</td>\n",
       "      <td>2.46531</td>\n",
       "    </tr>\n",
       "    <tr>\n",
       "      <th>North America</th>\n",
       "      <td>7.427</td>\n",
       "      <td>0.03553</td>\n",
       "      <td>1.32629</td>\n",
       "      <td>1.32261</td>\n",
       "      <td>0.90563</td>\n",
       "      <td>0.63297</td>\n",
       "      <td>0.32957</td>\n",
       "      <td>0.45811</td>\n",
       "      <td>2.45176</td>\n",
       "    </tr>\n",
       "    <tr>\n",
       "      <th>...</th>\n",
       "      <td>...</td>\n",
       "      <td>...</td>\n",
       "      <td>...</td>\n",
       "      <td>...</td>\n",
       "      <td>...</td>\n",
       "      <td>...</td>\n",
       "      <td>...</td>\n",
       "      <td>...</td>\n",
       "      <td>...</td>\n",
       "    </tr>\n",
       "    <tr>\n",
       "      <th>Sub-Saharan Africa</th>\n",
       "      <td>3.465</td>\n",
       "      <td>0.03464</td>\n",
       "      <td>0.22208</td>\n",
       "      <td>0.77370</td>\n",
       "      <td>0.42864</td>\n",
       "      <td>0.59201</td>\n",
       "      <td>0.55191</td>\n",
       "      <td>0.22628</td>\n",
       "      <td>0.67042</td>\n",
       "    </tr>\n",
       "    <tr>\n",
       "      <th>Sub-Saharan Africa</th>\n",
       "      <td>3.340</td>\n",
       "      <td>0.03656</td>\n",
       "      <td>0.28665</td>\n",
       "      <td>0.35386</td>\n",
       "      <td>0.31910</td>\n",
       "      <td>0.48450</td>\n",
       "      <td>0.08010</td>\n",
       "      <td>0.18260</td>\n",
       "      <td>1.63328</td>\n",
       "    </tr>\n",
       "    <tr>\n",
       "      <th>Middle East and Northern Africa</th>\n",
       "      <td>3.006</td>\n",
       "      <td>0.05015</td>\n",
       "      <td>0.66320</td>\n",
       "      <td>0.47489</td>\n",
       "      <td>0.72193</td>\n",
       "      <td>0.15684</td>\n",
       "      <td>0.18906</td>\n",
       "      <td>0.47179</td>\n",
       "      <td>0.32858</td>\n",
       "    </tr>\n",
       "    <tr>\n",
       "      <th>Sub-Saharan Africa</th>\n",
       "      <td>2.905</td>\n",
       "      <td>0.08658</td>\n",
       "      <td>0.01530</td>\n",
       "      <td>0.41587</td>\n",
       "      <td>0.22396</td>\n",
       "      <td>0.11850</td>\n",
       "      <td>0.10062</td>\n",
       "      <td>0.19727</td>\n",
       "      <td>1.83302</td>\n",
       "    </tr>\n",
       "    <tr>\n",
       "      <th>Sub-Saharan Africa</th>\n",
       "      <td>2.839</td>\n",
       "      <td>0.06727</td>\n",
       "      <td>0.20868</td>\n",
       "      <td>0.13995</td>\n",
       "      <td>0.28443</td>\n",
       "      <td>0.36453</td>\n",
       "      <td>0.10731</td>\n",
       "      <td>0.16681</td>\n",
       "      <td>1.56726</td>\n",
       "    </tr>\n",
       "  </tbody>\n",
       "</table>\n",
       "<p>158 rows × 9 columns</p>\n",
       "</div>"
      ],
      "text/plain": [
       "                                 Happiness Score  Standard Error  \\\n",
       "Region                                                             \n",
       "Western Europe                             7.587         0.03411   \n",
       "Western Europe                             7.561         0.04884   \n",
       "Western Europe                             7.527         0.03328   \n",
       "Western Europe                             7.522         0.03880   \n",
       "North America                              7.427         0.03553   \n",
       "...                                          ...             ...   \n",
       "Sub-Saharan Africa                         3.465         0.03464   \n",
       "Sub-Saharan Africa                         3.340         0.03656   \n",
       "Middle East and Northern Africa            3.006         0.05015   \n",
       "Sub-Saharan Africa                         2.905         0.08658   \n",
       "Sub-Saharan Africa                         2.839         0.06727   \n",
       "\n",
       "                                 Economy (GDP per Capita)   Family  \\\n",
       "Region                                                               \n",
       "Western Europe                                    1.39651  1.34951   \n",
       "Western Europe                                    1.30232  1.40223   \n",
       "Western Europe                                    1.32548  1.36058   \n",
       "Western Europe                                    1.45900  1.33095   \n",
       "North America                                     1.32629  1.32261   \n",
       "...                                                   ...      ...   \n",
       "Sub-Saharan Africa                                0.22208  0.77370   \n",
       "Sub-Saharan Africa                                0.28665  0.35386   \n",
       "Middle East and Northern Africa                   0.66320  0.47489   \n",
       "Sub-Saharan Africa                                0.01530  0.41587   \n",
       "Sub-Saharan Africa                                0.20868  0.13995   \n",
       "\n",
       "                                 Health (Life Expectancy)  Freedom  \\\n",
       "Region                                                               \n",
       "Western Europe                                    0.94143  0.66557   \n",
       "Western Europe                                    0.94784  0.62877   \n",
       "Western Europe                                    0.87464  0.64938   \n",
       "Western Europe                                    0.88521  0.66973   \n",
       "North America                                     0.90563  0.63297   \n",
       "...                                                   ...      ...   \n",
       "Sub-Saharan Africa                                0.42864  0.59201   \n",
       "Sub-Saharan Africa                                0.31910  0.48450   \n",
       "Middle East and Northern Africa                   0.72193  0.15684   \n",
       "Sub-Saharan Africa                                0.22396  0.11850   \n",
       "Sub-Saharan Africa                                0.28443  0.36453   \n",
       "\n",
       "                                 Trust (Government Corruption)  Generosity  \\\n",
       "Region                                                                       \n",
       "Western Europe                                         0.41978     0.29678   \n",
       "Western Europe                                         0.14145     0.43630   \n",
       "Western Europe                                         0.48357     0.34139   \n",
       "Western Europe                                         0.36503     0.34699   \n",
       "North America                                          0.32957     0.45811   \n",
       "...                                                        ...         ...   \n",
       "Sub-Saharan Africa                                     0.55191     0.22628   \n",
       "Sub-Saharan Africa                                     0.08010     0.18260   \n",
       "Middle East and Northern Africa                        0.18906     0.47179   \n",
       "Sub-Saharan Africa                                     0.10062     0.19727   \n",
       "Sub-Saharan Africa                                     0.10731     0.16681   \n",
       "\n",
       "                                 Dystopia Residual  \n",
       "Region                                              \n",
       "Western Europe                             2.51738  \n",
       "Western Europe                             2.70201  \n",
       "Western Europe                             2.49204  \n",
       "Western Europe                             2.46531  \n",
       "North America                              2.45176  \n",
       "...                                            ...  \n",
       "Sub-Saharan Africa                         0.67042  \n",
       "Sub-Saharan Africa                         1.63328  \n",
       "Middle East and Northern Africa            0.32858  \n",
       "Sub-Saharan Africa                         1.83302  \n",
       "Sub-Saharan Africa                         1.56726  \n",
       "\n",
       "[158 rows x 9 columns]"
      ]
     },
     "execution_count": 18,
     "metadata": {},
     "output_type": "execute_result"
    }
   ],
   "source": [
    "health"
   ]
  },
  {
   "cell_type": "code",
   "execution_count": 19,
   "id": "7572227d",
   "metadata": {},
   "outputs": [
    {
     "data": {
      "text/plain": [
       "(158, 9)"
      ]
     },
     "execution_count": 19,
     "metadata": {},
     "output_type": "execute_result"
    }
   ],
   "source": [
    "health.shape"
   ]
  },
  {
   "cell_type": "code",
   "execution_count": 20,
   "id": "b81b7ec0",
   "metadata": {},
   "outputs": [
    {
     "name": "stdout",
     "output_type": "stream",
     "text": [
      "<class 'pandas.core.frame.DataFrame'>\n",
      "Index: 158 entries, Western Europe to Sub-Saharan Africa\n",
      "Data columns (total 9 columns):\n",
      " #   Column                         Non-Null Count  Dtype  \n",
      "---  ------                         --------------  -----  \n",
      " 0   Happiness Score                158 non-null    float64\n",
      " 1   Standard Error                 158 non-null    float64\n",
      " 2   Economy (GDP per Capita)       158 non-null    float64\n",
      " 3   Family                         158 non-null    float64\n",
      " 4   Health (Life Expectancy)       158 non-null    float64\n",
      " 5   Freedom                        158 non-null    float64\n",
      " 6   Trust (Government Corruption)  158 non-null    float64\n",
      " 7   Generosity                     158 non-null    float64\n",
      " 8   Dystopia Residual              158 non-null    float64\n",
      "dtypes: float64(9)\n",
      "memory usage: 12.3+ KB\n"
     ]
    }
   ],
   "source": [
    "health.info()"
   ]
  },
  {
   "cell_type": "markdown",
   "id": "29c2bf2e",
   "metadata": {},
   "source": [
    "Now there is no categorical data presented"
   ]
  },
  {
   "cell_type": "code",
   "execution_count": 21,
   "id": "abfb3153",
   "metadata": {},
   "outputs": [
    {
     "data": {
      "text/plain": [
       "['Happiness Score',\n",
       " 'Standard Error',\n",
       " 'Economy (GDP per Capita)',\n",
       " 'Family',\n",
       " 'Health (Life Expectancy)',\n",
       " 'Freedom',\n",
       " 'Trust (Government Corruption)',\n",
       " 'Generosity',\n",
       " 'Dystopia Residual']"
      ]
     },
     "execution_count": 21,
     "metadata": {},
     "output_type": "execute_result"
    }
   ],
   "source": [
    "health.columns.tolist()"
   ]
  },
  {
   "cell_type": "code",
   "execution_count": null,
   "id": "5272266c",
   "metadata": {},
   "outputs": [],
   "source": []
  },
  {
   "cell_type": "markdown",
   "id": "c53d5992",
   "metadata": {},
   "source": [
    "Visualization"
   ]
  },
  {
   "cell_type": "code",
   "execution_count": 22,
   "id": "de904cab",
   "metadata": {},
   "outputs": [
    {
     "data": {
      "text/plain": [
       "<AxesSubplot:xlabel='Happiness Score', ylabel='Density'>"
      ]
     },
     "execution_count": 22,
     "metadata": {},
     "output_type": "execute_result"
    },
    {
     "data": {
      "image/png": "[encoded data removed]",
      "text/plain": [
       "<Figure size 864x432 with 1 Axes>"
      ]
     },
     "metadata": {
      "needs_background": "light"
     },
     "output_type": "display_data"
    }
   ],
   "source": [
    "plt.figure(figsize=(12,6))\n",
    "sns.distplot(health['Happiness Score'])"
   ]
  },
  {
   "cell_type": "code",
   "execution_count": 23,
   "id": "5dbe54d5",
   "metadata": {},
   "outputs": [
    {
     "data": {
      "text/plain": [
       "<AxesSubplot:xlabel='Happiness Score', ylabel='Standard Error'>"
      ]
     },
     "execution_count": 23,
     "metadata": {},
     "output_type": "execute_result"
    },
    {
     "data": {
      "image/png": "[encoded data removed]",
      "text/plain": [
       "<Figure size 864x432 with 1 Axes>"
      ]
     },
     "metadata": {
      "needs_background": "light"
     },
     "output_type": "display_data"
    }
   ],
   "source": [
    "#comparing relation between standard error and target variable(happiness score)\n",
    "plt.figure(figsize=(12,6))\n",
    "sns.scatterplot(y='Standard Error', x='Happiness Score',data=health, palette='Set2')\n"
   ]
  },
  {
   "cell_type": "code",
   "execution_count": 24,
   "id": "212593b8",
   "metadata": {},
   "outputs": [
    {
     "data": {
      "text/plain": [
       "<AxesSubplot:xlabel='Economy (GDP per Capita)', ylabel='Happiness Score'>"
      ]
     },
     "execution_count": 24,
     "metadata": {},
     "output_type": "execute_result"
    },
    {
     "data": {
      "image/png": "[encoded data removed]",
      "text/plain": [
       "<Figure size 864x432 with 1 Axes>"
      ]
     },
     "metadata": {
      "needs_background": "light"
     },
     "output_type": "display_data"
    }
   ],
   "source": [
    "#relationship between Economy and Happiness Score.\n",
    "plt.figure(figsize=(12,6))\n",
    "sns.scatterplot(x='Economy (GDP per Capita)', y='Happiness Score',data=health, palette='Set2')\n"
   ]
  },
  {
   "cell_type": "markdown",
   "id": "de62b4be",
   "metadata": {},
   "source": [
    "As we can see for low economy the score is also low, when the economy increases the score is increased upto some extend then it starts decreased."
   ]
  },
  {
   "cell_type": "code",
   "execution_count": 25,
   "id": "9aba6a42",
   "metadata": {},
   "outputs": [
    {
     "data": {
      "text/plain": [
       "<AxesSubplot:xlabel='Family', ylabel='Happiness Score'>"
      ]
     },
     "execution_count": 25,
     "metadata": {},
     "output_type": "execute_result"
    },
    {
     "data": {
      "image/png": "[encoded data removed]",
      "text/plain": [
       "<Figure size 864x432 with 1 Axes>"
      ]
     },
     "metadata": {
      "needs_background": "light"
     },
     "output_type": "display_data"
    }
   ],
   "source": [
    "#relationship between family and Happiness score\n",
    "plt.figure(figsize=(12,6))\n",
    "sns.scatterplot(x='Family', y='Happiness Score',data=health, palette='Set2')\n"
   ]
  },
  {
   "cell_type": "markdown",
   "id": "0e67a4f9",
   "metadata": {},
   "source": [
    "here the family increases and happiness score also increased. a good relationship is presented."
   ]
  },
  {
   "cell_type": "code",
   "execution_count": 26,
   "id": "51eb3fad",
   "metadata": {},
   "outputs": [
    {
     "data": {
      "text/plain": [
       "<AxesSubplot:xlabel='Health (Life Expectancy)', ylabel='Happiness Score'>"
      ]
     },
     "execution_count": 26,
     "metadata": {},
     "output_type": "execute_result"
    },
    {
     "data": {
      "image/png": "[encoded data removed]",
      "text/plain": [
       "<Figure size 864x432 with 1 Axes>"
      ]
     },
     "metadata": {
      "needs_background": "light"
     },
     "output_type": "display_data"
    }
   ],
   "source": [
    "#relationship between health and happiness score\n",
    "plt.figure(figsize=(12,6))\n",
    "sns.scatterplot(x='Health (Life Expectancy)', y='Happiness Score',data=health, palette='Set2')\n"
   ]
  },
  {
   "cell_type": "code",
   "execution_count": 27,
   "id": "0b609dd4",
   "metadata": {},
   "outputs": [
    {
     "data": {
      "text/plain": [
       "<AxesSubplot:xlabel='Freedom', ylabel='Happiness Score'>"
      ]
     },
     "execution_count": 27,
     "metadata": {},
     "output_type": "execute_result"
    },
    {
     "data": {
      "image/png": "[encoded data removed]",
      "text/plain": [
       "<Figure size 864x432 with 1 Axes>"
      ]
     },
     "metadata": {
      "needs_background": "light"
     },
     "output_type": "display_data"
    }
   ],
   "source": [
    "#relationship between freedom and happiness score\n",
    "plt.figure(figsize=(12,6))\n",
    "sns.scatterplot(x='Freedom', y='Happiness Score',data=health, palette='Set2')\n"
   ]
  },
  {
   "cell_type": "code",
   "execution_count": 28,
   "id": "47776f6b",
   "metadata": {},
   "outputs": [
    {
     "data": {
      "text/plain": [
       "<AxesSubplot:xlabel='Trust (Government Corruption)', ylabel='Happiness Score'>"
      ]
     },
     "execution_count": 28,
     "metadata": {},
     "output_type": "execute_result"
    },
    {
     "data": {
      "image/png": "[encoded data removed]",
      "text/plain": [
       "<Figure size 864x432 with 1 Axes>"
      ]
     },
     "metadata": {
      "needs_background": "light"
     },
     "output_type": "display_data"
    }
   ],
   "source": [
    "#relationship between trust and happiness score\n",
    "plt.figure(figsize=(12,6))\n",
    "sns.scatterplot(x='Trust (Government Corruption)', y='Happiness Score',data=health, palette='Set2')\n"
   ]
  },
  {
   "cell_type": "code",
   "execution_count": 29,
   "id": "73af72b0",
   "metadata": {},
   "outputs": [
    {
     "data": {
      "text/plain": [
       "<AxesSubplot:xlabel='Trust (Government Corruption)', ylabel='Happiness Score'>"
      ]
     },
     "execution_count": 29,
     "metadata": {},
     "output_type": "execute_result"
    },
    {
     "data": {
      "image/png": "[encoded data removed]",
      "text/plain": [
       "<Figure size 864x432 with 1 Axes>"
      ]
     },
     "metadata": {
      "needs_background": "light"
     },
     "output_type": "display_data"
    }
   ],
   "source": [
    "#ralationship between trust and happiness score\n",
    "plt.figure(figsize=(12,6))\n",
    "sns.barplot(x='Trust (Government Corruption)', y='Happiness Score',data=health, palette='Set2')\n"
   ]
  },
  {
   "cell_type": "code",
   "execution_count": 30,
   "id": "58d3e84f",
   "metadata": {},
   "outputs": [
    {
     "data": {
      "text/plain": [
       "<AxesSubplot:xlabel='Freedom', ylabel='Happiness Score'>"
      ]
     },
     "execution_count": 30,
     "metadata": {},
     "output_type": "execute_result"
    },
    {
     "data": {
      "image/png": "[encoded data removed]",
      "text/plain": [
       "<Figure size 864x432 with 1 Axes>"
      ]
     },
     "metadata": {
      "needs_background": "light"
     },
     "output_type": "display_data"
    }
   ],
   "source": [
    "#relationship between freedom and happiness score\n",
    "plt.figure(figsize=(12,6))\n",
    "sns.barplot(x='Freedom', y='Happiness Score',data=health, palette='Set2')\n"
   ]
  },
  {
   "cell_type": "code",
   "execution_count": 31,
   "id": "995fdd28",
   "metadata": {},
   "outputs": [
    {
     "data": {
      "text/plain": [
       "<AxesSubplot:xlabel='Dystopia Residual', ylabel='Happiness Score'>"
      ]
     },
     "execution_count": 31,
     "metadata": {},
     "output_type": "execute_result"
    },
    {
     "data": {
      "image/png": "[encoded data removed]",
      "text/plain": [
       "<Figure size 864x432 with 1 Axes>"
      ]
     },
     "metadata": {
      "needs_background": "light"
     },
     "output_type": "display_data"
    }
   ],
   "source": [
    "#relationship between Dystopia Residual and happiness score\n",
    "plt.figure(figsize=(12,6))\n",
    "sns.scatterplot(x='Dystopia Residual', y='Happiness Score',data=health, palette='Set2')\n"
   ]
  },
  {
   "cell_type": "code",
   "execution_count": 32,
   "id": "30d78ec5",
   "metadata": {},
   "outputs": [
    {
     "data": {
      "text/plain": [
       "<AxesSubplot:xlabel='Dystopia Residual', ylabel='Happiness Score'>"
      ]
     },
     "execution_count": 32,
     "metadata": {},
     "output_type": "execute_result"
    },
    {
     "data": {
      "image/png": "[encoded data removed]",
      "text/plain": [
       "<Figure size 864x432 with 1 Axes>"
      ]
     },
     "metadata": {
      "needs_background": "light"
     },
     "output_type": "display_data"
    }
   ],
   "source": [
    "#relationship between Dystopia Residual and happiness score\n",
    "plt.figure(figsize=(12,6))\n",
    "sns.barplot(x='Dystopia Residual', y='Happiness Score',data=health, palette='Set2')\n"
   ]
  },
  {
   "cell_type": "code",
   "execution_count": 33,
   "id": "635cb337",
   "metadata": {},
   "outputs": [
    {
     "data": {
      "text/plain": [
       "<AxesSubplot:xlabel='Generosity', ylabel='Happiness Score'>"
      ]
     },
     "execution_count": 33,
     "metadata": {},
     "output_type": "execute_result"
    },
    {
     "data": {
      "image/png": "[encoded data removed]",
      "text/plain": [
       "<Figure size 864x432 with 1 Axes>"
      ]
     },
     "metadata": {
      "needs_background": "light"
     },
     "output_type": "display_data"
    }
   ],
   "source": [
    "#relationship between generosity and happiness score\n",
    "plt.figure(figsize=(12,6))\n",
    "sns.scatterplot(x='Generosity', y='Happiness Score',data=health, palette='Set2')\n"
   ]
  },
  {
   "cell_type": "code",
   "execution_count": null,
   "id": "2b7f4e4e",
   "metadata": {},
   "outputs": [],
   "source": []
  },
  {
   "cell_type": "code",
   "execution_count": 34,
   "id": "50a661f7",
   "metadata": {},
   "outputs": [
    {
     "data": {
      "text/plain": [
       "<AxesSubplot:xlabel='Generosity', ylabel='Happiness Score'>"
      ]
     },
     "execution_count": 34,
     "metadata": {},
     "output_type": "execute_result"
    },
    {
     "data": {
      "image/png": "[encoded data removed]",
      "text/plain": [
       "<Figure size 864x432 with 1 Axes>"
      ]
     },
     "metadata": {
      "needs_background": "light"
     },
     "output_type": "display_data"
    }
   ],
   "source": [
    "plt.figure(figsize=(12,6))\n",
    "sns.barplot(x='Generosity', y='Happiness Score',data=health, palette='Set2')\n"
   ]
  },
  {
   "cell_type": "markdown",
   "id": "25ec91c5",
   "metadata": {},
   "source": [
    "From the above graphs there is good relationship between features and label"
   ]
  },
  {
   "cell_type": "code",
   "execution_count": 35,
   "id": "f35f9c20",
   "metadata": {},
   "outputs": [
    {
     "data": {
      "text/html": [
       "<div>\n",
       "<style scoped>\n",
       "    .dataframe tbody tr th:only-of-type {\n",
       "        vertical-align: middle;\n",
       "    }\n",
       "\n",
       "    .dataframe tbody tr th {\n",
       "        vertical-align: top;\n",
       "    }\n",
       "\n",
       "    .dataframe thead th {\n",
       "        text-align: right;\n",
       "    }\n",
       "</style>\n",
       "<table border=\"1\" class=\"dataframe\">\n",
       "  <thead>\n",
       "    <tr style=\"text-align: right;\">\n",
       "      <th></th>\n",
       "      <th>Happiness Score</th>\n",
       "      <th>Standard Error</th>\n",
       "      <th>Economy (GDP per Capita)</th>\n",
       "      <th>Family</th>\n",
       "      <th>Health (Life Expectancy)</th>\n",
       "      <th>Freedom</th>\n",
       "      <th>Trust (Government Corruption)</th>\n",
       "      <th>Generosity</th>\n",
       "      <th>Dystopia Residual</th>\n",
       "    </tr>\n",
       "  </thead>\n",
       "  <tbody>\n",
       "    <tr>\n",
       "      <th>count</th>\n",
       "      <td>158.000000</td>\n",
       "      <td>158.000000</td>\n",
       "      <td>158.000000</td>\n",
       "      <td>158.000000</td>\n",
       "      <td>158.000000</td>\n",
       "      <td>158.000000</td>\n",
       "      <td>158.000000</td>\n",
       "      <td>158.000000</td>\n",
       "      <td>158.000000</td>\n",
       "    </tr>\n",
       "    <tr>\n",
       "      <th>mean</th>\n",
       "      <td>5.375734</td>\n",
       "      <td>0.047885</td>\n",
       "      <td>0.846137</td>\n",
       "      <td>0.991046</td>\n",
       "      <td>0.630259</td>\n",
       "      <td>0.428615</td>\n",
       "      <td>0.143422</td>\n",
       "      <td>0.237296</td>\n",
       "      <td>2.098977</td>\n",
       "    </tr>\n",
       "    <tr>\n",
       "      <th>std</th>\n",
       "      <td>1.145010</td>\n",
       "      <td>0.017146</td>\n",
       "      <td>0.403121</td>\n",
       "      <td>0.272369</td>\n",
       "      <td>0.247078</td>\n",
       "      <td>0.150693</td>\n",
       "      <td>0.120034</td>\n",
       "      <td>0.126685</td>\n",
       "      <td>0.553550</td>\n",
       "    </tr>\n",
       "    <tr>\n",
       "      <th>min</th>\n",
       "      <td>2.839000</td>\n",
       "      <td>0.018480</td>\n",
       "      <td>0.000000</td>\n",
       "      <td>0.000000</td>\n",
       "      <td>0.000000</td>\n",
       "      <td>0.000000</td>\n",
       "      <td>0.000000</td>\n",
       "      <td>0.000000</td>\n",
       "      <td>0.328580</td>\n",
       "    </tr>\n",
       "    <tr>\n",
       "      <th>25%</th>\n",
       "      <td>4.526000</td>\n",
       "      <td>0.037268</td>\n",
       "      <td>0.545808</td>\n",
       "      <td>0.856823</td>\n",
       "      <td>0.439185</td>\n",
       "      <td>0.328330</td>\n",
       "      <td>0.061675</td>\n",
       "      <td>0.150553</td>\n",
       "      <td>1.759410</td>\n",
       "    </tr>\n",
       "    <tr>\n",
       "      <th>50%</th>\n",
       "      <td>5.232500</td>\n",
       "      <td>0.043940</td>\n",
       "      <td>0.910245</td>\n",
       "      <td>1.029510</td>\n",
       "      <td>0.696705</td>\n",
       "      <td>0.435515</td>\n",
       "      <td>0.107220</td>\n",
       "      <td>0.216130</td>\n",
       "      <td>2.095415</td>\n",
       "    </tr>\n",
       "    <tr>\n",
       "      <th>75%</th>\n",
       "      <td>6.243750</td>\n",
       "      <td>0.052300</td>\n",
       "      <td>1.158448</td>\n",
       "      <td>1.214405</td>\n",
       "      <td>0.811013</td>\n",
       "      <td>0.549092</td>\n",
       "      <td>0.180255</td>\n",
       "      <td>0.309883</td>\n",
       "      <td>2.462415</td>\n",
       "    </tr>\n",
       "    <tr>\n",
       "      <th>max</th>\n",
       "      <td>7.587000</td>\n",
       "      <td>0.136930</td>\n",
       "      <td>1.690420</td>\n",
       "      <td>1.402230</td>\n",
       "      <td>1.025250</td>\n",
       "      <td>0.669730</td>\n",
       "      <td>0.551910</td>\n",
       "      <td>0.795880</td>\n",
       "      <td>3.602140</td>\n",
       "    </tr>\n",
       "  </tbody>\n",
       "</table>\n",
       "</div>"
      ],
      "text/plain": [
       "       Happiness Score  Standard Error  Economy (GDP per Capita)      Family  \\\n",
       "count       158.000000      158.000000                158.000000  158.000000   \n",
       "mean          5.375734        0.047885                  0.846137    0.991046   \n",
       "std           1.145010        0.017146                  0.403121    0.272369   \n",
       "min           2.839000        0.018480                  0.000000    0.000000   \n",
       "25%           4.526000        0.037268                  0.545808    0.856823   \n",
       "50%           5.232500        0.043940                  0.910245    1.029510   \n",
       "75%           6.243750        0.052300                  1.158448    1.214405   \n",
       "max           7.587000        0.136930                  1.690420    1.402230   \n",
       "\n",
       "       Health (Life Expectancy)     Freedom  Trust (Government Corruption)  \\\n",
       "count                158.000000  158.000000                     158.000000   \n",
       "mean                   0.630259    0.428615                       0.143422   \n",
       "std                    0.247078    0.150693                       0.120034   \n",
       "min                    0.000000    0.000000                       0.000000   \n",
       "25%                    0.439185    0.328330                       0.061675   \n",
       "50%                    0.696705    0.435515                       0.107220   \n",
       "75%                    0.811013    0.549092                       0.180255   \n",
       "max                    1.025250    0.669730                       0.551910   \n",
       "\n",
       "       Generosity  Dystopia Residual  \n",
       "count  158.000000         158.000000  \n",
       "mean     0.237296           2.098977  \n",
       "std      0.126685           0.553550  \n",
       "min      0.000000           0.328580  \n",
       "25%      0.150553           1.759410  \n",
       "50%      0.216130           2.095415  \n",
       "75%      0.309883           2.462415  \n",
       "max      0.795880           3.602140  "
      ]
     },
     "execution_count": 35,
     "metadata": {},
     "output_type": "execute_result"
    }
   ],
   "source": [
    "health.describe()"
   ]
  },
  {
   "cell_type": "markdown",
   "id": "6fe0d58d",
   "metadata": {},
   "source": [
    "1. By the describe method the following assumptions were made:\n",
    "1. The count value in all coulmns are same, so there is no null values.\n",
    "2. The mean is greater than 50% of median in all columns so there will be right skewness\n",
    "3. we also have std, min, 25%, 50%, 75% and max values from these method."
   ]
  },
  {
   "cell_type": "code",
   "execution_count": 36,
   "id": "f3760007",
   "metadata": {},
   "outputs": [
    {
     "data": {
      "image/png": "[encoded data removed]",
      "text/plain": [
       "<Figure size 1008x864 with 9 Axes>"
      ]
     },
     "metadata": {},
     "output_type": "display_data"
    }
   ],
   "source": [
    "plt.figure(figsize=(14,12),facecolor=\"white\")\n",
    "plotnumber=1\n",
    "for columns in health:\n",
    "    if plotnumber<=9:\n",
    "    \n",
    "        ax=plt.subplot(3,3,plotnumber)\n",
    "        sns.distplot(health[columns])\n",
    "        plt.xlabel(columns, fontsize=16)\n",
    "    plotnumber+=1\n",
    "plt.show()"
   ]
  },
  {
   "cell_type": "code",
   "execution_count": 37,
   "id": "6df64692",
   "metadata": {},
   "outputs": [
    {
     "data": {
      "image/png": "[encoded data removed]",
      "text/plain": [
       "<Figure size 1008x864 with 9 Axes>"
      ]
     },
     "metadata": {},
     "output_type": "display_data"
    }
   ],
   "source": [
    "plt.figure(figsize=(14,12),facecolor=\"white\")\n",
    "plotnumber=1\n",
    "for columns in health:\n",
    "    if plotnumber<=9:\n",
    "    \n",
    "        ax=plt.subplot(3,3,plotnumber)\n",
    "        sns.boxplot(health[columns])\n",
    "        plt.xlabel(columns, fontsize=16)\n",
    "    plotnumber+=1\n",
    "plt.show()"
   ]
  },
  {
   "cell_type": "markdown",
   "id": "ab95533b",
   "metadata": {},
   "source": [
    "There are outliers presented in Standard error, family , trust , generosity and Dystopia residual column to overcome this outliers i am using Zscore method as shown below."
   ]
  },
  {
   "cell_type": "code",
   "execution_count": 38,
   "id": "72e43ab5",
   "metadata": {},
   "outputs": [],
   "source": [
    "#Zscore method\n",
    "from scipy import stats\n",
    "from scipy.stats import zscore\n",
    "data=health.drop('Happiness Score', axis=1)\n",
    "z=np.abs(zscore(data))\n",
    "\n",
    "threshold=3\n",
    "np.where(z>3)\n",
    "data=data[(z<3).all(axis=1)]"
   ]
  },
  {
   "cell_type": "code",
   "execution_count": 39,
   "id": "c8599d70",
   "metadata": {},
   "outputs": [
    {
     "data": {
      "text/html": [
       "<div>\n",
       "<style scoped>\n",
       "    .dataframe tbody tr th:only-of-type {\n",
       "        vertical-align: middle;\n",
       "    }\n",
       "\n",
       "    .dataframe tbody tr th {\n",
       "        vertical-align: top;\n",
       "    }\n",
       "\n",
       "    .dataframe thead th {\n",
       "        text-align: right;\n",
       "    }\n",
       "</style>\n",
       "<table border=\"1\" class=\"dataframe\">\n",
       "  <thead>\n",
       "    <tr style=\"text-align: right;\">\n",
       "      <th></th>\n",
       "      <th>Standard Error</th>\n",
       "      <th>Economy (GDP per Capita)</th>\n",
       "      <th>Family</th>\n",
       "      <th>Health (Life Expectancy)</th>\n",
       "      <th>Freedom</th>\n",
       "      <th>Trust (Government Corruption)</th>\n",
       "      <th>Generosity</th>\n",
       "      <th>Dystopia Residual</th>\n",
       "    </tr>\n",
       "    <tr>\n",
       "      <th>Region</th>\n",
       "      <th></th>\n",
       "      <th></th>\n",
       "      <th></th>\n",
       "      <th></th>\n",
       "      <th></th>\n",
       "      <th></th>\n",
       "      <th></th>\n",
       "      <th></th>\n",
       "    </tr>\n",
       "  </thead>\n",
       "  <tbody>\n",
       "    <tr>\n",
       "      <th>Western Europe</th>\n",
       "      <td>0.805926</td>\n",
       "      <td>1.369621</td>\n",
       "      <td>1.320281</td>\n",
       "      <td>1.263408</td>\n",
       "      <td>1.577438</td>\n",
       "      <td>2.309652</td>\n",
       "      <td>0.471040</td>\n",
       "      <td>0.758258</td>\n",
       "    </tr>\n",
       "    <tr>\n",
       "      <th>Western Europe</th>\n",
       "      <td>0.055889</td>\n",
       "      <td>1.135226</td>\n",
       "      <td>1.514458</td>\n",
       "      <td>1.289434</td>\n",
       "      <td>1.332456</td>\n",
       "      <td>0.016480</td>\n",
       "      <td>1.575856</td>\n",
       "      <td>1.092857</td>\n",
       "    </tr>\n",
       "    <tr>\n",
       "      <th>Western Europe</th>\n",
       "      <td>0.854487</td>\n",
       "      <td>1.192861</td>\n",
       "      <td>1.361054</td>\n",
       "      <td>0.992229</td>\n",
       "      <td>1.469659</td>\n",
       "      <td>2.842774</td>\n",
       "      <td>0.824293</td>\n",
       "      <td>0.712335</td>\n",
       "    </tr>\n",
       "    <tr>\n",
       "      <th>Western Europe</th>\n",
       "      <td>0.531526</td>\n",
       "      <td>1.525130</td>\n",
       "      <td>1.251922</td>\n",
       "      <td>1.035145</td>\n",
       "      <td>1.605131</td>\n",
       "      <td>1.852081</td>\n",
       "      <td>0.868638</td>\n",
       "      <td>0.663893</td>\n",
       "    </tr>\n",
       "    <tr>\n",
       "      <th>North America</th>\n",
       "      <td>0.722845</td>\n",
       "      <td>1.194876</td>\n",
       "      <td>1.221204</td>\n",
       "      <td>1.118054</td>\n",
       "      <td>1.360416</td>\n",
       "      <td>1.555725</td>\n",
       "      <td>1.748563</td>\n",
       "      <td>0.639337</td>\n",
       "    </tr>\n",
       "    <tr>\n",
       "      <th>...</th>\n",
       "      <td>...</td>\n",
       "      <td>...</td>\n",
       "      <td>...</td>\n",
       "      <td>...</td>\n",
       "      <td>...</td>\n",
       "      <td>...</td>\n",
       "      <td>...</td>\n",
       "      <td>...</td>\n",
       "    </tr>\n",
       "    <tr>\n",
       "      <th>Sub-Saharan Africa</th>\n",
       "      <td>0.774917</td>\n",
       "      <td>1.552987</td>\n",
       "      <td>0.800520</td>\n",
       "      <td>0.818610</td>\n",
       "      <td>1.087740</td>\n",
       "      <td>3.413922</td>\n",
       "      <td>0.087228</td>\n",
       "      <td>2.588925</td>\n",
       "    </tr>\n",
       "    <tr>\n",
       "      <th>Sub-Saharan Africa</th>\n",
       "      <td>0.662582</td>\n",
       "      <td>1.392303</td>\n",
       "      <td>2.346860</td>\n",
       "      <td>1.263362</td>\n",
       "      <td>0.372033</td>\n",
       "      <td>0.529210</td>\n",
       "      <td>0.433117</td>\n",
       "      <td>0.843967</td>\n",
       "    </tr>\n",
       "    <tr>\n",
       "      <th>Middle East and Northern Africa</th>\n",
       "      <td>0.132534</td>\n",
       "      <td>0.455245</td>\n",
       "      <td>1.901086</td>\n",
       "      <td>0.372199</td>\n",
       "      <td>1.809238</td>\n",
       "      <td>0.381419</td>\n",
       "      <td>1.856891</td>\n",
       "      <td>3.208430</td>\n",
       "    </tr>\n",
       "    <tr>\n",
       "      <th>Sub-Saharan Africa</th>\n",
       "      <td>2.263962</td>\n",
       "      <td>2.067566</td>\n",
       "      <td>2.118467</td>\n",
       "      <td>1.649648</td>\n",
       "      <td>2.064472</td>\n",
       "      <td>0.357715</td>\n",
       "      <td>0.316950</td>\n",
       "      <td>0.481985</td>\n",
       "    </tr>\n",
       "    <tr>\n",
       "      <th>Sub-Saharan Africa</th>\n",
       "      <td>1.134182</td>\n",
       "      <td>1.586334</td>\n",
       "      <td>3.134725</td>\n",
       "      <td>1.404129</td>\n",
       "      <td>0.426621</td>\n",
       "      <td>0.301803</td>\n",
       "      <td>0.558153</td>\n",
       "      <td>0.963612</td>\n",
       "    </tr>\n",
       "  </tbody>\n",
       "</table>\n",
       "<p>158 rows × 8 columns</p>\n",
       "</div>"
      ],
      "text/plain": [
       "                                 Standard Error  Economy (GDP per Capita)  \\\n",
       "Region                                                                      \n",
       "Western Europe                         0.805926                  1.369621   \n",
       "Western Europe                         0.055889                  1.135226   \n",
       "Western Europe                         0.854487                  1.192861   \n",
       "Western Europe                         0.531526                  1.525130   \n",
       "North America                          0.722845                  1.194876   \n",
       "...                                         ...                       ...   \n",
       "Sub-Saharan Africa                     0.774917                  1.552987   \n",
       "Sub-Saharan Africa                     0.662582                  1.392303   \n",
       "Middle East and Northern Africa        0.132534                  0.455245   \n",
       "Sub-Saharan Africa                     2.263962                  2.067566   \n",
       "Sub-Saharan Africa                     1.134182                  1.586334   \n",
       "\n",
       "                                   Family  Health (Life Expectancy)   Freedom  \\\n",
       "Region                                                                          \n",
       "Western Europe                   1.320281                  1.263408  1.577438   \n",
       "Western Europe                   1.514458                  1.289434  1.332456   \n",
       "Western Europe                   1.361054                  0.992229  1.469659   \n",
       "Western Europe                   1.251922                  1.035145  1.605131   \n",
       "North America                    1.221204                  1.118054  1.360416   \n",
       "...                                   ...                       ...       ...   \n",
       "Sub-Saharan Africa               0.800520                  0.818610  1.087740   \n",
       "Sub-Saharan Africa               2.346860                  1.263362  0.372033   \n",
       "Middle East and Northern Africa  1.901086                  0.372199  1.809238   \n",
       "Sub-Saharan Africa               2.118467                  1.649648  2.064472   \n",
       "Sub-Saharan Africa               3.134725                  1.404129  0.426621   \n",
       "\n",
       "                                 Trust (Government Corruption)  Generosity  \\\n",
       "Region                                                                       \n",
       "Western Europe                                        2.309652    0.471040   \n",
       "Western Europe                                        0.016480    1.575856   \n",
       "Western Europe                                        2.842774    0.824293   \n",
       "Western Europe                                        1.852081    0.868638   \n",
       "North America                                         1.555725    1.748563   \n",
       "...                                                        ...         ...   \n",
       "Sub-Saharan Africa                                    3.413922    0.087228   \n",
       "Sub-Saharan Africa                                    0.529210    0.433117   \n",
       "Middle East and Northern Africa                       0.381419    1.856891   \n",
       "Sub-Saharan Africa                                    0.357715    0.316950   \n",
       "Sub-Saharan Africa                                    0.301803    0.558153   \n",
       "\n",
       "                                 Dystopia Residual  \n",
       "Region                                              \n",
       "Western Europe                            0.758258  \n",
       "Western Europe                            1.092857  \n",
       "Western Europe                            0.712335  \n",
       "Western Europe                            0.663893  \n",
       "North America                             0.639337  \n",
       "...                                            ...  \n",
       "Sub-Saharan Africa                        2.588925  \n",
       "Sub-Saharan Africa                        0.843967  \n",
       "Middle East and Northern Africa           3.208430  \n",
       "Sub-Saharan Africa                        0.481985  \n",
       "Sub-Saharan Africa                        0.963612  \n",
       "\n",
       "[158 rows x 8 columns]"
      ]
     },
     "execution_count": 39,
     "metadata": {},
     "output_type": "execute_result"
    }
   ],
   "source": [
    "z"
   ]
  },
  {
   "cell_type": "code",
   "execution_count": 40,
   "id": "aa9d47f0",
   "metadata": {},
   "outputs": [
    {
     "data": {
      "text/html": [
       "<div>\n",
       "<style scoped>\n",
       "    .dataframe tbody tr th:only-of-type {\n",
       "        vertical-align: middle;\n",
       "    }\n",
       "\n",
       "    .dataframe tbody tr th {\n",
       "        vertical-align: top;\n",
       "    }\n",
       "\n",
       "    .dataframe thead th {\n",
       "        text-align: right;\n",
       "    }\n",
       "</style>\n",
       "<table border=\"1\" class=\"dataframe\">\n",
       "  <thead>\n",
       "    <tr style=\"text-align: right;\">\n",
       "      <th></th>\n",
       "      <th>Standard Error</th>\n",
       "      <th>Economy (GDP per Capita)</th>\n",
       "      <th>Family</th>\n",
       "      <th>Health (Life Expectancy)</th>\n",
       "      <th>Freedom</th>\n",
       "      <th>Trust (Government Corruption)</th>\n",
       "      <th>Generosity</th>\n",
       "      <th>Dystopia Residual</th>\n",
       "    </tr>\n",
       "    <tr>\n",
       "      <th>Region</th>\n",
       "      <th></th>\n",
       "      <th></th>\n",
       "      <th></th>\n",
       "      <th></th>\n",
       "      <th></th>\n",
       "      <th></th>\n",
       "      <th></th>\n",
       "      <th></th>\n",
       "    </tr>\n",
       "  </thead>\n",
       "  <tbody>\n",
       "    <tr>\n",
       "      <th>Western Europe</th>\n",
       "      <td>0.03411</td>\n",
       "      <td>1.39651</td>\n",
       "      <td>1.34951</td>\n",
       "      <td>0.94143</td>\n",
       "      <td>0.66557</td>\n",
       "      <td>0.41978</td>\n",
       "      <td>0.29678</td>\n",
       "      <td>2.51738</td>\n",
       "    </tr>\n",
       "    <tr>\n",
       "      <th>Western Europe</th>\n",
       "      <td>0.04884</td>\n",
       "      <td>1.30232</td>\n",
       "      <td>1.40223</td>\n",
       "      <td>0.94784</td>\n",
       "      <td>0.62877</td>\n",
       "      <td>0.14145</td>\n",
       "      <td>0.43630</td>\n",
       "      <td>2.70201</td>\n",
       "    </tr>\n",
       "    <tr>\n",
       "      <th>Western Europe</th>\n",
       "      <td>0.03328</td>\n",
       "      <td>1.32548</td>\n",
       "      <td>1.36058</td>\n",
       "      <td>0.87464</td>\n",
       "      <td>0.64938</td>\n",
       "      <td>0.48357</td>\n",
       "      <td>0.34139</td>\n",
       "      <td>2.49204</td>\n",
       "    </tr>\n",
       "    <tr>\n",
       "      <th>Western Europe</th>\n",
       "      <td>0.03880</td>\n",
       "      <td>1.45900</td>\n",
       "      <td>1.33095</td>\n",
       "      <td>0.88521</td>\n",
       "      <td>0.66973</td>\n",
       "      <td>0.36503</td>\n",
       "      <td>0.34699</td>\n",
       "      <td>2.46531</td>\n",
       "    </tr>\n",
       "    <tr>\n",
       "      <th>North America</th>\n",
       "      <td>0.03553</td>\n",
       "      <td>1.32629</td>\n",
       "      <td>1.32261</td>\n",
       "      <td>0.90563</td>\n",
       "      <td>0.63297</td>\n",
       "      <td>0.32957</td>\n",
       "      <td>0.45811</td>\n",
       "      <td>2.45176</td>\n",
       "    </tr>\n",
       "    <tr>\n",
       "      <th>...</th>\n",
       "      <td>...</td>\n",
       "      <td>...</td>\n",
       "      <td>...</td>\n",
       "      <td>...</td>\n",
       "      <td>...</td>\n",
       "      <td>...</td>\n",
       "      <td>...</td>\n",
       "      <td>...</td>\n",
       "    </tr>\n",
       "    <tr>\n",
       "      <th>Sub-Saharan Africa</th>\n",
       "      <td>0.05141</td>\n",
       "      <td>0.46534</td>\n",
       "      <td>0.77115</td>\n",
       "      <td>0.15185</td>\n",
       "      <td>0.46866</td>\n",
       "      <td>0.17922</td>\n",
       "      <td>0.20165</td>\n",
       "      <td>1.41723</td>\n",
       "    </tr>\n",
       "    <tr>\n",
       "      <th>Sub-Saharan Africa</th>\n",
       "      <td>0.04324</td>\n",
       "      <td>0.25812</td>\n",
       "      <td>0.85188</td>\n",
       "      <td>0.27125</td>\n",
       "      <td>0.39493</td>\n",
       "      <td>0.12832</td>\n",
       "      <td>0.21747</td>\n",
       "      <td>1.46494</td>\n",
       "    </tr>\n",
       "    <tr>\n",
       "      <th>Southern Asia</th>\n",
       "      <td>0.03084</td>\n",
       "      <td>0.31982</td>\n",
       "      <td>0.30285</td>\n",
       "      <td>0.30335</td>\n",
       "      <td>0.23414</td>\n",
       "      <td>0.09719</td>\n",
       "      <td>0.36510</td>\n",
       "      <td>1.95210</td>\n",
       "    </tr>\n",
       "    <tr>\n",
       "      <th>Sub-Saharan Africa</th>\n",
       "      <td>0.03656</td>\n",
       "      <td>0.28665</td>\n",
       "      <td>0.35386</td>\n",
       "      <td>0.31910</td>\n",
       "      <td>0.48450</td>\n",
       "      <td>0.08010</td>\n",
       "      <td>0.18260</td>\n",
       "      <td>1.63328</td>\n",
       "    </tr>\n",
       "    <tr>\n",
       "      <th>Sub-Saharan Africa</th>\n",
       "      <td>0.08658</td>\n",
       "      <td>0.01530</td>\n",
       "      <td>0.41587</td>\n",
       "      <td>0.22396</td>\n",
       "      <td>0.11850</td>\n",
       "      <td>0.10062</td>\n",
       "      <td>0.19727</td>\n",
       "      <td>1.83302</td>\n",
       "    </tr>\n",
       "  </tbody>\n",
       "</table>\n",
       "<p>149 rows × 8 columns</p>\n",
       "</div>"
      ],
      "text/plain": [
       "                    Standard Error  Economy (GDP per Capita)   Family  \\\n",
       "Region                                                                  \n",
       "Western Europe             0.03411                   1.39651  1.34951   \n",
       "Western Europe             0.04884                   1.30232  1.40223   \n",
       "Western Europe             0.03328                   1.32548  1.36058   \n",
       "Western Europe             0.03880                   1.45900  1.33095   \n",
       "North America              0.03553                   1.32629  1.32261   \n",
       "...                            ...                       ...      ...   \n",
       "Sub-Saharan Africa         0.05141                   0.46534  0.77115   \n",
       "Sub-Saharan Africa         0.04324                   0.25812  0.85188   \n",
       "Southern Asia              0.03084                   0.31982  0.30285   \n",
       "Sub-Saharan Africa         0.03656                   0.28665  0.35386   \n",
       "Sub-Saharan Africa         0.08658                   0.01530  0.41587   \n",
       "\n",
       "                    Health (Life Expectancy)  Freedom  \\\n",
       "Region                                                  \n",
       "Western Europe                       0.94143  0.66557   \n",
       "Western Europe                       0.94784  0.62877   \n",
       "Western Europe                       0.87464  0.64938   \n",
       "Western Europe                       0.88521  0.66973   \n",
       "North America                        0.90563  0.63297   \n",
       "...                                      ...      ...   \n",
       "Sub-Saharan Africa                   0.15185  0.46866   \n",
       "Sub-Saharan Africa                   0.27125  0.39493   \n",
       "Southern Asia                        0.30335  0.23414   \n",
       "Sub-Saharan Africa                   0.31910  0.48450   \n",
       "Sub-Saharan Africa                   0.22396  0.11850   \n",
       "\n",
       "                    Trust (Government Corruption)  Generosity  \\\n",
       "Region                                                          \n",
       "Western Europe                            0.41978     0.29678   \n",
       "Western Europe                            0.14145     0.43630   \n",
       "Western Europe                            0.48357     0.34139   \n",
       "Western Europe                            0.36503     0.34699   \n",
       "North America                             0.32957     0.45811   \n",
       "...                                           ...         ...   \n",
       "Sub-Saharan Africa                        0.17922     0.20165   \n",
       "Sub-Saharan Africa                        0.12832     0.21747   \n",
       "Southern Asia                             0.09719     0.36510   \n",
       "Sub-Saharan Africa                        0.08010     0.18260   \n",
       "Sub-Saharan Africa                        0.10062     0.19727   \n",
       "\n",
       "                    Dystopia Residual  \n",
       "Region                                 \n",
       "Western Europe                2.51738  \n",
       "Western Europe                2.70201  \n",
       "Western Europe                2.49204  \n",
       "Western Europe                2.46531  \n",
       "North America                 2.45176  \n",
       "...                               ...  \n",
       "Sub-Saharan Africa            1.41723  \n",
       "Sub-Saharan Africa            1.46494  \n",
       "Southern Asia                 1.95210  \n",
       "Sub-Saharan Africa            1.63328  \n",
       "Sub-Saharan Africa            1.83302  \n",
       "\n",
       "[149 rows x 8 columns]"
      ]
     },
     "execution_count": 40,
     "metadata": {},
     "output_type": "execute_result"
    }
   ],
   "source": [
    "data"
   ]
  },
  {
   "cell_type": "code",
   "execution_count": 41,
   "id": "9dac32df",
   "metadata": {},
   "outputs": [
    {
     "data": {
      "text/plain": [
       "5.69620253164557"
      ]
     },
     "execution_count": 41,
     "metadata": {},
     "output_type": "execute_result"
    }
   ],
   "source": [
    "loss_data=(158-149)/158*100\n",
    "loss_data"
   ]
  },
  {
   "cell_type": "code",
   "execution_count": 42,
   "id": "ac3aab6e",
   "metadata": {},
   "outputs": [
    {
     "data": {
      "text/plain": [
       "Happiness Score                  0.097769\n",
       "Standard Error                   1.983439\n",
       "Economy (GDP per Capita)        -0.317575\n",
       "Family                          -1.006893\n",
       "Health (Life Expectancy)        -0.705328\n",
       "Freedom                         -0.413462\n",
       "Trust (Government Corruption)    1.385463\n",
       "Generosity                       1.001961\n",
       "Dystopia Residual               -0.238911\n",
       "dtype: float64"
      ]
     },
     "execution_count": 42,
     "metadata": {},
     "output_type": "execute_result"
    }
   ],
   "source": [
    "#skewness\n",
    "health.skew()"
   ]
  },
  {
   "cell_type": "code",
   "execution_count": 43,
   "id": "39f6681e",
   "metadata": {},
   "outputs": [
    {
     "data": {
      "image/png": "[encoded data removed]",
      "text/plain": [
       "<Figure size 1008x864 with 9 Axes>"
      ]
     },
     "metadata": {},
     "output_type": "display_data"
    }
   ],
   "source": [
    "plt.figure(figsize=(14,12),facecolor=\"white\")\n",
    "plotnumber=1\n",
    "for columns in health:\n",
    "    if plotnumber<=9:\n",
    "    \n",
    "        ax=plt.subplot(3,3,plotnumber)\n",
    "        sns.distplot(health[columns])\n",
    "        plt.xlabel(columns, fontsize=16)\n",
    "    plotnumber+=1\n",
    "plt.show()"
   ]
  },
  {
   "cell_type": "code",
   "execution_count": 44,
   "id": "6c647249",
   "metadata": {},
   "outputs": [
    {
     "data": {
      "image/png": "[encoded data removed]",
      "text/plain": [
       "<Figure size 720x864 with 9 Axes>"
      ]
     },
     "metadata": {},
     "output_type": "display_data"
    }
   ],
   "source": [
    "plt.figure(figsize=(10,12),facecolor=\"white\")\n",
    "plotnumber=1\n",
    "for columns in health:\n",
    "    if plotnumber<=9:\n",
    "    \n",
    "        ax=plt.subplot(3,3,plotnumber)\n",
    "        sns.barplot(health[columns])\n",
    "        plt.xlabel(columns, fontsize=12)\n",
    "    plotnumber+=1\n",
    "plt.show()"
   ]
  },
  {
   "cell_type": "code",
   "execution_count": 48,
   "id": "87d79775",
   "metadata": {},
   "outputs": [
    {
     "data": {
      "text/html": [
       "<div>\n",
       "<style scoped>\n",
       "    .dataframe tbody tr th:only-of-type {\n",
       "        vertical-align: middle;\n",
       "    }\n",
       "\n",
       "    .dataframe tbody tr th {\n",
       "        vertical-align: top;\n",
       "    }\n",
       "\n",
       "    .dataframe thead th {\n",
       "        text-align: right;\n",
       "    }\n",
       "</style>\n",
       "<table border=\"1\" class=\"dataframe\">\n",
       "  <thead>\n",
       "    <tr style=\"text-align: right;\">\n",
       "      <th></th>\n",
       "      <th>Happiness Score</th>\n",
       "      <th>Standard Error</th>\n",
       "      <th>Family</th>\n",
       "      <th>Health (Life Expectancy)</th>\n",
       "      <th>Freedom</th>\n",
       "      <th>Trust (Government Corruption)</th>\n",
       "      <th>Generosity</th>\n",
       "      <th>Dystopia Residual</th>\n",
       "    </tr>\n",
       "  </thead>\n",
       "  <tbody>\n",
       "    <tr>\n",
       "      <th>Happiness Score</th>\n",
       "      <td>1.000000</td>\n",
       "      <td>-0.177254</td>\n",
       "      <td>0.740605</td>\n",
       "      <td>0.724200</td>\n",
       "      <td>0.568211</td>\n",
       "      <td>0.395199</td>\n",
       "      <td>0.180319</td>\n",
       "      <td>0.530474</td>\n",
       "    </tr>\n",
       "    <tr>\n",
       "      <th>Standard Error</th>\n",
       "      <td>-0.177254</td>\n",
       "      <td>1.000000</td>\n",
       "      <td>-0.120728</td>\n",
       "      <td>-0.310287</td>\n",
       "      <td>-0.129773</td>\n",
       "      <td>-0.178325</td>\n",
       "      <td>-0.088439</td>\n",
       "      <td>0.083981</td>\n",
       "    </tr>\n",
       "    <tr>\n",
       "      <th>Family</th>\n",
       "      <td>0.740605</td>\n",
       "      <td>-0.120728</td>\n",
       "      <td>1.000000</td>\n",
       "      <td>0.531104</td>\n",
       "      <td>0.441518</td>\n",
       "      <td>0.205605</td>\n",
       "      <td>0.087513</td>\n",
       "      <td>0.148117</td>\n",
       "    </tr>\n",
       "    <tr>\n",
       "      <th>Health (Life Expectancy)</th>\n",
       "      <td>0.724200</td>\n",
       "      <td>-0.310287</td>\n",
       "      <td>0.531104</td>\n",
       "      <td>1.000000</td>\n",
       "      <td>0.360477</td>\n",
       "      <td>0.248335</td>\n",
       "      <td>0.108335</td>\n",
       "      <td>0.018979</td>\n",
       "    </tr>\n",
       "    <tr>\n",
       "      <th>Freedom</th>\n",
       "      <td>0.568211</td>\n",
       "      <td>-0.129773</td>\n",
       "      <td>0.441518</td>\n",
       "      <td>0.360477</td>\n",
       "      <td>1.000000</td>\n",
       "      <td>0.493524</td>\n",
       "      <td>0.373916</td>\n",
       "      <td>0.062783</td>\n",
       "    </tr>\n",
       "    <tr>\n",
       "      <th>Trust (Government Corruption)</th>\n",
       "      <td>0.395199</td>\n",
       "      <td>-0.178325</td>\n",
       "      <td>0.205605</td>\n",
       "      <td>0.248335</td>\n",
       "      <td>0.493524</td>\n",
       "      <td>1.000000</td>\n",
       "      <td>0.276123</td>\n",
       "      <td>-0.033105</td>\n",
       "    </tr>\n",
       "    <tr>\n",
       "      <th>Generosity</th>\n",
       "      <td>0.180319</td>\n",
       "      <td>-0.088439</td>\n",
       "      <td>0.087513</td>\n",
       "      <td>0.108335</td>\n",
       "      <td>0.373916</td>\n",
       "      <td>0.276123</td>\n",
       "      <td>1.000000</td>\n",
       "      <td>-0.101301</td>\n",
       "    </tr>\n",
       "    <tr>\n",
       "      <th>Dystopia Residual</th>\n",
       "      <td>0.530474</td>\n",
       "      <td>0.083981</td>\n",
       "      <td>0.148117</td>\n",
       "      <td>0.018979</td>\n",
       "      <td>0.062783</td>\n",
       "      <td>-0.033105</td>\n",
       "      <td>-0.101301</td>\n",
       "      <td>1.000000</td>\n",
       "    </tr>\n",
       "  </tbody>\n",
       "</table>\n",
       "</div>"
      ],
      "text/plain": [
       "                               Happiness Score  Standard Error    Family  \\\n",
       "Happiness Score                       1.000000       -0.177254  0.740605   \n",
       "Standard Error                       -0.177254        1.000000 -0.120728   \n",
       "Family                                0.740605       -0.120728  1.000000   \n",
       "Health (Life Expectancy)              0.724200       -0.310287  0.531104   \n",
       "Freedom                               0.568211       -0.129773  0.441518   \n",
       "Trust (Government Corruption)         0.395199       -0.178325  0.205605   \n",
       "Generosity                            0.180319       -0.088439  0.087513   \n",
       "Dystopia Residual                     0.530474        0.083981  0.148117   \n",
       "\n",
       "                               Health (Life Expectancy)   Freedom  \\\n",
       "Happiness Score                                0.724200  0.568211   \n",
       "Standard Error                                -0.310287 -0.129773   \n",
       "Family                                         0.531104  0.441518   \n",
       "Health (Life Expectancy)                       1.000000  0.360477   \n",
       "Freedom                                        0.360477  1.000000   \n",
       "Trust (Government Corruption)                  0.248335  0.493524   \n",
       "Generosity                                     0.108335  0.373916   \n",
       "Dystopia Residual                              0.018979  0.062783   \n",
       "\n",
       "                               Trust (Government Corruption)  Generosity  \\\n",
       "Happiness Score                                     0.395199    0.180319   \n",
       "Standard Error                                     -0.178325   -0.088439   \n",
       "Family                                              0.205605    0.087513   \n",
       "Health (Life Expectancy)                            0.248335    0.108335   \n",
       "Freedom                                             0.493524    0.373916   \n",
       "Trust (Government Corruption)                       1.000000    0.276123   \n",
       "Generosity                                          0.276123    1.000000   \n",
       "Dystopia Residual                                  -0.033105   -0.101301   \n",
       "\n",
       "                               Dystopia Residual  \n",
       "Happiness Score                         0.530474  \n",
       "Standard Error                          0.083981  \n",
       "Family                                  0.148117  \n",
       "Health (Life Expectancy)                0.018979  \n",
       "Freedom                                 0.062783  \n",
       "Trust (Government Corruption)          -0.033105  \n",
       "Generosity                             -0.101301  \n",
       "Dystopia Residual                       1.000000  "
      ]
     },
     "execution_count": 48,
     "metadata": {},
     "output_type": "execute_result"
    }
   ],
   "source": [
    "#corelation b/n features and target variable.\n",
    "corr=health.corr()\n",
    "corr"
   ]
  },
  {
   "cell_type": "code",
   "execution_count": 45,
   "id": "5b972ef2",
   "metadata": {},
   "outputs": [
    {
     "data": {
      "image/png": "[encoded data removed]",
      "text/plain": [
       "<Figure size 864x432 with 2 Axes>"
      ]
     },
     "metadata": {
      "needs_background": "light"
     },
     "output_type": "display_data"
    }
   ],
   "source": [
    "df_corr=data.corr().abs()\n",
    "plt.figure(figsize=(12,6))\n",
    "sns.heatmap(df_corr, annot=True, linecolor='blue', annot_kws={'size':12},)\n",
    "plt.show()"
   ]
  },
  {
   "cell_type": "markdown",
   "id": "e47785b7",
   "metadata": {},
   "source": [
    "Here we can see Economy columns has highly correlated with family and health column so i am dropping the economy column."
   ]
  },
  {
   "cell_type": "code",
   "execution_count": 46,
   "id": "df48b7b4",
   "metadata": {},
   "outputs": [],
   "source": [
    " #dropping health column\n",
    "    health=health.drop('Economy (GDP per Capita)', axis=1)"
   ]
  },
  {
   "cell_type": "code",
   "execution_count": 49,
   "id": "066cc3b2",
   "metadata": {},
   "outputs": [
    {
     "data": {
      "text/plain": [
       "Happiness Score                  1.000000\n",
       "Family                           0.740605\n",
       "Health (Life Expectancy)         0.724200\n",
       "Freedom                          0.568211\n",
       "Dystopia Residual                0.530474\n",
       "Trust (Government Corruption)    0.395199\n",
       "Generosity                       0.180319\n",
       "Standard Error                  -0.177254\n",
       "Name: Happiness Score, dtype: float64"
      ]
     },
     "execution_count": 49,
     "metadata": {},
     "output_type": "execute_result"
    }
   ],
   "source": [
    "corr['Happiness Score'].sort_values(ascending=False)"
   ]
  },
  {
   "cell_type": "code",
   "execution_count": 50,
   "id": "a18367ca",
   "metadata": {},
   "outputs": [],
   "source": [
    "a=health.drop('Happiness Score', axis=1)\n",
    "b=health['Happiness Score']"
   ]
  },
  {
   "cell_type": "code",
   "execution_count": 51,
   "id": "24ac7bc6",
   "metadata": {},
   "outputs": [
    {
     "data": {
      "text/html": [
       "<div>\n",
       "<style scoped>\n",
       "    .dataframe tbody tr th:only-of-type {\n",
       "        vertical-align: middle;\n",
       "    }\n",
       "\n",
       "    .dataframe tbody tr th {\n",
       "        vertical-align: top;\n",
       "    }\n",
       "\n",
       "    .dataframe thead th {\n",
       "        text-align: right;\n",
       "    }\n",
       "</style>\n",
       "<table border=\"1\" class=\"dataframe\">\n",
       "  <thead>\n",
       "    <tr style=\"text-align: right;\">\n",
       "      <th></th>\n",
       "      <th>Standard Error</th>\n",
       "      <th>Family</th>\n",
       "      <th>Health (Life Expectancy)</th>\n",
       "      <th>Freedom</th>\n",
       "      <th>Trust (Government Corruption)</th>\n",
       "      <th>Generosity</th>\n",
       "      <th>Dystopia Residual</th>\n",
       "    </tr>\n",
       "  </thead>\n",
       "  <tbody>\n",
       "    <tr>\n",
       "      <th>0</th>\n",
       "      <td>-0.805926</td>\n",
       "      <td>1.320281</td>\n",
       "      <td>1.263408</td>\n",
       "      <td>1.577438</td>\n",
       "      <td>2.309652</td>\n",
       "      <td>0.471040</td>\n",
       "      <td>0.758258</td>\n",
       "    </tr>\n",
       "    <tr>\n",
       "      <th>1</th>\n",
       "      <td>0.055889</td>\n",
       "      <td>1.514458</td>\n",
       "      <td>1.289434</td>\n",
       "      <td>1.332456</td>\n",
       "      <td>-0.016480</td>\n",
       "      <td>1.575856</td>\n",
       "      <td>1.092857</td>\n",
       "    </tr>\n",
       "    <tr>\n",
       "      <th>2</th>\n",
       "      <td>-0.854487</td>\n",
       "      <td>1.361054</td>\n",
       "      <td>0.992229</td>\n",
       "      <td>1.469659</td>\n",
       "      <td>2.842774</td>\n",
       "      <td>0.824293</td>\n",
       "      <td>0.712335</td>\n",
       "    </tr>\n",
       "    <tr>\n",
       "      <th>3</th>\n",
       "      <td>-0.531526</td>\n",
       "      <td>1.251922</td>\n",
       "      <td>1.035145</td>\n",
       "      <td>1.605131</td>\n",
       "      <td>1.852081</td>\n",
       "      <td>0.868638</td>\n",
       "      <td>0.663893</td>\n",
       "    </tr>\n",
       "    <tr>\n",
       "      <th>4</th>\n",
       "      <td>-0.722845</td>\n",
       "      <td>1.221204</td>\n",
       "      <td>1.118054</td>\n",
       "      <td>1.360416</td>\n",
       "      <td>1.555725</td>\n",
       "      <td>1.748563</td>\n",
       "      <td>0.639337</td>\n",
       "    </tr>\n",
       "    <tr>\n",
       "      <th>...</th>\n",
       "      <td>...</td>\n",
       "      <td>...</td>\n",
       "      <td>...</td>\n",
       "      <td>...</td>\n",
       "      <td>...</td>\n",
       "      <td>...</td>\n",
       "      <td>...</td>\n",
       "    </tr>\n",
       "    <tr>\n",
       "      <th>153</th>\n",
       "      <td>-0.774917</td>\n",
       "      <td>-0.800520</td>\n",
       "      <td>-0.818610</td>\n",
       "      <td>1.087740</td>\n",
       "      <td>3.413922</td>\n",
       "      <td>-0.087228</td>\n",
       "      <td>-2.588925</td>\n",
       "    </tr>\n",
       "    <tr>\n",
       "      <th>154</th>\n",
       "      <td>-0.662582</td>\n",
       "      <td>-2.346860</td>\n",
       "      <td>-1.263362</td>\n",
       "      <td>0.372033</td>\n",
       "      <td>-0.529210</td>\n",
       "      <td>-0.433117</td>\n",
       "      <td>-0.843967</td>\n",
       "    </tr>\n",
       "    <tr>\n",
       "      <th>155</th>\n",
       "      <td>0.132534</td>\n",
       "      <td>-1.901086</td>\n",
       "      <td>0.372199</td>\n",
       "      <td>-1.809238</td>\n",
       "      <td>0.381419</td>\n",
       "      <td>1.856891</td>\n",
       "      <td>-3.208430</td>\n",
       "    </tr>\n",
       "    <tr>\n",
       "      <th>156</th>\n",
       "      <td>2.263962</td>\n",
       "      <td>-2.118467</td>\n",
       "      <td>-1.649648</td>\n",
       "      <td>-2.064472</td>\n",
       "      <td>-0.357715</td>\n",
       "      <td>-0.316950</td>\n",
       "      <td>-0.481985</td>\n",
       "    </tr>\n",
       "    <tr>\n",
       "      <th>157</th>\n",
       "      <td>1.134182</td>\n",
       "      <td>-3.134725</td>\n",
       "      <td>-1.404129</td>\n",
       "      <td>-0.426621</td>\n",
       "      <td>-0.301803</td>\n",
       "      <td>-0.558153</td>\n",
       "      <td>-0.963612</td>\n",
       "    </tr>\n",
       "  </tbody>\n",
       "</table>\n",
       "<p>158 rows × 7 columns</p>\n",
       "</div>"
      ],
      "text/plain": [
       "     Standard Error    Family  Health (Life Expectancy)   Freedom  \\\n",
       "0         -0.805926  1.320281                  1.263408  1.577438   \n",
       "1          0.055889  1.514458                  1.289434  1.332456   \n",
       "2         -0.854487  1.361054                  0.992229  1.469659   \n",
       "3         -0.531526  1.251922                  1.035145  1.605131   \n",
       "4         -0.722845  1.221204                  1.118054  1.360416   \n",
       "..              ...       ...                       ...       ...   \n",
       "153       -0.774917 -0.800520                 -0.818610  1.087740   \n",
       "154       -0.662582 -2.346860                 -1.263362  0.372033   \n",
       "155        0.132534 -1.901086                  0.372199 -1.809238   \n",
       "156        2.263962 -2.118467                 -1.649648 -2.064472   \n",
       "157        1.134182 -3.134725                 -1.404129 -0.426621   \n",
       "\n",
       "     Trust (Government Corruption)  Generosity  Dystopia Residual  \n",
       "0                         2.309652    0.471040           0.758258  \n",
       "1                        -0.016480    1.575856           1.092857  \n",
       "2                         2.842774    0.824293           0.712335  \n",
       "3                         1.852081    0.868638           0.663893  \n",
       "4                         1.555725    1.748563           0.639337  \n",
       "..                             ...         ...                ...  \n",
       "153                       3.413922   -0.087228          -2.588925  \n",
       "154                      -0.529210   -0.433117          -0.843967  \n",
       "155                       0.381419    1.856891          -3.208430  \n",
       "156                      -0.357715   -0.316950          -0.481985  \n",
       "157                      -0.301803   -0.558153          -0.963612  \n",
       "\n",
       "[158 rows x 7 columns]"
      ]
     },
     "execution_count": 51,
     "metadata": {},
     "output_type": "execute_result"
    }
   ],
   "source": [
    "scaler=StandardScaler()\n",
    "\n",
    "x_scaled=scaler.fit_transform(a)\n",
    "x_scaled\n",
    "a=pd.DataFrame(scaler.fit_transform(a),columns=a.columns)\n",
    "a"
   ]
  },
  {
   "cell_type": "code",
   "execution_count": 52,
   "id": "897c5912",
   "metadata": {},
   "outputs": [
    {
     "data": {
      "text/plain": [
       "array([[-0.80592569,  1.32028142,  1.26340809, ...,  2.30965159,\n",
       "         0.47103971,  0.75825809],\n",
       "       [ 0.05588945,  1.51445776,  1.28943383, ..., -0.01647953,\n",
       "         1.57585637,  1.09285682],\n",
       "       [-0.8544869 ,  1.36105403,  0.99222882, ...,  2.8427738 ,\n",
       "         0.8242928 ,  0.71233526],\n",
       "       ...,\n",
       "       [ 0.13253425, -1.90108634,  0.37219907, ...,  0.38141902,\n",
       "         1.85689094, -3.20843049],\n",
       "       [ 2.26396166, -2.1184666 , -1.64964766, ..., -0.35771452,\n",
       "        -0.31694987, -0.48198451],\n",
       "       [ 1.13418227, -3.13472485, -1.40412871, ..., -0.30180313,\n",
       "        -0.5581534 , -0.96361241]])"
      ]
     },
     "execution_count": 52,
     "metadata": {},
     "output_type": "execute_result"
    }
   ],
   "source": [
    "x_scaled"
   ]
  },
  {
   "cell_type": "code",
   "execution_count": 53,
   "id": "f6d0f609",
   "metadata": {},
   "outputs": [
    {
     "data": {
      "text/html": [
       "<div>\n",
       "<style scoped>\n",
       "    .dataframe tbody tr th:only-of-type {\n",
       "        vertical-align: middle;\n",
       "    }\n",
       "\n",
       "    .dataframe tbody tr th {\n",
       "        vertical-align: top;\n",
       "    }\n",
       "\n",
       "    .dataframe thead th {\n",
       "        text-align: right;\n",
       "    }\n",
       "</style>\n",
       "<table border=\"1\" class=\"dataframe\">\n",
       "  <thead>\n",
       "    <tr style=\"text-align: right;\">\n",
       "      <th></th>\n",
       "      <th>VIF values</th>\n",
       "      <th>features</th>\n",
       "    </tr>\n",
       "  </thead>\n",
       "  <tbody>\n",
       "    <tr>\n",
       "      <th>0</th>\n",
       "      <td>1.133353</td>\n",
       "      <td>Standard Error</td>\n",
       "    </tr>\n",
       "    <tr>\n",
       "      <th>1</th>\n",
       "      <td>1.598282</td>\n",
       "      <td>Family</td>\n",
       "    </tr>\n",
       "    <tr>\n",
       "      <th>2</th>\n",
       "      <td>1.567902</td>\n",
       "      <td>Health (Life Expectancy)</td>\n",
       "    </tr>\n",
       "    <tr>\n",
       "      <th>3</th>\n",
       "      <td>1.749648</td>\n",
       "      <td>Freedom</td>\n",
       "    </tr>\n",
       "    <tr>\n",
       "      <th>4</th>\n",
       "      <td>1.371618</td>\n",
       "      <td>Trust (Government Corruption)</td>\n",
       "    </tr>\n",
       "    <tr>\n",
       "      <th>5</th>\n",
       "      <td>1.205226</td>\n",
       "      <td>Generosity</td>\n",
       "    </tr>\n",
       "    <tr>\n",
       "      <th>6</th>\n",
       "      <td>1.052736</td>\n",
       "      <td>Dystopia Residual</td>\n",
       "    </tr>\n",
       "  </tbody>\n",
       "</table>\n",
       "</div>"
      ],
      "text/plain": [
       "   VIF values                       features\n",
       "0    1.133353                 Standard Error\n",
       "1    1.598282                         Family\n",
       "2    1.567902       Health (Life Expectancy)\n",
       "3    1.749648                        Freedom\n",
       "4    1.371618  Trust (Government Corruption)\n",
       "5    1.205226                     Generosity\n",
       "6    1.052736              Dystopia Residual"
      ]
     },
     "execution_count": 53,
     "metadata": {},
     "output_type": "execute_result"
    }
   ],
   "source": [
    "from statsmodels.stats.outliers_influence import variance_inflation_factor\n",
    "\n",
    "vif=pd.DataFrame()\n",
    "vif['VIF values']=[variance_inflation_factor(a.values,i) for i in range(len(a.columns))] \n",
    "\n",
    "vif['features']=a.columns\n",
    "vif"
   ]
  },
  {
   "cell_type": "markdown",
   "id": "ba3a8f28",
   "metadata": {},
   "source": [
    "there is no multicolinearity."
   ]
  },
  {
   "cell_type": "markdown",
   "id": "195c4c8b",
   "metadata": {},
   "source": [
    "Modelling"
   ]
  },
  {
   "cell_type": "code",
   "execution_count": 54,
   "id": "a1c9fc07",
   "metadata": {},
   "outputs": [
    {
     "name": "stdout",
     "output_type": "stream",
     "text": [
      "The max r2 score is 0.9899172603413258 at random state is 494\n"
     ]
    }
   ],
   "source": [
    "#getting best random state\n",
    "\n",
    "Accu_max=0\n",
    "Rs_max=0\n",
    "for k in range(1,600):\n",
    "    x_train,x_test,y_train,y_test=train_test_split(a,b, test_size=0.25, random_state=k)\n",
    "    lr=LinearRegression()\n",
    "    lr.fit(x_train,y_train)\n",
    "    pred=lr.predict(x_test)\n",
    "    acc=r2_score(y_test, pred)\n",
    "    if acc>Accu_max:\n",
    "        Accu_max= acc\n",
    "        Rs_max=k\n",
    "print('The max r2 score is', Accu_max, 'at random state is', Rs_max)"
   ]
  },
  {
   "cell_type": "code",
   "execution_count": 55,
   "id": "0bff3511",
   "metadata": {},
   "outputs": [],
   "source": [
    "#forming train_test_split\n",
    "x_train,x_test,y_train,y_test=train_test_split(a,b, test_size=0.25, random_state=494)"
   ]
  },
  {
   "cell_type": "code",
   "execution_count": 56,
   "id": "dfc430c3",
   "metadata": {},
   "outputs": [],
   "source": [
    "from sklearn.ensemble import RandomForestRegressor,GradientBoostingRegressor,ExtraTreesRegressor\n",
    "from sklearn.neighbors import KNeighborsRegressor as KNN\n",
    "from sklearn.tree import DecisionTreeRegressor\n",
    "from math import sqrt\n",
    "from sklearn.svm import SVR\n",
    "\n",
    "from sklearn.metrics import mean_squared_error, mean_absolute_error"
   ]
  },
  {
   "cell_type": "code",
   "execution_count": 57,
   "id": "2b806609",
   "metadata": {},
   "outputs": [
    {
     "name": "stdout",
     "output_type": "stream",
     "text": [
      "R2_score: 0.9899172603413258\n",
      "R2_score on training data: 95.96704131232447\n",
      "Mean Absolute Error: 0.09750309447193668\n",
      "Mean Squared Error: 0.016402226403780244\n",
      "Root Mean Squared Error: 0.12807117710000265\n"
     ]
    }
   ],
   "source": [
    "lr=LinearRegression()\n",
    "lr.fit(x_train,y_train)\n",
    "pred_lr=lr.predict(x_test)\n",
    "pred_train=lr.predict(x_train)\n",
    "print('R2_score:',r2_score(y_test,pred_lr))\n",
    "print('R2_score on training data:',r2_score(y_train, pred_train)*100)\n",
    "print('Mean Absolute Error:',mean_absolute_error(y_test,pred_lr))\n",
    "print('Mean Squared Error:',mean_squared_error(y_test,pred_lr))\n",
    "print('Root Mean Squared Error:',np.sqrt(mean_squared_error(y_test,pred_lr)))\n",
    "\n"
   ]
  },
  {
   "cell_type": "code",
   "execution_count": 58,
   "id": "c2b154b3",
   "metadata": {},
   "outputs": [
    {
     "name": "stdout",
     "output_type": "stream",
     "text": [
      "R2_score: 0.8904529590041173\n",
      "R2_score on training data: 97.82646490094143\n",
      "Mean Absolute Error: 0.3113869999999994\n",
      "Mean Squared Error: 0.17820705771499948\n",
      "Root Mean Squared Error: 0.42214577780074913\n"
     ]
    }
   ],
   "source": [
    "rfr=RandomForestRegressor()\n",
    "rfr.fit(x_train,y_train)\n",
    "pred_rfr=rfr.predict(x_test)\n",
    "pred_train=rfr.predict(x_train)\n",
    "print('R2_score:',r2_score(y_test,pred_rfr))\n",
    "print('R2_score on training data:',r2_score(y_train, pred_train)*100)\n",
    "print('Mean Absolute Error:',mean_absolute_error(y_test,pred_rfr))\n",
    "print('Mean Squared Error:',mean_squared_error(y_test,pred_rfr))\n",
    "print('Root Mean Squared Error:',np.sqrt(mean_squared_error(y_test,pred_rfr)))\n",
    "\n"
   ]
  },
  {
   "cell_type": "code",
   "execution_count": 59,
   "id": "75df3266",
   "metadata": {},
   "outputs": [
    {
     "name": "stdout",
     "output_type": "stream",
     "text": [
      "R2_score: 0.8241688250738648\n",
      "R2_score on training data: 100.0\n",
      "Mean Absolute Error: 0.42577499999999996\n",
      "Mean Squared Error: 0.28603562500000007\n",
      "Root Mean Squared Error: 0.5348229847342016\n"
     ]
    }
   ],
   "source": [
    "Dr=DecisionTreeRegressor()\n",
    "Dr.fit(x_train,y_train)\n",
    "pred_Dr=Dr.predict(x_test)\n",
    "pred_train=Dr.predict(x_train)\n",
    "print('R2_score:',r2_score(y_test,pred_Dr))\n",
    "print('R2_score on training data:',r2_score(y_train, pred_train)*100)\n",
    "print('Mean Absolute Error:',mean_absolute_error(y_test,pred_Dr))\n",
    "print('Mean Squared Error:',mean_squared_error(y_test,pred_Dr))\n",
    "print('Root Mean Squared Error:',np.sqrt(mean_squared_error(y_test,pred_Dr)))\n"
   ]
  },
  {
   "cell_type": "code",
   "execution_count": 60,
   "id": "fd31a564",
   "metadata": {},
   "outputs": [
    {
     "name": "stdout",
     "output_type": "stream",
     "text": [
      "R2_score: 0.9143977825154557\n",
      "R2_score on training data: 100.0\n",
      "Mean Absolute Error: 0.2691242499999996\n",
      "Mean Squared Error: 0.1392545081374994\n",
      "Root Mean Squared Error: 0.3731682035456657\n",
      "R2_score: 0.9041734297957582\n",
      "R2_score on training data: 97.01813874625773\n",
      "Mean Absolute Error: 0.272512700549005\n",
      "Mean Squared Error: 0.15588710540944314\n",
      "Root Mean Squared Error: 0.39482541130155635\n"
     ]
    }
   ],
   "source": [
    "tr=ExtraTreesRegressor()\n",
    "tr.fit(x_train,y_train)\n",
    "pred_tr=tr.predict(x_test)\n",
    "pred_train=tr.predict(x_train)\n",
    "print('R2_score:',r2_score(y_test,pred_tr))\n",
    "print('R2_score on training data:',r2_score(y_train, pred_train)*100)\n",
    "print('Mean Absolute Error:',mean_absolute_error(y_test,pred_tr))\n",
    "print('Mean Squared Error:',mean_squared_error(y_test,pred_tr))\n",
    "print('Root Mean Squared Error:',np.sqrt(mean_squared_error(y_test,pred_tr)))\n",
    "sv=SVR()\n",
    "sv.fit(x_train,y_train)\n",
    "pred_sv=sv.predict(x_test)\n",
    "pred_train=sv.predict(x_train)\n",
    "print('R2_score:',r2_score(y_test,pred_sv))\n",
    "print('R2_score on training data:',r2_score(y_train, pred_train)*100)\n",
    "print('Mean Absolute Error:',mean_absolute_error(y_test,pred_sv))\n",
    "print('Mean Squared Error:',mean_squared_error(y_test,pred_sv))\n",
    "print('Root Mean Squared Error:',np.sqrt(mean_squared_error(y_test,pred_sv)))\n"
   ]
  },
  {
   "cell_type": "code",
   "execution_count": 61,
   "id": "10b10cc3",
   "metadata": {},
   "outputs": [
    {
     "name": "stdout",
     "output_type": "stream",
     "text": [
      "R2_score: 0.881987150235284\n",
      "R2_score on training data: 86.73871561216514\n",
      "Mean Absolute Error: 0.3532749999999999\n",
      "Mean Squared Error: 0.19197892099999986\n",
      "Root Mean Squared Error: 0.43815399233602775\n"
     ]
    }
   ],
   "source": [
    "knn=KNN()\n",
    "knn.fit(x_train,y_train)\n",
    "pred_knn=knn.predict(x_test)\n",
    "pred_train=knn.predict(x_train)\n",
    "print('R2_score:',r2_score(y_test,pred_knn))\n",
    "print('R2_score on training data:',r2_score(y_train, pred_train)*100)\n",
    "print('Mean Absolute Error:',mean_absolute_error(y_test,pred_knn))\n",
    "print('Mean Squared Error:',mean_squared_error(y_test,pred_knn))\n",
    "print('Root Mean Squared Error:',np.sqrt(mean_squared_error(y_test,pred_knn)))\n"
   ]
  },
  {
   "cell_type": "code",
   "execution_count": 62,
   "id": "287feb73",
   "metadata": {},
   "outputs": [
    {
     "name": "stdout",
     "output_type": "stream",
     "text": [
      "R2_score: 0.9338290019083918\n",
      "R2_score on training data: 99.8150111758635\n",
      "Mean Absolute Error: 0.24565129895162657\n",
      "Mean Squared Error: 0.10764452210455903\n",
      "Root Mean Squared Error: 0.328092246334105\n"
     ]
    }
   ],
   "source": [
    "gb=GradientBoostingRegressor()\n",
    "gb.fit(x_train,y_train)\n",
    "pred_gb=gb.predict(x_test)\n",
    "pred_train=gb.predict(x_train)\n",
    "print('R2_score:',r2_score(y_test,pred_gb))\n",
    "print('R2_score on training data:',r2_score(y_train, pred_train)*100)\n",
    "print('Mean Absolute Error:',mean_absolute_error(y_test,pred_gb))\n",
    "print('Mean Squared Error:',mean_squared_error(y_test,pred_gb))\n",
    "print('Root Mean Squared Error:',np.sqrt(mean_squared_error(y_test,pred_gb)))\n"
   ]
  },
  {
   "cell_type": "code",
   "execution_count": 63,
   "id": "cc272e7a",
   "metadata": {},
   "outputs": [
    {
     "name": "stdout",
     "output_type": "stream",
     "text": [
      "R2_score: 0.9145431152738183\n",
      "R2_score on training data: 99.99994037574143\n",
      "Mean Absolute Error: 0.282832029390335\n",
      "Mean Squared Error: 0.13901808620385367\n",
      "Root Mean Squared Error: 0.3728512923456933\n"
     ]
    }
   ],
   "source": [
    "from xgboost import XGBRegressor\n",
    "xgb=XGBRegressor()\n",
    "xgb.fit(x_train,y_train)\n",
    "pred_xgb=xgb.predict(x_test)\n",
    "pred_train=xgb.predict(x_train)\n",
    "print('R2_score:',r2_score(y_test,pred_xgb))\n",
    "print('R2_score on training data:',r2_score(y_train, pred_train)*100)\n",
    "print('Mean Absolute Error:',mean_absolute_error(y_test,pred_xgb))\n",
    "print('Mean Squared Error:',mean_squared_error(y_test,pred_xgb))\n",
    "print('Root Mean Squared Error:',np.sqrt(mean_squared_error(y_test,pred_xgb)))\n"
   ]
  },
  {
   "cell_type": "code",
   "execution_count": 64,
   "id": "9497d341",
   "metadata": {},
   "outputs": [
    {
     "name": "stdout",
     "output_type": "stream",
     "text": [
      "R2_score: -0.03629239216090219\n",
      "R2_score on training data: 0.0\n",
      "Mean Absolute Error: 1.0913389830508475\n",
      "Mean Squared Error: 1.685801975667911\n",
      "Root Mean Squared Error: 1.2983843713122516\n"
     ]
    }
   ],
   "source": [
    "las=Lasso()\n",
    "las.fit(x_train,y_train)\n",
    "pred_las=las.predict(x_test)\n",
    "pred_train=las.predict(x_train)\n",
    "print('R2_score:',r2_score(y_test,pred_las))\n",
    "print('R2_score on training data:',r2_score(y_train, pred_train)*100)\n",
    "print('Mean Absolute Error:',mean_absolute_error(y_test,pred_las))\n",
    "print('Mean Squared Error:',mean_squared_error(y_test,pred_las))\n",
    "print('Root Mean Squared Error:',np.sqrt(mean_squared_error(y_test,pred_las)))\n"
   ]
  },
  {
   "cell_type": "code",
   "execution_count": 65,
   "id": "c4e1e822",
   "metadata": {},
   "outputs": [
    {
     "name": "stdout",
     "output_type": "stream",
     "text": [
      "R2_score: 0.9898180835903652\n",
      "R2_score on training data: 95.96331606005978\n",
      "Mean Absolute Error: 0.09748959287436582\n",
      "Mean Squared Error: 0.016563563458818584\n",
      "Root Mean Squared Error: 0.12869950838607963\n"
     ]
    }
   ],
   "source": [
    "rd=Ridge()\n",
    "rd.fit(x_train,y_train)\n",
    "pred_rd=rd.predict(x_test)\n",
    "pred_train=rd.predict(x_train)\n",
    "print('R2_score:',r2_score(y_test,pred_rd))\n",
    "print('R2_score on training data:',r2_score(y_train, pred_train)*100)\n",
    "print('Mean Absolute Error:',mean_absolute_error(y_test,pred_rd))\n",
    "print('Mean Squared Error:',mean_squared_error(y_test,pred_rd))\n",
    "print('Root Mean Squared Error:',np.sqrt(mean_squared_error(y_test,pred_rd)))\n"
   ]
  },
  {
   "cell_type": "markdown",
   "id": "579231b5",
   "metadata": {},
   "source": [
    "Crossvalidation"
   ]
  },
  {
   "cell_type": "code",
   "execution_count": 66,
   "id": "83926a09",
   "metadata": {},
   "outputs": [],
   "source": [
    "\n",
    "from sklearn.model_selection import cross_val_score"
   ]
  },
  {
   "cell_type": "code",
   "execution_count": 67,
   "id": "d855a989",
   "metadata": {},
   "outputs": [
    {
     "name": "stdout",
     "output_type": "stream",
     "text": [
      "[ 0.25491123  0.21999252  0.3608375  -0.86483373  0.54455309]\n",
      "0.10309212061564407\n",
      "Difference between R2 score and cross validation score is-  0.8868251397256817\n"
     ]
    }
   ],
   "source": [
    "score=cross_val_score(lr, a,b)\n",
    "print(score)\n",
    "print(score.mean())\n",
    "print(\"Difference between R2 score and cross validation score is- \", r2_score(y_test, pred_lr)-score.mean() )"
   ]
  },
  {
   "cell_type": "code",
   "execution_count": 68,
   "id": "7db3a65c",
   "metadata": {},
   "outputs": [
    {
     "name": "stdout",
     "output_type": "stream",
     "text": [
      "[-8.14688401 -2.22354211 -1.13776278 -2.74027226 -6.04446894]\n",
      "-4.058586020445672\n",
      "Difference between R2 score and cross validation score is-  4.949038979449789\n"
     ]
    }
   ],
   "source": [
    "score=cross_val_score(rfr, a,b)\n",
    "print(score)\n",
    "print(score.mean())\n",
    "print(\"Difference between R2 score and cross validation score is- \", r2_score(y_test, pred_rfr)-score.mean() )"
   ]
  },
  {
   "cell_type": "code",
   "execution_count": 69,
   "id": "acbc08c7",
   "metadata": {},
   "outputs": [
    {
     "name": "stdout",
     "output_type": "stream",
     "text": [
      "[-11.62830488  -9.01145762  -8.5907536  -13.59417383  -7.50821319]\n",
      "-10.066580625006907\n",
      "Difference between R2 score and cross validation score is-  10.890749450080772\n"
     ]
    }
   ],
   "source": [
    "score=cross_val_score(Dr, a,b)\n",
    "print(score)\n",
    "print(score.mean())\n",
    "print(\"Difference between R2 score and cross validation score is- \", r2_score(y_test, pred_Dr)-score.mean() )"
   ]
  },
  {
   "cell_type": "code",
   "execution_count": 70,
   "id": "f9f81434",
   "metadata": {},
   "outputs": [
    {
     "name": "stdout",
     "output_type": "stream",
     "text": [
      "[-7.24445694 -1.35480488 -0.91485588 -2.65610518 -5.3807162 ]\n",
      "-3.5101878162333096\n",
      "Difference between R2 score and cross validation score is-  4.424585598748765\n"
     ]
    }
   ],
   "source": [
    "score=cross_val_score(tr, a,b)\n",
    "print(score)\n",
    "print(score.mean())\n",
    "print(\"Difference between R2 score and cross validation score is- \", r2_score(y_test, pred_tr)-score.mean() )"
   ]
  },
  {
   "cell_type": "code",
   "execution_count": 71,
   "id": "3609fd48",
   "metadata": {},
   "outputs": [
    {
     "name": "stdout",
     "output_type": "stream",
     "text": [
      "[-5.24345183 -2.76500014 -1.41683975 -3.26102265 -3.89144188]\n",
      "-3.315551252751676\n",
      "Difference between R2 score and cross validation score is-  4.249380254660068\n"
     ]
    }
   ],
   "source": [
    "score=cross_val_score(gb, a,b)\n",
    "print(score)\n",
    "print(score.mean())\n",
    "print(\"Difference between R2 score and cross validation score is- \", r2_score(y_test, pred_gb)-score.mean() )"
   ]
  },
  {
   "cell_type": "code",
   "execution_count": 72,
   "id": "44c80300",
   "metadata": {},
   "outputs": [
    {
     "name": "stdout",
     "output_type": "stream",
     "text": [
      "[-8.01656763 -2.12353084 -2.51889565 -6.51354767 -3.49467462]\n",
      "-4.533443283797164\n",
      "Difference between R2 score and cross validation score is-  5.447986399070982\n"
     ]
    }
   ],
   "source": [
    "score=cross_val_score(xgb, a,b)\n",
    "print(score)\n",
    "print(score.mean())\n",
    "print(\"Difference between R2 score and cross validation score is- \", r2_score(y_test, pred_xgb)-score.mean() )"
   ]
  },
  {
   "cell_type": "code",
   "execution_count": 73,
   "id": "94b5c7d8",
   "metadata": {},
   "outputs": [
    {
     "name": "stdout",
     "output_type": "stream",
     "text": [
      "[-39.5383371  -12.87043242  -0.27425903 -30.73906532 -23.65659767]\n",
      "-21.415738307203014\n",
      "Difference between R2 score and cross validation score is-  21.379445915042112\n"
     ]
    }
   ],
   "source": [
    "score=cross_val_score(las, a,b)\n",
    "print(score)\n",
    "print(score.mean())\n",
    "print(\"Difference between R2 score and cross validation score is- \", r2_score(y_test, pred_las)-score.mean() )"
   ]
  },
  {
   "cell_type": "code",
   "execution_count": 74,
   "id": "9e82f401",
   "metadata": {},
   "outputs": [
    {
     "name": "stdout",
     "output_type": "stream",
     "text": [
      "[ 0.17240225  0.21849751  0.36224611 -0.86047416  0.54141586]\n",
      "0.086817513836244\n",
      "Difference between R2 score and cross validation score is-  0.9030005697541211\n"
     ]
    }
   ],
   "source": [
    "score=cross_val_score(rd, a,b)\n",
    "print(score)\n",
    "print(score.mean())\n",
    "print(\"Difference between R2 score and cross validation score is- \", r2_score(y_test, pred_rd)-score.mean() )"
   ]
  },
  {
   "cell_type": "markdown",
   "id": "e407ab09",
   "metadata": {},
   "source": [
    "Comparing all methods the difference between R2 score and crossvalidation score is very less (0.86)in Linear Regression model, so i have choosen Linear Regression  model whose r2 score is 0.96. Now i am trying to increase my test result by using hyperparameter tuning."
   ]
  },
  {
   "cell_type": "markdown",
   "id": "751c0e39",
   "metadata": {},
   "source": [
    "Hyperparameter tuning"
   ]
  },
  {
   "cell_type": "code",
   "execution_count": 367,
   "id": "b1dcbad7",
   "metadata": {},
   "outputs": [],
   "source": [
    "grid_param={'alpha': range(10,20),\n",
    " 'copy_X': [True],\n",
    " 'fit_intercept': [True],\n",
    " 'max_iter': [None],\n",
    " 'normalize': ['deprecated'],\n",
    " 'positive': [False],\n",
    " 'random_state': ['None'],\n",
    " 'solver': ['auto'],\n",
    "}\n",
    "\n",
    "    "
   ]
  },
  {
   "cell_type": "code",
   "execution_count": 368,
   "id": "d93ab82a",
   "metadata": {},
   "outputs": [
    {
     "data": {
      "text/plain": [
       "{'alpha': 1.0,\n",
       " 'copy_X': True,\n",
       " 'fit_intercept': True,\n",
       " 'max_iter': None,\n",
       " 'normalize': 'deprecated',\n",
       " 'positive': False,\n",
       " 'random_state': None,\n",
       " 'solver': 'auto',\n",
       " 'tol': 0.001}"
      ]
     },
     "execution_count": 368,
     "metadata": {},
     "output_type": "execute_result"
    }
   ],
   "source": [
    "rd.get_params()"
   ]
  },
  {
   "cell_type": "code",
   "execution_count": 369,
   "id": "49f2567e",
   "metadata": {},
   "outputs": [],
   "source": [
    "grid_search=GridSearchCV(estimator=rd,\n",
    "                        param_grid=grid_param,\n",
    "                        cv=5,\n",
    "                         n_jobs=-1)"
   ]
  },
  {
   "cell_type": "code",
   "execution_count": 370,
   "id": "a3d22d5f",
   "metadata": {},
   "outputs": [
    {
     "data": {
      "text/plain": [
       "GridSearchCV(cv=5, estimator=Ridge(), n_jobs=-1,\n",
       "             param_grid={'alpha': range(10, 20), 'copy_X': [True],\n",
       "                         'fit_intercept': [True], 'max_iter': [None],\n",
       "                         'normalize': ['deprecated'], 'positive': [False],\n",
       "                         'random_state': ['None'], 'solver': ['auto']})"
      ]
     },
     "execution_count": 370,
     "metadata": {},
     "output_type": "execute_result"
    }
   ],
   "source": [
    "grid_search.fit(x_train, y_train)"
   ]
  },
  {
   "cell_type": "code",
   "execution_count": 371,
   "id": "da94325e",
   "metadata": {},
   "outputs": [
    {
     "data": {
      "text/plain": [
       "{'alpha': 10,\n",
       " 'copy_X': True,\n",
       " 'fit_intercept': True,\n",
       " 'max_iter': None,\n",
       " 'normalize': 'deprecated',\n",
       " 'positive': False,\n",
       " 'random_state': 'None',\n",
       " 'solver': 'auto'}"
      ]
     },
     "execution_count": 371,
     "metadata": {},
     "output_type": "execute_result"
    }
   ],
   "source": [
    "grid_search.best_params_"
   ]
  },
  {
   "cell_type": "code",
   "execution_count": 462,
   "id": "0ccaa45b",
   "metadata": {},
   "outputs": [],
   "source": [
    "final_model=Ridge(alpha=0.1\n",
    "                  ,\n",
    " copy_X= True,\n",
    " fit_intercept= True,\n",
    " max_iter=' None',\n",
    " normalize= 'deprecated',\n",
    " positive= False,\n",
    " random_state= 'None',\n",
    " solver= 'auto')"
   ]
  },
  {
   "cell_type": "code",
   "execution_count": 463,
   "id": "2c47c74e",
   "metadata": {},
   "outputs": [
    {
     "data": {
      "text/plain": [
       "Ridge(alpha=0.1, max_iter=' None', random_state='None')"
      ]
     },
     "execution_count": 463,
     "metadata": {},
     "output_type": "execute_result"
    }
   ],
   "source": [
    "final_model.fit(x_train,y_train)"
   ]
  },
  {
   "cell_type": "code",
   "execution_count": 464,
   "id": "9cb375bb",
   "metadata": {},
   "outputs": [
    {
     "data": {
      "text/plain": [
       "0.9899104629887369"
      ]
     },
     "execution_count": 464,
     "metadata": {},
     "output_type": "execute_result"
    }
   ],
   "source": [
    "final_model.score(x_test,y_test)"
   ]
  },
  {
   "cell_type": "code",
   "execution_count": 465,
   "id": "16df70f0",
   "metadata": {},
   "outputs": [
    {
     "name": "stdout",
     "output_type": "stream",
     "text": [
      "R2_score: 0.9899104629887369\n",
      "Mean Absolute Error: 0.09745107467920842\n",
      "Mean Squared Error: 0.01641328408451827\n",
      "Root Mean Squared Error: 0.12811433988636195\n"
     ]
    }
   ],
   "source": [
    "pred=final_model.predict(x_test)\n",
    "print('R2_score:',r2_score(y_test,pred))\n",
    "print('Mean Absolute Error:',mean_absolute_error(y_test,pred))\n",
    "print('Mean Squared Error:',mean_squared_error(y_test,pred))\n",
    "print('Root Mean Squared Error:',np.sqrt(mean_squared_error(y_test,pred)))\n"
   ]
  },
  {
   "cell_type": "markdown",
   "id": "6db318c6",
   "metadata": {},
   "source": [
    "the cross validation score is low in linear regreesion model but after tuning the parameter there is no change in r2 score so i have choosen ridge method here it is slightly increased."
   ]
  },
  {
   "cell_type": "code",
   "execution_count": 469,
   "id": "22c7f1fd",
   "metadata": {},
   "outputs": [],
   "source": [
    "import pickle\n",
    "filename='Happiness Score'\n",
    "pickle.dump(rd, open(filename,'wb'))\n"
   ]
  },
  {
   "cell_type": "code",
   "execution_count": 470,
   "id": "39f39992",
   "metadata": {},
   "outputs": [
    {
     "name": "stdout",
     "output_type": "stream",
     "text": [
      "98.98180835903652\n"
     ]
    }
   ],
   "source": [
    "import pickle\n",
    "loaded_model=pickle.load(open('Happiness Score','rb'))\n",
    "result=loaded_model.score(x_test,y_test)\n",
    "print(result*100)"
   ]
  },
  {
   "cell_type": "code",
   "execution_count": 471,
   "id": "dfdb5c7b",
   "metadata": {},
   "outputs": [
    {
     "data": {
      "text/html": [
       "<div>\n",
       "<style scoped>\n",
       "    .dataframe tbody tr th:only-of-type {\n",
       "        vertical-align: middle;\n",
       "    }\n",
       "\n",
       "    .dataframe tbody tr th {\n",
       "        vertical-align: top;\n",
       "    }\n",
       "\n",
       "    .dataframe thead th {\n",
       "        text-align: right;\n",
       "    }\n",
       "</style>\n",
       "<table border=\"1\" class=\"dataframe\">\n",
       "  <thead>\n",
       "    <tr style=\"text-align: right;\">\n",
       "      <th></th>\n",
       "      <th>0</th>\n",
       "      <th>1</th>\n",
       "      <th>2</th>\n",
       "      <th>3</th>\n",
       "      <th>4</th>\n",
       "      <th>5</th>\n",
       "      <th>6</th>\n",
       "      <th>7</th>\n",
       "      <th>8</th>\n",
       "      <th>9</th>\n",
       "      <th>...</th>\n",
       "      <th>30</th>\n",
       "      <th>31</th>\n",
       "      <th>32</th>\n",
       "      <th>33</th>\n",
       "      <th>34</th>\n",
       "      <th>35</th>\n",
       "      <th>36</th>\n",
       "      <th>37</th>\n",
       "      <th>38</th>\n",
       "      <th>39</th>\n",
       "    </tr>\n",
       "  </thead>\n",
       "  <tbody>\n",
       "    <tr>\n",
       "      <th>original</th>\n",
       "      <td>4.44828</td>\n",
       "      <td>4.886506</td>\n",
       "      <td>3.108782</td>\n",
       "      <td>4.667201</td>\n",
       "      <td>4.871387</td>\n",
       "      <td>6.664594</td>\n",
       "      <td>4.505353</td>\n",
       "      <td>5.469255</td>\n",
       "      <td>7.360405</td>\n",
       "      <td>7.207676</td>\n",
       "      <td>...</td>\n",
       "      <td>6.785998</td>\n",
       "      <td>4.055202</td>\n",
       "      <td>4.480078</td>\n",
       "      <td>4.193975</td>\n",
       "      <td>4.996305</td>\n",
       "      <td>4.990854</td>\n",
       "      <td>7.233205</td>\n",
       "      <td>2.79693</td>\n",
       "      <td>4.348237</td>\n",
       "      <td>3.657842</td>\n",
       "    </tr>\n",
       "    <tr>\n",
       "      <th>predicted</th>\n",
       "      <td>4.36900</td>\n",
       "      <td>4.610000</td>\n",
       "      <td>2.905000</td>\n",
       "      <td>4.550000</td>\n",
       "      <td>4.681000</td>\n",
       "      <td>6.575000</td>\n",
       "      <td>4.633000</td>\n",
       "      <td>5.589000</td>\n",
       "      <td>7.364000</td>\n",
       "      <td>7.187000</td>\n",
       "      <td>...</td>\n",
       "      <td>6.867000</td>\n",
       "      <td>4.077000</td>\n",
       "      <td>4.297000</td>\n",
       "      <td>4.252000</td>\n",
       "      <td>4.885000</td>\n",
       "      <td>5.013000</td>\n",
       "      <td>7.284000</td>\n",
       "      <td>2.83900</td>\n",
       "      <td>4.292000</td>\n",
       "      <td>3.656000</td>\n",
       "    </tr>\n",
       "  </tbody>\n",
       "</table>\n",
       "<p>2 rows × 40 columns</p>\n",
       "</div>"
      ],
      "text/plain": [
       "                0         1         2         3         4         5   \\\n",
       "original   4.44828  4.886506  3.108782  4.667201  4.871387  6.664594   \n",
       "predicted  4.36900  4.610000  2.905000  4.550000  4.681000  6.575000   \n",
       "\n",
       "                 6         7         8         9   ...        30        31  \\\n",
       "original   4.505353  5.469255  7.360405  7.207676  ...  6.785998  4.055202   \n",
       "predicted  4.633000  5.589000  7.364000  7.187000  ...  6.867000  4.077000   \n",
       "\n",
       "                 32        33        34        35        36       37  \\\n",
       "original   4.480078  4.193975  4.996305  4.990854  7.233205  2.79693   \n",
       "predicted  4.297000  4.252000  4.885000  5.013000  7.284000  2.83900   \n",
       "\n",
       "                 38        39  \n",
       "original   4.348237  3.657842  \n",
       "predicted  4.292000  3.656000  \n",
       "\n",
       "[2 rows x 40 columns]"
      ]
     },
     "execution_count": 471,
     "metadata": {},
     "output_type": "execute_result"
    }
   ],
   "source": [
    "conclusion=pd.DataFrame([loaded_model.predict(x_test)[:],y_test[:]],index=['original','predicted'])\n",
    "conclusion"
   ]
  },
  {
   "cell_type": "code",
   "execution_count": 473,
   "id": "fda5ef9f",
   "metadata": {},
   "outputs": [
    {
     "data": {
      "image/png": "[encoded data removed]",
      "text/plain": [
       "<Figure size 432x288 with 1 Axes>"
      ]
     },
     "metadata": {
      "needs_background": "light"
     },
     "output_type": "display_data"
    }
   ],
   "source": [
    "#plotting between actual and predicted score\n",
    "plt.scatter(y_test,pred)\n",
    "plt.xlabel('Actual Happiness Score')\n",
    "plt.ylabel('Predivcted Happiness Score')\n",
    "plt.title('Actual vs model predicted')\n",
    "plt.show()"
   ]
  },
  {
   "cell_type": "markdown",
   "id": "3e0e174d",
   "metadata": {},
   "source": [
    "the predicted values are almost closer to the actual values. finally it is done."
   ]
  },
  {
   "cell_type": "code",
   "execution_count": null,
   "id": "679e759a",
   "metadata": {},
   "outputs": [],
   "source": []
  }
 ],
 "metadata": {
  "kernelspec": {
   "display_name": "Python 3 (ipykernel)",
   "language": "python",
   "name": "python3"
  },
  "language_info": {
   "codemirror_mode": {
    "name": "ipython",
    "version": 3
   },
   "file_extension": ".py",
   "mimetype": "text/x-python",
   "name": "python",
   "nbconvert_exporter": "python",
   "pygments_lexer": "ipython3",
   "version": "3.9.12"
  }
 },
 "nbformat": 4,
 "nbformat_minor": 5
}
