{
 "cells": [
  {
   "cell_type": "markdown",
   "id": "b6fe8339",
   "metadata": {},
   "source": [
    "                                            Glass Identification\n",
    "Project Description\n",
    "The dataset describes the chemical properties of glass and involves classifying samples of glass using their chemical properties as one of six classes. The dataset was credited to Vina Spiehler in 1987. The study of classification of types of glass was motivated by criminological investigation. At the scene of the crime, the glass left can be used as evidence...if it is correctly identified!\n",
    "\n",
    "The chemical compositions are measured as the weight percent in corresponding oxide.\n",
    "Attribute Information-\n",
    "1.Id number: 1 to 214\n",
    "2.RI: refractive index\n",
    "3.Na: Sodium (unit measurement: weight percent in corresponding oxide, as are attributes 4-10)\n",
    "4.Mg: Magnesium\n",
    "5.Al: Aluminum\n",
    "6.Si: Silicon\n",
    "7.K: Potassium\n",
    "8.Ca: Calcium\n",
    "9.Ba: Barium\n",
    "10.Fe: Iron\n",
    "11.Type of glass: (class attribute)\n",
    "    \n",
    "    \n",
    "•   1- building_windows_float_processed\n",
    "•   2- building_windows_non_float_processed\n",
    "•   3- vehicle_windows_float_processed\n",
    "•   4- vehicle_windows_non_float_processed (none in this database)\n",
    "•   5- containers\n",
    "•   6- tableware\n",
    "•   7- headlamps\n",
    "There are 214 observations in the dataset. The dataset can be divided into window glass (classes 1-4) and non-window glass (classes 5-7). \n",
    "Predict : Type of glass\n",
    "\n"
   ]
  },
  {
   "cell_type": "code",
   "execution_count": 7,
   "id": "2482c9c9",
   "metadata": {},
   "outputs": [],
   "source": [
    "#importing the libraries\n",
    "import pandas as pd\n",
    "import numpy as np\n",
    "import seaborn as sns\n",
    "import matplotlib.pyplot as plt\n",
    "%matplotlib inline\n",
    "from sklearn.preprocessing import StandardScaler\n",
    "from sklearn.model_selection import train_test_split,GridSearchCV\n",
    "from sklearn.metrics import accuracy_score, classification_report, roc_curve, confusion_matrix\n",
    "import warnings\n",
    "warnings.filterwarnings('ignore')"
   ]
  },
  {
   "cell_type": "code",
   "execution_count": 8,
   "id": "43a70ed0",
   "metadata": {},
   "outputs": [
    {
     "data": {
      "text/html": [
       "<div>\n",
       "<style scoped>\n",
       "    .dataframe tbody tr th:only-of-type {\n",
       "        vertical-align: middle;\n",
       "    }\n",
       "\n",
       "    .dataframe tbody tr th {\n",
       "        vertical-align: top;\n",
       "    }\n",
       "\n",
       "    .dataframe thead th {\n",
       "        text-align: right;\n",
       "    }\n",
       "</style>\n",
       "<table border=\"1\" class=\"dataframe\">\n",
       "  <thead>\n",
       "    <tr style=\"text-align: right;\">\n",
       "      <th></th>\n",
       "      <th>1</th>\n",
       "      <th>1.52101</th>\n",
       "      <th>13.64</th>\n",
       "      <th>4.49</th>\n",
       "      <th>1.10</th>\n",
       "      <th>71.78</th>\n",
       "      <th>0.06</th>\n",
       "      <th>8.75</th>\n",
       "      <th>0.00</th>\n",
       "      <th>0.00.1</th>\n",
       "      <th>1.1</th>\n",
       "    </tr>\n",
       "  </thead>\n",
       "  <tbody>\n",
       "    <tr>\n",
       "      <th>0</th>\n",
       "      <td>2</td>\n",
       "      <td>1.51761</td>\n",
       "      <td>13.89</td>\n",
       "      <td>3.60</td>\n",
       "      <td>1.36</td>\n",
       "      <td>72.73</td>\n",
       "      <td>0.48</td>\n",
       "      <td>7.83</td>\n",
       "      <td>0.00</td>\n",
       "      <td>0.00</td>\n",
       "      <td>1</td>\n",
       "    </tr>\n",
       "    <tr>\n",
       "      <th>1</th>\n",
       "      <td>3</td>\n",
       "      <td>1.51618</td>\n",
       "      <td>13.53</td>\n",
       "      <td>3.55</td>\n",
       "      <td>1.54</td>\n",
       "      <td>72.99</td>\n",
       "      <td>0.39</td>\n",
       "      <td>7.78</td>\n",
       "      <td>0.00</td>\n",
       "      <td>0.00</td>\n",
       "      <td>1</td>\n",
       "    </tr>\n",
       "    <tr>\n",
       "      <th>2</th>\n",
       "      <td>4</td>\n",
       "      <td>1.51766</td>\n",
       "      <td>13.21</td>\n",
       "      <td>3.69</td>\n",
       "      <td>1.29</td>\n",
       "      <td>72.61</td>\n",
       "      <td>0.57</td>\n",
       "      <td>8.22</td>\n",
       "      <td>0.00</td>\n",
       "      <td>0.00</td>\n",
       "      <td>1</td>\n",
       "    </tr>\n",
       "    <tr>\n",
       "      <th>3</th>\n",
       "      <td>5</td>\n",
       "      <td>1.51742</td>\n",
       "      <td>13.27</td>\n",
       "      <td>3.62</td>\n",
       "      <td>1.24</td>\n",
       "      <td>73.08</td>\n",
       "      <td>0.55</td>\n",
       "      <td>8.07</td>\n",
       "      <td>0.00</td>\n",
       "      <td>0.00</td>\n",
       "      <td>1</td>\n",
       "    </tr>\n",
       "    <tr>\n",
       "      <th>4</th>\n",
       "      <td>6</td>\n",
       "      <td>1.51596</td>\n",
       "      <td>12.79</td>\n",
       "      <td>3.61</td>\n",
       "      <td>1.62</td>\n",
       "      <td>72.97</td>\n",
       "      <td>0.64</td>\n",
       "      <td>8.07</td>\n",
       "      <td>0.00</td>\n",
       "      <td>0.26</td>\n",
       "      <td>1</td>\n",
       "    </tr>\n",
       "    <tr>\n",
       "      <th>...</th>\n",
       "      <td>...</td>\n",
       "      <td>...</td>\n",
       "      <td>...</td>\n",
       "      <td>...</td>\n",
       "      <td>...</td>\n",
       "      <td>...</td>\n",
       "      <td>...</td>\n",
       "      <td>...</td>\n",
       "      <td>...</td>\n",
       "      <td>...</td>\n",
       "      <td>...</td>\n",
       "    </tr>\n",
       "    <tr>\n",
       "      <th>208</th>\n",
       "      <td>210</td>\n",
       "      <td>1.51623</td>\n",
       "      <td>14.14</td>\n",
       "      <td>0.00</td>\n",
       "      <td>2.88</td>\n",
       "      <td>72.61</td>\n",
       "      <td>0.08</td>\n",
       "      <td>9.18</td>\n",
       "      <td>1.06</td>\n",
       "      <td>0.00</td>\n",
       "      <td>7</td>\n",
       "    </tr>\n",
       "    <tr>\n",
       "      <th>209</th>\n",
       "      <td>211</td>\n",
       "      <td>1.51685</td>\n",
       "      <td>14.92</td>\n",
       "      <td>0.00</td>\n",
       "      <td>1.99</td>\n",
       "      <td>73.06</td>\n",
       "      <td>0.00</td>\n",
       "      <td>8.40</td>\n",
       "      <td>1.59</td>\n",
       "      <td>0.00</td>\n",
       "      <td>7</td>\n",
       "    </tr>\n",
       "    <tr>\n",
       "      <th>210</th>\n",
       "      <td>212</td>\n",
       "      <td>1.52065</td>\n",
       "      <td>14.36</td>\n",
       "      <td>0.00</td>\n",
       "      <td>2.02</td>\n",
       "      <td>73.42</td>\n",
       "      <td>0.00</td>\n",
       "      <td>8.44</td>\n",
       "      <td>1.64</td>\n",
       "      <td>0.00</td>\n",
       "      <td>7</td>\n",
       "    </tr>\n",
       "    <tr>\n",
       "      <th>211</th>\n",
       "      <td>213</td>\n",
       "      <td>1.51651</td>\n",
       "      <td>14.38</td>\n",
       "      <td>0.00</td>\n",
       "      <td>1.94</td>\n",
       "      <td>73.61</td>\n",
       "      <td>0.00</td>\n",
       "      <td>8.48</td>\n",
       "      <td>1.57</td>\n",
       "      <td>0.00</td>\n",
       "      <td>7</td>\n",
       "    </tr>\n",
       "    <tr>\n",
       "      <th>212</th>\n",
       "      <td>214</td>\n",
       "      <td>1.51711</td>\n",
       "      <td>14.23</td>\n",
       "      <td>0.00</td>\n",
       "      <td>2.08</td>\n",
       "      <td>73.36</td>\n",
       "      <td>0.00</td>\n",
       "      <td>8.62</td>\n",
       "      <td>1.67</td>\n",
       "      <td>0.00</td>\n",
       "      <td>7</td>\n",
       "    </tr>\n",
       "  </tbody>\n",
       "</table>\n",
       "<p>213 rows × 11 columns</p>\n",
       "</div>"
      ],
      "text/plain": [
       "       1  1.52101  13.64  4.49  1.10  71.78  0.06  8.75  0.00  0.00.1  1.1\n",
       "0      2  1.51761  13.89  3.60  1.36  72.73  0.48  7.83  0.00    0.00    1\n",
       "1      3  1.51618  13.53  3.55  1.54  72.99  0.39  7.78  0.00    0.00    1\n",
       "2      4  1.51766  13.21  3.69  1.29  72.61  0.57  8.22  0.00    0.00    1\n",
       "3      5  1.51742  13.27  3.62  1.24  73.08  0.55  8.07  0.00    0.00    1\n",
       "4      6  1.51596  12.79  3.61  1.62  72.97  0.64  8.07  0.00    0.26    1\n",
       "..   ...      ...    ...   ...   ...    ...   ...   ...   ...     ...  ...\n",
       "208  210  1.51623  14.14  0.00  2.88  72.61  0.08  9.18  1.06    0.00    7\n",
       "209  211  1.51685  14.92  0.00  1.99  73.06  0.00  8.40  1.59    0.00    7\n",
       "210  212  1.52065  14.36  0.00  2.02  73.42  0.00  8.44  1.64    0.00    7\n",
       "211  213  1.51651  14.38  0.00  1.94  73.61  0.00  8.48  1.57    0.00    7\n",
       "212  214  1.51711  14.23  0.00  2.08  73.36  0.00  8.62  1.67    0.00    7\n",
       "\n",
       "[213 rows x 11 columns]"
      ]
     },
     "execution_count": 8,
     "metadata": {},
     "output_type": "execute_result"
    }
   ],
   "source": [
    "##Loading the data\n",
    "data=pd.read_csv(r'C:\\Users\\HP\\Downloads\\glass.csv')\n",
    "data"
   ]
  },
  {
   "cell_type": "markdown",
   "id": "01cada4c",
   "metadata": {},
   "source": [
    "In the given dataset first row is considered as column name so we have change it to the row and fix the column which was already provided in the given data."
   ]
  },
  {
   "cell_type": "code",
   "execution_count": 11,
   "id": "c017f09c",
   "metadata": {},
   "outputs": [],
   "source": [
    "#forming a new row:\n",
    "new_row=[1,1.52101,13.64,4.49,1.10,71.78,0.06,8.75,0,0,1]"
   ]
  },
  {
   "cell_type": "code",
   "execution_count": 12,
   "id": "3ece8b0a",
   "metadata": {},
   "outputs": [
    {
     "data": {
      "text/html": [
       "<div>\n",
       "<style scoped>\n",
       "    .dataframe tbody tr th:only-of-type {\n",
       "        vertical-align: middle;\n",
       "    }\n",
       "\n",
       "    .dataframe tbody tr th {\n",
       "        vertical-align: top;\n",
       "    }\n",
       "\n",
       "    .dataframe thead th {\n",
       "        text-align: right;\n",
       "    }\n",
       "</style>\n",
       "<table border=\"1\" class=\"dataframe\">\n",
       "  <thead>\n",
       "    <tr style=\"text-align: right;\">\n",
       "      <th></th>\n",
       "      <th>Id number</th>\n",
       "      <th>RI</th>\n",
       "      <th>Na</th>\n",
       "      <th>Mg</th>\n",
       "      <th>Al</th>\n",
       "      <th>Si</th>\n",
       "      <th>K</th>\n",
       "      <th>Ca</th>\n",
       "      <th>Ba</th>\n",
       "      <th>Fe</th>\n",
       "      <th>Type of glass</th>\n",
       "    </tr>\n",
       "  </thead>\n",
       "  <tbody>\n",
       "    <tr>\n",
       "      <th>0</th>\n",
       "      <td>1</td>\n",
       "      <td>1.52101</td>\n",
       "      <td>13.64</td>\n",
       "      <td>4.49</td>\n",
       "      <td>1.1</td>\n",
       "      <td>71.78</td>\n",
       "      <td>0.06</td>\n",
       "      <td>8.75</td>\n",
       "      <td>0</td>\n",
       "      <td>0</td>\n",
       "      <td>1</td>\n",
       "    </tr>\n",
       "  </tbody>\n",
       "</table>\n",
       "</div>"
      ],
      "text/plain": [
       "   Id number       RI     Na    Mg   Al     Si     K    Ca  Ba  Fe  \\\n",
       "0          1  1.52101  13.64  4.49  1.1  71.78  0.06  8.75   0   0   \n",
       "\n",
       "   Type of glass  \n",
       "0              1  "
      ]
     },
     "execution_count": 12,
     "metadata": {},
     "output_type": "execute_result"
    }
   ],
   "source": [
    "#converting to dataframe:\n",
    "new_df=pd.DataFrame([new_row], columns=['Id number','RI','Na','Mg','Al','Si','K','Ca','Ba','Fe','Type of glass'])\n",
    "new_df"
   ]
  },
  {
   "cell_type": "code",
   "execution_count": 13,
   "id": "b28723f6",
   "metadata": {},
   "outputs": [
    {
     "data": {
      "text/plain": [
       "(1, 11)"
      ]
     },
     "execution_count": 13,
     "metadata": {},
     "output_type": "execute_result"
    }
   ],
   "source": [
    "#shape of the new row\n",
    "new_df.shape"
   ]
  },
  {
   "cell_type": "code",
   "execution_count": 14,
   "id": "e2a94c2c",
   "metadata": {},
   "outputs": [
    {
     "data": {
      "text/html": [
       "<div>\n",
       "<style scoped>\n",
       "    .dataframe tbody tr th:only-of-type {\n",
       "        vertical-align: middle;\n",
       "    }\n",
       "\n",
       "    .dataframe tbody tr th {\n",
       "        vertical-align: top;\n",
       "    }\n",
       "\n",
       "    .dataframe thead th {\n",
       "        text-align: right;\n",
       "    }\n",
       "</style>\n",
       "<table border=\"1\" class=\"dataframe\">\n",
       "  <thead>\n",
       "    <tr style=\"text-align: right;\">\n",
       "      <th></th>\n",
       "      <th>Id number</th>\n",
       "      <th>RI</th>\n",
       "      <th>Na</th>\n",
       "      <th>Mg</th>\n",
       "      <th>Al</th>\n",
       "      <th>Si</th>\n",
       "      <th>K</th>\n",
       "      <th>Ca</th>\n",
       "      <th>Ba</th>\n",
       "      <th>Fe</th>\n",
       "      <th>Type of glass</th>\n",
       "    </tr>\n",
       "  </thead>\n",
       "  <tbody>\n",
       "    <tr>\n",
       "      <th>0</th>\n",
       "      <td>2</td>\n",
       "      <td>1.51761</td>\n",
       "      <td>13.89</td>\n",
       "      <td>3.60</td>\n",
       "      <td>1.36</td>\n",
       "      <td>72.73</td>\n",
       "      <td>0.48</td>\n",
       "      <td>7.83</td>\n",
       "      <td>0.0</td>\n",
       "      <td>0.00</td>\n",
       "      <td>1</td>\n",
       "    </tr>\n",
       "    <tr>\n",
       "      <th>1</th>\n",
       "      <td>3</td>\n",
       "      <td>1.51618</td>\n",
       "      <td>13.53</td>\n",
       "      <td>3.55</td>\n",
       "      <td>1.54</td>\n",
       "      <td>72.99</td>\n",
       "      <td>0.39</td>\n",
       "      <td>7.78</td>\n",
       "      <td>0.0</td>\n",
       "      <td>0.00</td>\n",
       "      <td>1</td>\n",
       "    </tr>\n",
       "    <tr>\n",
       "      <th>2</th>\n",
       "      <td>4</td>\n",
       "      <td>1.51766</td>\n",
       "      <td>13.21</td>\n",
       "      <td>3.69</td>\n",
       "      <td>1.29</td>\n",
       "      <td>72.61</td>\n",
       "      <td>0.57</td>\n",
       "      <td>8.22</td>\n",
       "      <td>0.0</td>\n",
       "      <td>0.00</td>\n",
       "      <td>1</td>\n",
       "    </tr>\n",
       "    <tr>\n",
       "      <th>3</th>\n",
       "      <td>5</td>\n",
       "      <td>1.51742</td>\n",
       "      <td>13.27</td>\n",
       "      <td>3.62</td>\n",
       "      <td>1.24</td>\n",
       "      <td>73.08</td>\n",
       "      <td>0.55</td>\n",
       "      <td>8.07</td>\n",
       "      <td>0.0</td>\n",
       "      <td>0.00</td>\n",
       "      <td>1</td>\n",
       "    </tr>\n",
       "    <tr>\n",
       "      <th>4</th>\n",
       "      <td>6</td>\n",
       "      <td>1.51596</td>\n",
       "      <td>12.79</td>\n",
       "      <td>3.61</td>\n",
       "      <td>1.62</td>\n",
       "      <td>72.97</td>\n",
       "      <td>0.64</td>\n",
       "      <td>8.07</td>\n",
       "      <td>0.0</td>\n",
       "      <td>0.26</td>\n",
       "      <td>1</td>\n",
       "    </tr>\n",
       "  </tbody>\n",
       "</table>\n",
       "</div>"
      ],
      "text/plain": [
       "   Id number       RI     Na    Mg    Al     Si     K    Ca   Ba    Fe  \\\n",
       "0          2  1.51761  13.89  3.60  1.36  72.73  0.48  7.83  0.0  0.00   \n",
       "1          3  1.51618  13.53  3.55  1.54  72.99  0.39  7.78  0.0  0.00   \n",
       "2          4  1.51766  13.21  3.69  1.29  72.61  0.57  8.22  0.0  0.00   \n",
       "3          5  1.51742  13.27  3.62  1.24  73.08  0.55  8.07  0.0  0.00   \n",
       "4          6  1.51596  12.79  3.61  1.62  72.97  0.64  8.07  0.0  0.26   \n",
       "\n",
       "   Type of glass  \n",
       "0              1  \n",
       "1              1  \n",
       "2              1  \n",
       "3              1  \n",
       "4              1  "
      ]
     },
     "execution_count": 14,
     "metadata": {},
     "output_type": "execute_result"
    }
   ],
   "source": [
    "#providing the column name for the given dataset:\n",
    "data.set_axis(['Id number','RI','Na','Mg','Al','Si','K','Ca','Ba','Fe','Type of glass'],axis='columns', inplace=True)\n",
    "data.head()"
   ]
  },
  {
   "cell_type": "code",
   "execution_count": 15,
   "id": "89d3ae8e",
   "metadata": {},
   "outputs": [
    {
     "data": {
      "text/plain": [
       "(213, 11)"
      ]
     },
     "execution_count": 15,
     "metadata": {},
     "output_type": "execute_result"
    }
   ],
   "source": [
    "data.shape"
   ]
  },
  {
   "cell_type": "code",
   "execution_count": 16,
   "id": "9b9a757b",
   "metadata": {},
   "outputs": [],
   "source": [
    "new_row=[1,1.52101,13.64,4.49,1.10,71.78,0.06,8.75,0,0,1]"
   ]
  },
  {
   "cell_type": "code",
   "execution_count": 17,
   "id": "e7a62542",
   "metadata": {},
   "outputs": [
    {
     "data": {
      "text/html": [
       "<div>\n",
       "<style scoped>\n",
       "    .dataframe tbody tr th:only-of-type {\n",
       "        vertical-align: middle;\n",
       "    }\n",
       "\n",
       "    .dataframe tbody tr th {\n",
       "        vertical-align: top;\n",
       "    }\n",
       "\n",
       "    .dataframe thead th {\n",
       "        text-align: right;\n",
       "    }\n",
       "</style>\n",
       "<table border=\"1\" class=\"dataframe\">\n",
       "  <thead>\n",
       "    <tr style=\"text-align: right;\">\n",
       "      <th></th>\n",
       "      <th>Id number</th>\n",
       "      <th>RI</th>\n",
       "      <th>Na</th>\n",
       "      <th>Mg</th>\n",
       "      <th>Al</th>\n",
       "      <th>Si</th>\n",
       "      <th>K</th>\n",
       "      <th>Ca</th>\n",
       "      <th>Ba</th>\n",
       "      <th>Fe</th>\n",
       "      <th>Type of glass</th>\n",
       "    </tr>\n",
       "  </thead>\n",
       "  <tbody>\n",
       "    <tr>\n",
       "      <th>0</th>\n",
       "      <td>1</td>\n",
       "      <td>1.52101</td>\n",
       "      <td>13.64</td>\n",
       "      <td>4.49</td>\n",
       "      <td>1.1</td>\n",
       "      <td>71.78</td>\n",
       "      <td>0.06</td>\n",
       "      <td>8.75</td>\n",
       "      <td>0</td>\n",
       "      <td>0</td>\n",
       "      <td>1</td>\n",
       "    </tr>\n",
       "  </tbody>\n",
       "</table>\n",
       "</div>"
      ],
      "text/plain": [
       "   Id number       RI     Na    Mg   Al     Si     K    Ca  Ba  Fe  \\\n",
       "0          1  1.52101  13.64  4.49  1.1  71.78  0.06  8.75   0   0   \n",
       "\n",
       "   Type of glass  \n",
       "0              1  "
      ]
     },
     "execution_count": 17,
     "metadata": {},
     "output_type": "execute_result"
    }
   ],
   "source": [
    "new_df=pd.DataFrame([new_row], columns=['Id number','RI','Na','Mg','Al','Si','K','Ca','Ba','Fe','Type of glass'])\n",
    "new_df"
   ]
  },
  {
   "cell_type": "code",
   "execution_count": 18,
   "id": "332c421f",
   "metadata": {},
   "outputs": [
    {
     "data": {
      "text/plain": [
       "(213, 11)"
      ]
     },
     "execution_count": 18,
     "metadata": {},
     "output_type": "execute_result"
    }
   ],
   "source": [
    "data.shape\n"
   ]
  },
  {
   "cell_type": "code",
   "execution_count": 19,
   "id": "b8ebe3f9",
   "metadata": {},
   "outputs": [
    {
     "data": {
      "text/html": [
       "<div>\n",
       "<style scoped>\n",
       "    .dataframe tbody tr th:only-of-type {\n",
       "        vertical-align: middle;\n",
       "    }\n",
       "\n",
       "    .dataframe tbody tr th {\n",
       "        vertical-align: top;\n",
       "    }\n",
       "\n",
       "    .dataframe thead th {\n",
       "        text-align: right;\n",
       "    }\n",
       "</style>\n",
       "<table border=\"1\" class=\"dataframe\">\n",
       "  <thead>\n",
       "    <tr style=\"text-align: right;\">\n",
       "      <th></th>\n",
       "      <th>Id number</th>\n",
       "      <th>RI</th>\n",
       "      <th>Na</th>\n",
       "      <th>Mg</th>\n",
       "      <th>Al</th>\n",
       "      <th>Si</th>\n",
       "      <th>K</th>\n",
       "      <th>Ca</th>\n",
       "      <th>Ba</th>\n",
       "      <th>Fe</th>\n",
       "      <th>Type of glass</th>\n",
       "    </tr>\n",
       "  </thead>\n",
       "  <tbody>\n",
       "    <tr>\n",
       "      <th>0</th>\n",
       "      <td>1</td>\n",
       "      <td>1.52101</td>\n",
       "      <td>13.64</td>\n",
       "      <td>4.49</td>\n",
       "      <td>1.10</td>\n",
       "      <td>71.78</td>\n",
       "      <td>0.06</td>\n",
       "      <td>8.75</td>\n",
       "      <td>0.00</td>\n",
       "      <td>0.0</td>\n",
       "      <td>1</td>\n",
       "    </tr>\n",
       "    <tr>\n",
       "      <th>1</th>\n",
       "      <td>2</td>\n",
       "      <td>1.51761</td>\n",
       "      <td>13.89</td>\n",
       "      <td>3.60</td>\n",
       "      <td>1.36</td>\n",
       "      <td>72.73</td>\n",
       "      <td>0.48</td>\n",
       "      <td>7.83</td>\n",
       "      <td>0.00</td>\n",
       "      <td>0.0</td>\n",
       "      <td>1</td>\n",
       "    </tr>\n",
       "    <tr>\n",
       "      <th>2</th>\n",
       "      <td>3</td>\n",
       "      <td>1.51618</td>\n",
       "      <td>13.53</td>\n",
       "      <td>3.55</td>\n",
       "      <td>1.54</td>\n",
       "      <td>72.99</td>\n",
       "      <td>0.39</td>\n",
       "      <td>7.78</td>\n",
       "      <td>0.00</td>\n",
       "      <td>0.0</td>\n",
       "      <td>1</td>\n",
       "    </tr>\n",
       "    <tr>\n",
       "      <th>3</th>\n",
       "      <td>4</td>\n",
       "      <td>1.51766</td>\n",
       "      <td>13.21</td>\n",
       "      <td>3.69</td>\n",
       "      <td>1.29</td>\n",
       "      <td>72.61</td>\n",
       "      <td>0.57</td>\n",
       "      <td>8.22</td>\n",
       "      <td>0.00</td>\n",
       "      <td>0.0</td>\n",
       "      <td>1</td>\n",
       "    </tr>\n",
       "    <tr>\n",
       "      <th>4</th>\n",
       "      <td>5</td>\n",
       "      <td>1.51742</td>\n",
       "      <td>13.27</td>\n",
       "      <td>3.62</td>\n",
       "      <td>1.24</td>\n",
       "      <td>73.08</td>\n",
       "      <td>0.55</td>\n",
       "      <td>8.07</td>\n",
       "      <td>0.00</td>\n",
       "      <td>0.0</td>\n",
       "      <td>1</td>\n",
       "    </tr>\n",
       "    <tr>\n",
       "      <th>...</th>\n",
       "      <td>...</td>\n",
       "      <td>...</td>\n",
       "      <td>...</td>\n",
       "      <td>...</td>\n",
       "      <td>...</td>\n",
       "      <td>...</td>\n",
       "      <td>...</td>\n",
       "      <td>...</td>\n",
       "      <td>...</td>\n",
       "      <td>...</td>\n",
       "      <td>...</td>\n",
       "    </tr>\n",
       "    <tr>\n",
       "      <th>209</th>\n",
       "      <td>210</td>\n",
       "      <td>1.51623</td>\n",
       "      <td>14.14</td>\n",
       "      <td>0.00</td>\n",
       "      <td>2.88</td>\n",
       "      <td>72.61</td>\n",
       "      <td>0.08</td>\n",
       "      <td>9.18</td>\n",
       "      <td>1.06</td>\n",
       "      <td>0.0</td>\n",
       "      <td>7</td>\n",
       "    </tr>\n",
       "    <tr>\n",
       "      <th>210</th>\n",
       "      <td>211</td>\n",
       "      <td>1.51685</td>\n",
       "      <td>14.92</td>\n",
       "      <td>0.00</td>\n",
       "      <td>1.99</td>\n",
       "      <td>73.06</td>\n",
       "      <td>0.00</td>\n",
       "      <td>8.40</td>\n",
       "      <td>1.59</td>\n",
       "      <td>0.0</td>\n",
       "      <td>7</td>\n",
       "    </tr>\n",
       "    <tr>\n",
       "      <th>211</th>\n",
       "      <td>212</td>\n",
       "      <td>1.52065</td>\n",
       "      <td>14.36</td>\n",
       "      <td>0.00</td>\n",
       "      <td>2.02</td>\n",
       "      <td>73.42</td>\n",
       "      <td>0.00</td>\n",
       "      <td>8.44</td>\n",
       "      <td>1.64</td>\n",
       "      <td>0.0</td>\n",
       "      <td>7</td>\n",
       "    </tr>\n",
       "    <tr>\n",
       "      <th>212</th>\n",
       "      <td>213</td>\n",
       "      <td>1.51651</td>\n",
       "      <td>14.38</td>\n",
       "      <td>0.00</td>\n",
       "      <td>1.94</td>\n",
       "      <td>73.61</td>\n",
       "      <td>0.00</td>\n",
       "      <td>8.48</td>\n",
       "      <td>1.57</td>\n",
       "      <td>0.0</td>\n",
       "      <td>7</td>\n",
       "    </tr>\n",
       "    <tr>\n",
       "      <th>213</th>\n",
       "      <td>214</td>\n",
       "      <td>1.51711</td>\n",
       "      <td>14.23</td>\n",
       "      <td>0.00</td>\n",
       "      <td>2.08</td>\n",
       "      <td>73.36</td>\n",
       "      <td>0.00</td>\n",
       "      <td>8.62</td>\n",
       "      <td>1.67</td>\n",
       "      <td>0.0</td>\n",
       "      <td>7</td>\n",
       "    </tr>\n",
       "  </tbody>\n",
       "</table>\n",
       "<p>214 rows × 11 columns</p>\n",
       "</div>"
      ],
      "text/plain": [
       "     Id number       RI     Na    Mg    Al     Si     K    Ca    Ba   Fe  \\\n",
       "0            1  1.52101  13.64  4.49  1.10  71.78  0.06  8.75  0.00  0.0   \n",
       "1            2  1.51761  13.89  3.60  1.36  72.73  0.48  7.83  0.00  0.0   \n",
       "2            3  1.51618  13.53  3.55  1.54  72.99  0.39  7.78  0.00  0.0   \n",
       "3            4  1.51766  13.21  3.69  1.29  72.61  0.57  8.22  0.00  0.0   \n",
       "4            5  1.51742  13.27  3.62  1.24  73.08  0.55  8.07  0.00  0.0   \n",
       "..         ...      ...    ...   ...   ...    ...   ...   ...   ...  ...   \n",
       "209        210  1.51623  14.14  0.00  2.88  72.61  0.08  9.18  1.06  0.0   \n",
       "210        211  1.51685  14.92  0.00  1.99  73.06  0.00  8.40  1.59  0.0   \n",
       "211        212  1.52065  14.36  0.00  2.02  73.42  0.00  8.44  1.64  0.0   \n",
       "212        213  1.51651  14.38  0.00  1.94  73.61  0.00  8.48  1.57  0.0   \n",
       "213        214  1.51711  14.23  0.00  2.08  73.36  0.00  8.62  1.67  0.0   \n",
       "\n",
       "     Type of glass  \n",
       "0                1  \n",
       "1                1  \n",
       "2                1  \n",
       "3                1  \n",
       "4                1  \n",
       "..             ...  \n",
       "209              7  \n",
       "210              7  \n",
       "211              7  \n",
       "212              7  \n",
       "213              7  \n",
       "\n",
       "[214 rows x 11 columns]"
      ]
     },
     "execution_count": 19,
     "metadata": {},
     "output_type": "execute_result"
    }
   ],
   "source": [
    "data=pd.concat([new_df, data], ignore_index=True)\n",
    "data"
   ]
  },
  {
   "cell_type": "markdown",
   "id": "bbdfc939",
   "metadata": {},
   "source": [
    "now the shape of the datase is 214 rows and 11 columns."
   ]
  },
  {
   "cell_type": "markdown",
   "id": "a2655536",
   "metadata": {},
   "source": [
    "Preprocessing "
   ]
  },
  {
   "cell_type": "code",
   "execution_count": 20,
   "id": "09982b3c",
   "metadata": {},
   "outputs": [
    {
     "data": {
      "text/html": [
       "<div>\n",
       "<style scoped>\n",
       "    .dataframe tbody tr th:only-of-type {\n",
       "        vertical-align: middle;\n",
       "    }\n",
       "\n",
       "    .dataframe tbody tr th {\n",
       "        vertical-align: top;\n",
       "    }\n",
       "\n",
       "    .dataframe thead th {\n",
       "        text-align: right;\n",
       "    }\n",
       "</style>\n",
       "<table border=\"1\" class=\"dataframe\">\n",
       "  <thead>\n",
       "    <tr style=\"text-align: right;\">\n",
       "      <th></th>\n",
       "      <th>RI</th>\n",
       "      <th>Na</th>\n",
       "      <th>Mg</th>\n",
       "      <th>Al</th>\n",
       "      <th>Si</th>\n",
       "      <th>K</th>\n",
       "      <th>Ca</th>\n",
       "      <th>Ba</th>\n",
       "      <th>Fe</th>\n",
       "      <th>Type of glass</th>\n",
       "    </tr>\n",
       "  </thead>\n",
       "  <tbody>\n",
       "    <tr>\n",
       "      <th>0</th>\n",
       "      <td>1.52101</td>\n",
       "      <td>13.64</td>\n",
       "      <td>4.49</td>\n",
       "      <td>1.10</td>\n",
       "      <td>71.78</td>\n",
       "      <td>0.06</td>\n",
       "      <td>8.75</td>\n",
       "      <td>0.00</td>\n",
       "      <td>0.0</td>\n",
       "      <td>1</td>\n",
       "    </tr>\n",
       "    <tr>\n",
       "      <th>1</th>\n",
       "      <td>1.51761</td>\n",
       "      <td>13.89</td>\n",
       "      <td>3.60</td>\n",
       "      <td>1.36</td>\n",
       "      <td>72.73</td>\n",
       "      <td>0.48</td>\n",
       "      <td>7.83</td>\n",
       "      <td>0.00</td>\n",
       "      <td>0.0</td>\n",
       "      <td>1</td>\n",
       "    </tr>\n",
       "    <tr>\n",
       "      <th>2</th>\n",
       "      <td>1.51618</td>\n",
       "      <td>13.53</td>\n",
       "      <td>3.55</td>\n",
       "      <td>1.54</td>\n",
       "      <td>72.99</td>\n",
       "      <td>0.39</td>\n",
       "      <td>7.78</td>\n",
       "      <td>0.00</td>\n",
       "      <td>0.0</td>\n",
       "      <td>1</td>\n",
       "    </tr>\n",
       "    <tr>\n",
       "      <th>3</th>\n",
       "      <td>1.51766</td>\n",
       "      <td>13.21</td>\n",
       "      <td>3.69</td>\n",
       "      <td>1.29</td>\n",
       "      <td>72.61</td>\n",
       "      <td>0.57</td>\n",
       "      <td>8.22</td>\n",
       "      <td>0.00</td>\n",
       "      <td>0.0</td>\n",
       "      <td>1</td>\n",
       "    </tr>\n",
       "    <tr>\n",
       "      <th>4</th>\n",
       "      <td>1.51742</td>\n",
       "      <td>13.27</td>\n",
       "      <td>3.62</td>\n",
       "      <td>1.24</td>\n",
       "      <td>73.08</td>\n",
       "      <td>0.55</td>\n",
       "      <td>8.07</td>\n",
       "      <td>0.00</td>\n",
       "      <td>0.0</td>\n",
       "      <td>1</td>\n",
       "    </tr>\n",
       "    <tr>\n",
       "      <th>...</th>\n",
       "      <td>...</td>\n",
       "      <td>...</td>\n",
       "      <td>...</td>\n",
       "      <td>...</td>\n",
       "      <td>...</td>\n",
       "      <td>...</td>\n",
       "      <td>...</td>\n",
       "      <td>...</td>\n",
       "      <td>...</td>\n",
       "      <td>...</td>\n",
       "    </tr>\n",
       "    <tr>\n",
       "      <th>209</th>\n",
       "      <td>1.51623</td>\n",
       "      <td>14.14</td>\n",
       "      <td>0.00</td>\n",
       "      <td>2.88</td>\n",
       "      <td>72.61</td>\n",
       "      <td>0.08</td>\n",
       "      <td>9.18</td>\n",
       "      <td>1.06</td>\n",
       "      <td>0.0</td>\n",
       "      <td>7</td>\n",
       "    </tr>\n",
       "    <tr>\n",
       "      <th>210</th>\n",
       "      <td>1.51685</td>\n",
       "      <td>14.92</td>\n",
       "      <td>0.00</td>\n",
       "      <td>1.99</td>\n",
       "      <td>73.06</td>\n",
       "      <td>0.00</td>\n",
       "      <td>8.40</td>\n",
       "      <td>1.59</td>\n",
       "      <td>0.0</td>\n",
       "      <td>7</td>\n",
       "    </tr>\n",
       "    <tr>\n",
       "      <th>211</th>\n",
       "      <td>1.52065</td>\n",
       "      <td>14.36</td>\n",
       "      <td>0.00</td>\n",
       "      <td>2.02</td>\n",
       "      <td>73.42</td>\n",
       "      <td>0.00</td>\n",
       "      <td>8.44</td>\n",
       "      <td>1.64</td>\n",
       "      <td>0.0</td>\n",
       "      <td>7</td>\n",
       "    </tr>\n",
       "    <tr>\n",
       "      <th>212</th>\n",
       "      <td>1.51651</td>\n",
       "      <td>14.38</td>\n",
       "      <td>0.00</td>\n",
       "      <td>1.94</td>\n",
       "      <td>73.61</td>\n",
       "      <td>0.00</td>\n",
       "      <td>8.48</td>\n",
       "      <td>1.57</td>\n",
       "      <td>0.0</td>\n",
       "      <td>7</td>\n",
       "    </tr>\n",
       "    <tr>\n",
       "      <th>213</th>\n",
       "      <td>1.51711</td>\n",
       "      <td>14.23</td>\n",
       "      <td>0.00</td>\n",
       "      <td>2.08</td>\n",
       "      <td>73.36</td>\n",
       "      <td>0.00</td>\n",
       "      <td>8.62</td>\n",
       "      <td>1.67</td>\n",
       "      <td>0.0</td>\n",
       "      <td>7</td>\n",
       "    </tr>\n",
       "  </tbody>\n",
       "</table>\n",
       "<p>214 rows × 10 columns</p>\n",
       "</div>"
      ],
      "text/plain": [
       "          RI     Na    Mg    Al     Si     K    Ca    Ba   Fe  Type of glass\n",
       "0    1.52101  13.64  4.49  1.10  71.78  0.06  8.75  0.00  0.0              1\n",
       "1    1.51761  13.89  3.60  1.36  72.73  0.48  7.83  0.00  0.0              1\n",
       "2    1.51618  13.53  3.55  1.54  72.99  0.39  7.78  0.00  0.0              1\n",
       "3    1.51766  13.21  3.69  1.29  72.61  0.57  8.22  0.00  0.0              1\n",
       "4    1.51742  13.27  3.62  1.24  73.08  0.55  8.07  0.00  0.0              1\n",
       "..       ...    ...   ...   ...    ...   ...   ...   ...  ...            ...\n",
       "209  1.51623  14.14  0.00  2.88  72.61  0.08  9.18  1.06  0.0              7\n",
       "210  1.51685  14.92  0.00  1.99  73.06  0.00  8.40  1.59  0.0              7\n",
       "211  1.52065  14.36  0.00  2.02  73.42  0.00  8.44  1.64  0.0              7\n",
       "212  1.51651  14.38  0.00  1.94  73.61  0.00  8.48  1.57  0.0              7\n",
       "213  1.51711  14.23  0.00  2.08  73.36  0.00  8.62  1.67  0.0              7\n",
       "\n",
       "[214 rows x 10 columns]"
      ]
     },
     "execution_count": 20,
     "metadata": {},
     "output_type": "execute_result"
    }
   ],
   "source": [
    "#droping id number column:\n",
    "data.drop('Id number', axis=1, inplace=True)\n",
    "data"
   ]
  },
  {
   "cell_type": "markdown",
   "id": "ac18a9a5",
   "metadata": {},
   "source": [
    "neglecting the id number because it has no impact on the dataset."
   ]
  },
  {
   "cell_type": "code",
   "execution_count": 21,
   "id": "04f895d7",
   "metadata": {},
   "outputs": [
    {
     "data": {
      "text/plain": [
       "(214, 10)"
      ]
     },
     "execution_count": 21,
     "metadata": {},
     "output_type": "execute_result"
    }
   ],
   "source": [
    "#find shape of dataset\n",
    "data.shape"
   ]
  },
  {
   "cell_type": "code",
   "execution_count": 22,
   "id": "4c1e62ca",
   "metadata": {},
   "outputs": [
    {
     "data": {
      "text/plain": [
       "Index(['RI', 'Na', 'Mg', 'Al', 'Si', 'K', 'Ca', 'Ba', 'Fe', 'Type of glass'], dtype='object')"
      ]
     },
     "execution_count": 22,
     "metadata": {},
     "output_type": "execute_result"
    }
   ],
   "source": [
    "#name of the columns\n",
    "data.columns"
   ]
  },
  {
   "cell_type": "code",
   "execution_count": 23,
   "id": "bbeb5abf",
   "metadata": {},
   "outputs": [
    {
     "data": {
      "text/plain": [
       "RI               0\n",
       "Na               0\n",
       "Mg               0\n",
       "Al               0\n",
       "Si               0\n",
       "K                0\n",
       "Ca               0\n",
       "Ba               0\n",
       "Fe               0\n",
       "Type of glass    0\n",
       "dtype: int64"
      ]
     },
     "execution_count": 23,
     "metadata": {},
     "output_type": "execute_result"
    }
   ],
   "source": [
    "#finding the null values in the given dataset\n",
    "data.isna().sum()"
   ]
  },
  {
   "cell_type": "markdown",
   "id": "622b1125",
   "metadata": {},
   "source": [
    "No null values are presented."
   ]
  },
  {
   "cell_type": "code",
   "execution_count": 24,
   "id": "eb719a73",
   "metadata": {},
   "outputs": [
    {
     "name": "stdout",
     "output_type": "stream",
     "text": [
      "<class 'pandas.core.frame.DataFrame'>\n",
      "RangeIndex: 214 entries, 0 to 213\n",
      "Data columns (total 10 columns):\n",
      " #   Column         Non-Null Count  Dtype  \n",
      "---  ------         --------------  -----  \n",
      " 0   RI             214 non-null    float64\n",
      " 1   Na             214 non-null    float64\n",
      " 2   Mg             214 non-null    float64\n",
      " 3   Al             214 non-null    float64\n",
      " 4   Si             214 non-null    float64\n",
      " 5   K              214 non-null    float64\n",
      " 6   Ca             214 non-null    float64\n",
      " 7   Ba             214 non-null    float64\n",
      " 8   Fe             214 non-null    float64\n",
      " 9   Type of glass  214 non-null    int64  \n",
      "dtypes: float64(9), int64(1)\n",
      "memory usage: 16.8 KB\n"
     ]
    }
   ],
   "source": [
    "data.info()"
   ]
  },
  {
   "cell_type": "markdown",
   "id": "328c7e51",
   "metadata": {},
   "source": [
    "there and no null values presented and the data contains only numerical values."
   ]
  },
  {
   "cell_type": "code",
   "execution_count": 25,
   "id": "290dc3ef",
   "metadata": {},
   "outputs": [
    {
     "data": {
      "text/html": [
       "<div>\n",
       "<style scoped>\n",
       "    .dataframe tbody tr th:only-of-type {\n",
       "        vertical-align: middle;\n",
       "    }\n",
       "\n",
       "    .dataframe tbody tr th {\n",
       "        vertical-align: top;\n",
       "    }\n",
       "\n",
       "    .dataframe thead th {\n",
       "        text-align: right;\n",
       "    }\n",
       "</style>\n",
       "<table border=\"1\" class=\"dataframe\">\n",
       "  <thead>\n",
       "    <tr style=\"text-align: right;\">\n",
       "      <th></th>\n",
       "      <th>unique values</th>\n",
       "    </tr>\n",
       "  </thead>\n",
       "  <tbody>\n",
       "    <tr>\n",
       "      <th>RI</th>\n",
       "      <td>178</td>\n",
       "    </tr>\n",
       "    <tr>\n",
       "      <th>Na</th>\n",
       "      <td>142</td>\n",
       "    </tr>\n",
       "    <tr>\n",
       "      <th>Mg</th>\n",
       "      <td>94</td>\n",
       "    </tr>\n",
       "    <tr>\n",
       "      <th>Al</th>\n",
       "      <td>118</td>\n",
       "    </tr>\n",
       "    <tr>\n",
       "      <th>Si</th>\n",
       "      <td>133</td>\n",
       "    </tr>\n",
       "    <tr>\n",
       "      <th>K</th>\n",
       "      <td>65</td>\n",
       "    </tr>\n",
       "    <tr>\n",
       "      <th>Ca</th>\n",
       "      <td>143</td>\n",
       "    </tr>\n",
       "    <tr>\n",
       "      <th>Ba</th>\n",
       "      <td>34</td>\n",
       "    </tr>\n",
       "    <tr>\n",
       "      <th>Fe</th>\n",
       "      <td>32</td>\n",
       "    </tr>\n",
       "    <tr>\n",
       "      <th>Type of glass</th>\n",
       "      <td>6</td>\n",
       "    </tr>\n",
       "  </tbody>\n",
       "</table>\n",
       "</div>"
      ],
      "text/plain": [
       "               unique values\n",
       "RI                       178\n",
       "Na                       142\n",
       "Mg                        94\n",
       "Al                       118\n",
       "Si                       133\n",
       "K                         65\n",
       "Ca                       143\n",
       "Ba                        34\n",
       "Fe                        32\n",
       "Type of glass              6"
      ]
     },
     "execution_count": 25,
     "metadata": {},
     "output_type": "execute_result"
    }
   ],
   "source": [
    "data.nunique().to_frame('unique values')"
   ]
  },
  {
   "cell_type": "code",
   "execution_count": 26,
   "id": "277ea808",
   "metadata": {},
   "outputs": [
    {
     "data": {
      "text/plain": [
       "array([1, 2, 3, 5, 6, 7], dtype=int64)"
      ]
     },
     "execution_count": 26,
     "metadata": {},
     "output_type": "execute_result"
    }
   ],
   "source": [
    "data['Type of glass'].unique()"
   ]
  },
  {
   "cell_type": "code",
   "execution_count": 27,
   "id": "fad799af",
   "metadata": {},
   "outputs": [
    {
     "data": {
      "text/plain": [
       "2    76\n",
       "1    70\n",
       "7    29\n",
       "3    17\n",
       "5    13\n",
       "6     9\n",
       "Name: Type of glass, dtype: int64"
      ]
     },
     "execution_count": 27,
     "metadata": {},
     "output_type": "execute_result"
    }
   ],
   "source": [
    "data['Type of glass'].value_counts()"
   ]
  },
  {
   "cell_type": "code",
   "execution_count": 28,
   "id": "34ae8172",
   "metadata": {},
   "outputs": [
    {
     "data": {
      "text/plain": [
       "<AxesSubplot:xlabel='Type of glass', ylabel='count'>"
      ]
     },
     "execution_count": 28,
     "metadata": {},
     "output_type": "execute_result"
    },
    {
     "data": {
      "image/png": "[encoded data removed]",
      "text/plain": [
       "<Figure size 1008x432 with 1 Axes>"
      ]
     },
     "metadata": {
      "needs_background": "light"
     },
     "output_type": "display_data"
    }
   ],
   "source": [
    "plt.figure(figsize=(14,6))\n",
    "sns.countplot(data['Type of glass'], palette = 'Set2')"
   ]
  },
  {
   "cell_type": "markdown",
   "id": "971bcf04",
   "metadata": {},
   "source": [
    "As we can see type 1 and 2 is high compare with other"
   ]
  },
  {
   "cell_type": "code",
   "execution_count": 30,
   "id": "156ac714",
   "metadata": {},
   "outputs": [
    {
     "data": {
      "text/html": [
       "<div>\n",
       "<style scoped>\n",
       "    .dataframe tbody tr th:only-of-type {\n",
       "        vertical-align: middle;\n",
       "    }\n",
       "\n",
       "    .dataframe tbody tr th {\n",
       "        vertical-align: top;\n",
       "    }\n",
       "\n",
       "    .dataframe thead th {\n",
       "        text-align: right;\n",
       "    }\n",
       "</style>\n",
       "<table border=\"1\" class=\"dataframe\">\n",
       "  <thead>\n",
       "    <tr style=\"text-align: right;\">\n",
       "      <th></th>\n",
       "      <th>RI</th>\n",
       "      <th>Na</th>\n",
       "      <th>Mg</th>\n",
       "      <th>Al</th>\n",
       "      <th>Si</th>\n",
       "      <th>K</th>\n",
       "      <th>Ca</th>\n",
       "      <th>Ba</th>\n",
       "      <th>Fe</th>\n",
       "      <th>Type of glass</th>\n",
       "    </tr>\n",
       "  </thead>\n",
       "  <tbody>\n",
       "    <tr>\n",
       "      <th>count</th>\n",
       "      <td>214.000000</td>\n",
       "      <td>214.000000</td>\n",
       "      <td>214.000000</td>\n",
       "      <td>214.000000</td>\n",
       "      <td>214.000000</td>\n",
       "      <td>214.000000</td>\n",
       "      <td>214.000000</td>\n",
       "      <td>214.000000</td>\n",
       "      <td>214.000000</td>\n",
       "      <td>214.000000</td>\n",
       "    </tr>\n",
       "    <tr>\n",
       "      <th>mean</th>\n",
       "      <td>1.518365</td>\n",
       "      <td>13.407850</td>\n",
       "      <td>2.684533</td>\n",
       "      <td>1.444907</td>\n",
       "      <td>72.650935</td>\n",
       "      <td>0.497056</td>\n",
       "      <td>8.956963</td>\n",
       "      <td>0.175047</td>\n",
       "      <td>0.057009</td>\n",
       "      <td>2.780374</td>\n",
       "    </tr>\n",
       "    <tr>\n",
       "      <th>std</th>\n",
       "      <td>0.003037</td>\n",
       "      <td>0.816604</td>\n",
       "      <td>1.442408</td>\n",
       "      <td>0.499270</td>\n",
       "      <td>0.774546</td>\n",
       "      <td>0.652192</td>\n",
       "      <td>1.423153</td>\n",
       "      <td>0.497219</td>\n",
       "      <td>0.097439</td>\n",
       "      <td>2.103739</td>\n",
       "    </tr>\n",
       "    <tr>\n",
       "      <th>min</th>\n",
       "      <td>1.511150</td>\n",
       "      <td>10.730000</td>\n",
       "      <td>0.000000</td>\n",
       "      <td>0.290000</td>\n",
       "      <td>69.810000</td>\n",
       "      <td>0.000000</td>\n",
       "      <td>5.430000</td>\n",
       "      <td>0.000000</td>\n",
       "      <td>0.000000</td>\n",
       "      <td>1.000000</td>\n",
       "    </tr>\n",
       "    <tr>\n",
       "      <th>25%</th>\n",
       "      <td>1.516522</td>\n",
       "      <td>12.907500</td>\n",
       "      <td>2.115000</td>\n",
       "      <td>1.190000</td>\n",
       "      <td>72.280000</td>\n",
       "      <td>0.122500</td>\n",
       "      <td>8.240000</td>\n",
       "      <td>0.000000</td>\n",
       "      <td>0.000000</td>\n",
       "      <td>1.000000</td>\n",
       "    </tr>\n",
       "    <tr>\n",
       "      <th>50%</th>\n",
       "      <td>1.517680</td>\n",
       "      <td>13.300000</td>\n",
       "      <td>3.480000</td>\n",
       "      <td>1.360000</td>\n",
       "      <td>72.790000</td>\n",
       "      <td>0.555000</td>\n",
       "      <td>8.600000</td>\n",
       "      <td>0.000000</td>\n",
       "      <td>0.000000</td>\n",
       "      <td>2.000000</td>\n",
       "    </tr>\n",
       "    <tr>\n",
       "      <th>75%</th>\n",
       "      <td>1.519157</td>\n",
       "      <td>13.825000</td>\n",
       "      <td>3.600000</td>\n",
       "      <td>1.630000</td>\n",
       "      <td>73.087500</td>\n",
       "      <td>0.610000</td>\n",
       "      <td>9.172500</td>\n",
       "      <td>0.000000</td>\n",
       "      <td>0.100000</td>\n",
       "      <td>3.000000</td>\n",
       "    </tr>\n",
       "    <tr>\n",
       "      <th>max</th>\n",
       "      <td>1.533930</td>\n",
       "      <td>17.380000</td>\n",
       "      <td>4.490000</td>\n",
       "      <td>3.500000</td>\n",
       "      <td>75.410000</td>\n",
       "      <td>6.210000</td>\n",
       "      <td>16.190000</td>\n",
       "      <td>3.150000</td>\n",
       "      <td>0.510000</td>\n",
       "      <td>7.000000</td>\n",
       "    </tr>\n",
       "  </tbody>\n",
       "</table>\n",
       "</div>"
      ],
      "text/plain": [
       "               RI          Na          Mg          Al          Si           K  \\\n",
       "count  214.000000  214.000000  214.000000  214.000000  214.000000  214.000000   \n",
       "mean     1.518365   13.407850    2.684533    1.444907   72.650935    0.497056   \n",
       "std      0.003037    0.816604    1.442408    0.499270    0.774546    0.652192   \n",
       "min      1.511150   10.730000    0.000000    0.290000   69.810000    0.000000   \n",
       "25%      1.516522   12.907500    2.115000    1.190000   72.280000    0.122500   \n",
       "50%      1.517680   13.300000    3.480000    1.360000   72.790000    0.555000   \n",
       "75%      1.519157   13.825000    3.600000    1.630000   73.087500    0.610000   \n",
       "max      1.533930   17.380000    4.490000    3.500000   75.410000    6.210000   \n",
       "\n",
       "               Ca          Ba          Fe  Type of glass  \n",
       "count  214.000000  214.000000  214.000000     214.000000  \n",
       "mean     8.956963    0.175047    0.057009       2.780374  \n",
       "std      1.423153    0.497219    0.097439       2.103739  \n",
       "min      5.430000    0.000000    0.000000       1.000000  \n",
       "25%      8.240000    0.000000    0.000000       1.000000  \n",
       "50%      8.600000    0.000000    0.000000       2.000000  \n",
       "75%      9.172500    0.000000    0.100000       3.000000  \n",
       "max     16.190000    3.150000    0.510000       7.000000  "
      ]
     },
     "execution_count": 30,
     "metadata": {},
     "output_type": "execute_result"
    }
   ],
   "source": [
    "#describing the dataset\n",
    "data.describe()"
   ]
  },
  {
   "cell_type": "markdown",
   "id": "d9fb71eb",
   "metadata": {},
   "source": [
    "By the describe method the following assumptions are made:\n",
    "\n",
    "1. The count value in each column is same that means there is no null values in the data.\n",
    "\n",
    "2. The mean is greater than 50% of median in all columns which means there is skewness in the data.\n",
    "\n",
    "3. There is huge difference between 75% and max values in k , Ba,Fe columns.\n",
    "4. we can also get standard deviation, min,25% values  in these method."
   ]
  },
  {
   "cell_type": "markdown",
   "id": "e453edb5",
   "metadata": {},
   "source": [
    "Visualization"
   ]
  },
  {
   "cell_type": "code",
   "execution_count": 31,
   "id": "579f5003",
   "metadata": {},
   "outputs": [
    {
     "data": {
      "image/png": "[encoded data removed]",
      "text/plain": [
       "<Figure size 1008x864 with 10 Axes>"
      ]
     },
     "metadata": {},
     "output_type": "display_data"
    }
   ],
   "source": [
    "plt.figure(figsize=(14,12),facecolor=\"white\")\n",
    "plotnumber=1\n",
    "for columns in data:\n",
    "    if plotnumber<=10:\n",
    "    \n",
    "        ax=plt.subplot(5,2,plotnumber)\n",
    "        sns.distplot(data[columns])\n",
    "        plt.xlabel(columns, fontsize=16)\n",
    "    plotnumber+=1\n",
    "plt.show()"
   ]
  },
  {
   "cell_type": "markdown",
   "id": "3e9e9dbc",
   "metadata": {},
   "source": [
    "It is clearly showing that there is skewness in all columns."
   ]
  },
  {
   "cell_type": "code",
   "execution_count": 32,
   "id": "050dc3f4",
   "metadata": {},
   "outputs": [
    {
     "data": {
      "image/png": "[encoded data removed]",
      "text/plain": [
       "<Figure size 1008x864 with 10 Axes>"
      ]
     },
     "metadata": {},
     "output_type": "display_data"
    }
   ],
   "source": [
    "plt.figure(figsize=(14,12),facecolor=\"white\")\n",
    "plotnumber=1\n",
    "for columns in data:\n",
    "    if plotnumber<=10:\n",
    "    \n",
    "        ax=plt.subplot(2,5,plotnumber)\n",
    "        sns.boxplot(data[columns])\n",
    "        plt.xlabel(columns, fontsize=16)\n",
    "    plotnumber+=1\n",
    "plt.show()"
   ]
  },
  {
   "cell_type": "markdown",
   "id": "79dc4b64",
   "metadata": {},
   "source": [
    "Except mg column remaining all have outliers, now we are reducing those using zscore method."
   ]
  },
  {
   "cell_type": "code",
   "execution_count": null,
   "id": "3f08ace1",
   "metadata": {},
   "outputs": [],
   "source": []
  },
  {
   "cell_type": "code",
   "execution_count": 33,
   "id": "bf6f86c9",
   "metadata": {},
   "outputs": [],
   "source": [
    "from scipy import stats\n",
    "from scipy.stats import zscore\n",
    "glass=data.drop('Type of glass', axis=1)\n",
    "z=np.abs(zscore(data))\n",
    "\n",
    "threshold=3\n",
    "np.where(z>3)\n",
    "glass=data[(z<3).all(axis=1)]"
   ]
  },
  {
   "cell_type": "code",
   "execution_count": null,
   "id": "018a49a4",
   "metadata": {},
   "outputs": [],
   "source": []
  },
  {
   "cell_type": "code",
   "execution_count": 34,
   "id": "e20f92f5",
   "metadata": {},
   "outputs": [
    {
     "data": {
      "text/html": [
       "<div>\n",
       "<style scoped>\n",
       "    .dataframe tbody tr th:only-of-type {\n",
       "        vertical-align: middle;\n",
       "    }\n",
       "\n",
       "    .dataframe tbody tr th {\n",
       "        vertical-align: top;\n",
       "    }\n",
       "\n",
       "    .dataframe thead th {\n",
       "        text-align: right;\n",
       "    }\n",
       "</style>\n",
       "<table border=\"1\" class=\"dataframe\">\n",
       "  <thead>\n",
       "    <tr style=\"text-align: right;\">\n",
       "      <th></th>\n",
       "      <th>RI</th>\n",
       "      <th>Na</th>\n",
       "      <th>Mg</th>\n",
       "      <th>Al</th>\n",
       "      <th>Si</th>\n",
       "      <th>K</th>\n",
       "      <th>Ca</th>\n",
       "      <th>Ba</th>\n",
       "      <th>Fe</th>\n",
       "      <th>Type of glass</th>\n",
       "    </tr>\n",
       "  </thead>\n",
       "  <tbody>\n",
       "    <tr>\n",
       "      <th>0</th>\n",
       "      <td>1.52101</td>\n",
       "      <td>13.64</td>\n",
       "      <td>4.49</td>\n",
       "      <td>1.10</td>\n",
       "      <td>71.78</td>\n",
       "      <td>0.06</td>\n",
       "      <td>8.75</td>\n",
       "      <td>0.00</td>\n",
       "      <td>0.0</td>\n",
       "      <td>1</td>\n",
       "    </tr>\n",
       "    <tr>\n",
       "      <th>1</th>\n",
       "      <td>1.51761</td>\n",
       "      <td>13.89</td>\n",
       "      <td>3.60</td>\n",
       "      <td>1.36</td>\n",
       "      <td>72.73</td>\n",
       "      <td>0.48</td>\n",
       "      <td>7.83</td>\n",
       "      <td>0.00</td>\n",
       "      <td>0.0</td>\n",
       "      <td>1</td>\n",
       "    </tr>\n",
       "    <tr>\n",
       "      <th>2</th>\n",
       "      <td>1.51618</td>\n",
       "      <td>13.53</td>\n",
       "      <td>3.55</td>\n",
       "      <td>1.54</td>\n",
       "      <td>72.99</td>\n",
       "      <td>0.39</td>\n",
       "      <td>7.78</td>\n",
       "      <td>0.00</td>\n",
       "      <td>0.0</td>\n",
       "      <td>1</td>\n",
       "    </tr>\n",
       "    <tr>\n",
       "      <th>3</th>\n",
       "      <td>1.51766</td>\n",
       "      <td>13.21</td>\n",
       "      <td>3.69</td>\n",
       "      <td>1.29</td>\n",
       "      <td>72.61</td>\n",
       "      <td>0.57</td>\n",
       "      <td>8.22</td>\n",
       "      <td>0.00</td>\n",
       "      <td>0.0</td>\n",
       "      <td>1</td>\n",
       "    </tr>\n",
       "    <tr>\n",
       "      <th>4</th>\n",
       "      <td>1.51742</td>\n",
       "      <td>13.27</td>\n",
       "      <td>3.62</td>\n",
       "      <td>1.24</td>\n",
       "      <td>73.08</td>\n",
       "      <td>0.55</td>\n",
       "      <td>8.07</td>\n",
       "      <td>0.00</td>\n",
       "      <td>0.0</td>\n",
       "      <td>1</td>\n",
       "    </tr>\n",
       "    <tr>\n",
       "      <th>...</th>\n",
       "      <td>...</td>\n",
       "      <td>...</td>\n",
       "      <td>...</td>\n",
       "      <td>...</td>\n",
       "      <td>...</td>\n",
       "      <td>...</td>\n",
       "      <td>...</td>\n",
       "      <td>...</td>\n",
       "      <td>...</td>\n",
       "      <td>...</td>\n",
       "    </tr>\n",
       "    <tr>\n",
       "      <th>208</th>\n",
       "      <td>1.51640</td>\n",
       "      <td>14.37</td>\n",
       "      <td>0.00</td>\n",
       "      <td>2.74</td>\n",
       "      <td>72.85</td>\n",
       "      <td>0.00</td>\n",
       "      <td>9.45</td>\n",
       "      <td>0.54</td>\n",
       "      <td>0.0</td>\n",
       "      <td>7</td>\n",
       "    </tr>\n",
       "    <tr>\n",
       "      <th>209</th>\n",
       "      <td>1.51623</td>\n",
       "      <td>14.14</td>\n",
       "      <td>0.00</td>\n",
       "      <td>2.88</td>\n",
       "      <td>72.61</td>\n",
       "      <td>0.08</td>\n",
       "      <td>9.18</td>\n",
       "      <td>1.06</td>\n",
       "      <td>0.0</td>\n",
       "      <td>7</td>\n",
       "    </tr>\n",
       "    <tr>\n",
       "      <th>210</th>\n",
       "      <td>1.51685</td>\n",
       "      <td>14.92</td>\n",
       "      <td>0.00</td>\n",
       "      <td>1.99</td>\n",
       "      <td>73.06</td>\n",
       "      <td>0.00</td>\n",
       "      <td>8.40</td>\n",
       "      <td>1.59</td>\n",
       "      <td>0.0</td>\n",
       "      <td>7</td>\n",
       "    </tr>\n",
       "    <tr>\n",
       "      <th>211</th>\n",
       "      <td>1.52065</td>\n",
       "      <td>14.36</td>\n",
       "      <td>0.00</td>\n",
       "      <td>2.02</td>\n",
       "      <td>73.42</td>\n",
       "      <td>0.00</td>\n",
       "      <td>8.44</td>\n",
       "      <td>1.64</td>\n",
       "      <td>0.0</td>\n",
       "      <td>7</td>\n",
       "    </tr>\n",
       "    <tr>\n",
       "      <th>212</th>\n",
       "      <td>1.51651</td>\n",
       "      <td>14.38</td>\n",
       "      <td>0.00</td>\n",
       "      <td>1.94</td>\n",
       "      <td>73.61</td>\n",
       "      <td>0.00</td>\n",
       "      <td>8.48</td>\n",
       "      <td>1.57</td>\n",
       "      <td>0.0</td>\n",
       "      <td>7</td>\n",
       "    </tr>\n",
       "  </tbody>\n",
       "</table>\n",
       "<p>194 rows × 10 columns</p>\n",
       "</div>"
      ],
      "text/plain": [
       "          RI     Na    Mg    Al     Si     K    Ca    Ba   Fe  Type of glass\n",
       "0    1.52101  13.64  4.49  1.10  71.78  0.06  8.75  0.00  0.0              1\n",
       "1    1.51761  13.89  3.60  1.36  72.73  0.48  7.83  0.00  0.0              1\n",
       "2    1.51618  13.53  3.55  1.54  72.99  0.39  7.78  0.00  0.0              1\n",
       "3    1.51766  13.21  3.69  1.29  72.61  0.57  8.22  0.00  0.0              1\n",
       "4    1.51742  13.27  3.62  1.24  73.08  0.55  8.07  0.00  0.0              1\n",
       "..       ...    ...   ...   ...    ...   ...   ...   ...  ...            ...\n",
       "208  1.51640  14.37  0.00  2.74  72.85  0.00  9.45  0.54  0.0              7\n",
       "209  1.51623  14.14  0.00  2.88  72.61  0.08  9.18  1.06  0.0              7\n",
       "210  1.51685  14.92  0.00  1.99  73.06  0.00  8.40  1.59  0.0              7\n",
       "211  1.52065  14.36  0.00  2.02  73.42  0.00  8.44  1.64  0.0              7\n",
       "212  1.51651  14.38  0.00  1.94  73.61  0.00  8.48  1.57  0.0              7\n",
       "\n",
       "[194 rows x 10 columns]"
      ]
     },
     "execution_count": 34,
     "metadata": {},
     "output_type": "execute_result"
    }
   ],
   "source": [
    "glass"
   ]
  },
  {
   "cell_type": "code",
   "execution_count": 35,
   "id": "0a3d57c4",
   "metadata": {},
   "outputs": [
    {
     "data": {
      "text/plain": [
       "9.389671361502346"
      ]
     },
     "execution_count": 35,
     "metadata": {},
     "output_type": "execute_result"
    }
   ],
   "source": [
    "data_loss=(213-193)/213*100\n",
    "data_loss"
   ]
  },
  {
   "cell_type": "code",
   "execution_count": 36,
   "id": "2dfad5b2",
   "metadata": {},
   "outputs": [
    {
     "data": {
      "image/png": "[encoded data removed]",
      "text/plain": [
       "<Figure size 1008x864 with 10 Axes>"
      ]
     },
     "metadata": {},
     "output_type": "display_data"
    }
   ],
   "source": [
    "plt.figure(figsize=(14,12),facecolor=\"white\")\n",
    "plotnumber=1\n",
    "for columns in data:\n",
    "    if plotnumber<=10:\n",
    "    \n",
    "        ax=plt.subplot(2,5,plotnumber)\n",
    "        sns.boxplot(data[columns])\n",
    "        plt.xlabel(columns, fontsize=16)\n",
    "    plotnumber+=1\n",
    "plt.show()"
   ]
  },
  {
   "cell_type": "code",
   "execution_count": 37,
   "id": "17203ed3",
   "metadata": {},
   "outputs": [
    {
     "data": {
      "text/plain": [
       "RI               0.952733\n",
       "Na               0.371482\n",
       "Mg              -1.528849\n",
       "Al               0.658259\n",
       "Si              -0.425450\n",
       "K                0.303175\n",
       "Ca               1.077962\n",
       "Ba               3.188587\n",
       "Fe               1.486479\n",
       "Type of glass    1.284007\n",
       "dtype: float64"
      ]
     },
     "execution_count": 37,
     "metadata": {},
     "output_type": "execute_result"
    }
   ],
   "source": [
    "#finding skewness:\n",
    "glass.skew()"
   ]
  },
  {
   "cell_type": "markdown",
   "id": "175929de",
   "metadata": {},
   "source": [
    "As we can see here Ba column has more skewness so i am reducing it by using transform method"
   ]
  },
  {
   "cell_type": "code",
   "execution_count": 38,
   "id": "99e6cc3b",
   "metadata": {},
   "outputs": [],
   "source": [
    "glass['Ba']=np.sqrt(glass['Ba'])"
   ]
  },
  {
   "cell_type": "code",
   "execution_count": 39,
   "id": "bc12bbd0",
   "metadata": {},
   "outputs": [
    {
     "data": {
      "text/plain": [
       "RI               0.952733\n",
       "Na               0.371482\n",
       "Mg              -1.528849\n",
       "Al               0.658259\n",
       "Si              -0.425450\n",
       "K                0.303175\n",
       "Ca               1.077962\n",
       "Ba               2.465013\n",
       "Fe               1.486479\n",
       "Type of glass    1.284007\n",
       "dtype: float64"
      ]
     },
     "execution_count": 39,
     "metadata": {},
     "output_type": "execute_result"
    }
   ],
   "source": [
    "glass.skew()"
   ]
  },
  {
   "cell_type": "code",
   "execution_count": 40,
   "id": "d65f419e",
   "metadata": {},
   "outputs": [
    {
     "data": {
      "image/png": "[encoded data removed]",
      "text/plain": [
       "<Figure size 1008x864 with 10 Axes>"
      ]
     },
     "metadata": {},
     "output_type": "display_data"
    }
   ],
   "source": [
    "plt.figure(figsize=(14,12),facecolor=\"white\")\n",
    "plotnumber=1\n",
    "for columns in data:\n",
    "    if plotnumber<=10:\n",
    "    \n",
    "        ax=plt.subplot(2,5,plotnumber)\n",
    "        sns.distplot(data[columns])\n",
    "        plt.xlabel(columns, fontsize=16)\n",
    "    plotnumber+=1\n",
    "plt.show()"
   ]
  },
  {
   "cell_type": "code",
   "execution_count": 41,
   "id": "6c06a520",
   "metadata": {},
   "outputs": [
    {
     "data": {
      "text/html": [
       "<div>\n",
       "<style scoped>\n",
       "    .dataframe tbody tr th:only-of-type {\n",
       "        vertical-align: middle;\n",
       "    }\n",
       "\n",
       "    .dataframe tbody tr th {\n",
       "        vertical-align: top;\n",
       "    }\n",
       "\n",
       "    .dataframe thead th {\n",
       "        text-align: right;\n",
       "    }\n",
       "</style>\n",
       "<table border=\"1\" class=\"dataframe\">\n",
       "  <thead>\n",
       "    <tr style=\"text-align: right;\">\n",
       "      <th></th>\n",
       "      <th>RI</th>\n",
       "      <th>Na</th>\n",
       "      <th>Mg</th>\n",
       "      <th>Al</th>\n",
       "      <th>Si</th>\n",
       "      <th>K</th>\n",
       "      <th>Ca</th>\n",
       "      <th>Ba</th>\n",
       "      <th>Fe</th>\n",
       "      <th>Type of glass</th>\n",
       "    </tr>\n",
       "  </thead>\n",
       "  <tbody>\n",
       "    <tr>\n",
       "      <th>RI</th>\n",
       "      <td>1.000000</td>\n",
       "      <td>0.050760</td>\n",
       "      <td>0.048147</td>\n",
       "      <td>-0.522197</td>\n",
       "      <td>-0.609011</td>\n",
       "      <td>-0.368238</td>\n",
       "      <td>0.690650</td>\n",
       "      <td>-0.221472</td>\n",
       "      <td>-0.020046</td>\n",
       "      <td>-0.167355</td>\n",
       "    </tr>\n",
       "    <tr>\n",
       "      <th>Na</th>\n",
       "      <td>0.050760</td>\n",
       "      <td>1.000000</td>\n",
       "      <td>-0.487729</td>\n",
       "      <td>0.253127</td>\n",
       "      <td>-0.234718</td>\n",
       "      <td>-0.612183</td>\n",
       "      <td>0.019987</td>\n",
       "      <td>0.554594</td>\n",
       "      <td>-0.209838</td>\n",
       "      <td>0.533025</td>\n",
       "    </tr>\n",
       "    <tr>\n",
       "      <th>Mg</th>\n",
       "      <td>0.048147</td>\n",
       "      <td>-0.487729</td>\n",
       "      <td>1.000000</td>\n",
       "      <td>-0.593457</td>\n",
       "      <td>-0.377464</td>\n",
       "      <td>0.482622</td>\n",
       "      <td>-0.455582</td>\n",
       "      <td>-0.624654</td>\n",
       "      <td>0.134065</td>\n",
       "      <td>-0.810321</td>\n",
       "    </tr>\n",
       "    <tr>\n",
       "      <th>Al</th>\n",
       "      <td>-0.522197</td>\n",
       "      <td>0.253127</td>\n",
       "      <td>-0.593457</td>\n",
       "      <td>1.000000</td>\n",
       "      <td>0.335262</td>\n",
       "      <td>0.005827</td>\n",
       "      <td>-0.213304</td>\n",
       "      <td>0.592898</td>\n",
       "      <td>-0.117764</td>\n",
       "      <td>0.660262</td>\n",
       "    </tr>\n",
       "    <tr>\n",
       "      <th>Si</th>\n",
       "      <td>-0.609011</td>\n",
       "      <td>-0.234718</td>\n",
       "      <td>-0.377464</td>\n",
       "      <td>0.335262</td>\n",
       "      <td>1.000000</td>\n",
       "      <td>0.072579</td>\n",
       "      <td>-0.165712</td>\n",
       "      <td>0.178210</td>\n",
       "      <td>0.023279</td>\n",
       "      <td>0.262152</td>\n",
       "    </tr>\n",
       "    <tr>\n",
       "      <th>K</th>\n",
       "      <td>-0.368238</td>\n",
       "      <td>-0.612183</td>\n",
       "      <td>0.482622</td>\n",
       "      <td>0.005827</td>\n",
       "      <td>0.072579</td>\n",
       "      <td>1.000000</td>\n",
       "      <td>-0.500579</td>\n",
       "      <td>-0.290099</td>\n",
       "      <td>0.099394</td>\n",
       "      <td>-0.383499</td>\n",
       "    </tr>\n",
       "    <tr>\n",
       "      <th>Ca</th>\n",
       "      <td>0.690650</td>\n",
       "      <td>0.019987</td>\n",
       "      <td>-0.455582</td>\n",
       "      <td>-0.213304</td>\n",
       "      <td>-0.165712</td>\n",
       "      <td>-0.500579</td>\n",
       "      <td>1.000000</td>\n",
       "      <td>-0.149581</td>\n",
       "      <td>-0.011635</td>\n",
       "      <td>0.154762</td>\n",
       "    </tr>\n",
       "    <tr>\n",
       "      <th>Ba</th>\n",
       "      <td>-0.221472</td>\n",
       "      <td>0.554594</td>\n",
       "      <td>-0.624654</td>\n",
       "      <td>0.592898</td>\n",
       "      <td>0.178210</td>\n",
       "      <td>-0.290099</td>\n",
       "      <td>-0.149581</td>\n",
       "      <td>1.000000</td>\n",
       "      <td>-0.092385</td>\n",
       "      <td>0.710327</td>\n",
       "    </tr>\n",
       "    <tr>\n",
       "      <th>Fe</th>\n",
       "      <td>-0.020046</td>\n",
       "      <td>-0.209838</td>\n",
       "      <td>0.134065</td>\n",
       "      <td>-0.117764</td>\n",
       "      <td>0.023279</td>\n",
       "      <td>0.099394</td>\n",
       "      <td>-0.011635</td>\n",
       "      <td>-0.092385</td>\n",
       "      <td>1.000000</td>\n",
       "      <td>-0.202028</td>\n",
       "    </tr>\n",
       "    <tr>\n",
       "      <th>Type of glass</th>\n",
       "      <td>-0.167355</td>\n",
       "      <td>0.533025</td>\n",
       "      <td>-0.810321</td>\n",
       "      <td>0.660262</td>\n",
       "      <td>0.262152</td>\n",
       "      <td>-0.383499</td>\n",
       "      <td>0.154762</td>\n",
       "      <td>0.710327</td>\n",
       "      <td>-0.202028</td>\n",
       "      <td>1.000000</td>\n",
       "    </tr>\n",
       "  </tbody>\n",
       "</table>\n",
       "</div>"
      ],
      "text/plain": [
       "                     RI        Na        Mg        Al        Si         K  \\\n",
       "RI             1.000000  0.050760  0.048147 -0.522197 -0.609011 -0.368238   \n",
       "Na             0.050760  1.000000 -0.487729  0.253127 -0.234718 -0.612183   \n",
       "Mg             0.048147 -0.487729  1.000000 -0.593457 -0.377464  0.482622   \n",
       "Al            -0.522197  0.253127 -0.593457  1.000000  0.335262  0.005827   \n",
       "Si            -0.609011 -0.234718 -0.377464  0.335262  1.000000  0.072579   \n",
       "K             -0.368238 -0.612183  0.482622  0.005827  0.072579  1.000000   \n",
       "Ca             0.690650  0.019987 -0.455582 -0.213304 -0.165712 -0.500579   \n",
       "Ba            -0.221472  0.554594 -0.624654  0.592898  0.178210 -0.290099   \n",
       "Fe            -0.020046 -0.209838  0.134065 -0.117764  0.023279  0.099394   \n",
       "Type of glass -0.167355  0.533025 -0.810321  0.660262  0.262152 -0.383499   \n",
       "\n",
       "                     Ca        Ba        Fe  Type of glass  \n",
       "RI             0.690650 -0.221472 -0.020046      -0.167355  \n",
       "Na             0.019987  0.554594 -0.209838       0.533025  \n",
       "Mg            -0.455582 -0.624654  0.134065      -0.810321  \n",
       "Al            -0.213304  0.592898 -0.117764       0.660262  \n",
       "Si            -0.165712  0.178210  0.023279       0.262152  \n",
       "K             -0.500579 -0.290099  0.099394      -0.383499  \n",
       "Ca             1.000000 -0.149581 -0.011635       0.154762  \n",
       "Ba            -0.149581  1.000000 -0.092385       0.710327  \n",
       "Fe            -0.011635 -0.092385  1.000000      -0.202028  \n",
       "Type of glass  0.154762  0.710327 -0.202028       1.000000  "
      ]
     },
     "execution_count": 41,
     "metadata": {},
     "output_type": "execute_result"
    }
   ],
   "source": [
    "#corelation b/n features and target variable.\n",
    "corr=glass.corr()\n",
    "corr"
   ]
  },
  {
   "cell_type": "code",
   "execution_count": 42,
   "id": "2c92e2a0",
   "metadata": {},
   "outputs": [
    {
     "data": {
      "image/png": "[encoded data removed]",
      "text/plain": [
       "<Figure size 864x432 with 2 Axes>"
      ]
     },
     "metadata": {
      "needs_background": "light"
     },
     "output_type": "display_data"
    }
   ],
   "source": [
    "df_corr=glass.corr().abs()\n",
    "plt.figure(figsize=(12,6))\n",
    "sns.heatmap(df_corr, annot=True, linecolor='blue', annot_kws={'size':12},)\n",
    "plt.show()"
   ]
  },
  {
   "cell_type": "markdown",
   "id": "0f78aeba",
   "metadata": {},
   "source": [
    "Ba has highest correlation with Na, Mg, Al columns , now i am droping the Ba."
   ]
  },
  {
   "cell_type": "code",
   "execution_count": 43,
   "id": "1fc12f1e",
   "metadata": {},
   "outputs": [],
   "source": [
    "glass.drop(\"Ba\",axis=1, inplace=True)\n"
   ]
  },
  {
   "cell_type": "code",
   "execution_count": 44,
   "id": "55ca0596",
   "metadata": {},
   "outputs": [
    {
     "data": {
      "text/html": [
       "<div>\n",
       "<style scoped>\n",
       "    .dataframe tbody tr th:only-of-type {\n",
       "        vertical-align: middle;\n",
       "    }\n",
       "\n",
       "    .dataframe tbody tr th {\n",
       "        vertical-align: top;\n",
       "    }\n",
       "\n",
       "    .dataframe thead th {\n",
       "        text-align: right;\n",
       "    }\n",
       "</style>\n",
       "<table border=\"1\" class=\"dataframe\">\n",
       "  <thead>\n",
       "    <tr style=\"text-align: right;\">\n",
       "      <th></th>\n",
       "      <th>RI</th>\n",
       "      <th>Na</th>\n",
       "      <th>Mg</th>\n",
       "      <th>Al</th>\n",
       "      <th>Si</th>\n",
       "      <th>K</th>\n",
       "      <th>Ca</th>\n",
       "      <th>Fe</th>\n",
       "      <th>Type of glass</th>\n",
       "    </tr>\n",
       "  </thead>\n",
       "  <tbody>\n",
       "    <tr>\n",
       "      <th>0</th>\n",
       "      <td>1.52101</td>\n",
       "      <td>13.64</td>\n",
       "      <td>4.49</td>\n",
       "      <td>1.10</td>\n",
       "      <td>71.78</td>\n",
       "      <td>0.06</td>\n",
       "      <td>8.75</td>\n",
       "      <td>0.0</td>\n",
       "      <td>1</td>\n",
       "    </tr>\n",
       "    <tr>\n",
       "      <th>1</th>\n",
       "      <td>1.51761</td>\n",
       "      <td>13.89</td>\n",
       "      <td>3.60</td>\n",
       "      <td>1.36</td>\n",
       "      <td>72.73</td>\n",
       "      <td>0.48</td>\n",
       "      <td>7.83</td>\n",
       "      <td>0.0</td>\n",
       "      <td>1</td>\n",
       "    </tr>\n",
       "    <tr>\n",
       "      <th>2</th>\n",
       "      <td>1.51618</td>\n",
       "      <td>13.53</td>\n",
       "      <td>3.55</td>\n",
       "      <td>1.54</td>\n",
       "      <td>72.99</td>\n",
       "      <td>0.39</td>\n",
       "      <td>7.78</td>\n",
       "      <td>0.0</td>\n",
       "      <td>1</td>\n",
       "    </tr>\n",
       "    <tr>\n",
       "      <th>3</th>\n",
       "      <td>1.51766</td>\n",
       "      <td>13.21</td>\n",
       "      <td>3.69</td>\n",
       "      <td>1.29</td>\n",
       "      <td>72.61</td>\n",
       "      <td>0.57</td>\n",
       "      <td>8.22</td>\n",
       "      <td>0.0</td>\n",
       "      <td>1</td>\n",
       "    </tr>\n",
       "    <tr>\n",
       "      <th>4</th>\n",
       "      <td>1.51742</td>\n",
       "      <td>13.27</td>\n",
       "      <td>3.62</td>\n",
       "      <td>1.24</td>\n",
       "      <td>73.08</td>\n",
       "      <td>0.55</td>\n",
       "      <td>8.07</td>\n",
       "      <td>0.0</td>\n",
       "      <td>1</td>\n",
       "    </tr>\n",
       "    <tr>\n",
       "      <th>...</th>\n",
       "      <td>...</td>\n",
       "      <td>...</td>\n",
       "      <td>...</td>\n",
       "      <td>...</td>\n",
       "      <td>...</td>\n",
       "      <td>...</td>\n",
       "      <td>...</td>\n",
       "      <td>...</td>\n",
       "      <td>...</td>\n",
       "    </tr>\n",
       "    <tr>\n",
       "      <th>208</th>\n",
       "      <td>1.51640</td>\n",
       "      <td>14.37</td>\n",
       "      <td>0.00</td>\n",
       "      <td>2.74</td>\n",
       "      <td>72.85</td>\n",
       "      <td>0.00</td>\n",
       "      <td>9.45</td>\n",
       "      <td>0.0</td>\n",
       "      <td>7</td>\n",
       "    </tr>\n",
       "    <tr>\n",
       "      <th>209</th>\n",
       "      <td>1.51623</td>\n",
       "      <td>14.14</td>\n",
       "      <td>0.00</td>\n",
       "      <td>2.88</td>\n",
       "      <td>72.61</td>\n",
       "      <td>0.08</td>\n",
       "      <td>9.18</td>\n",
       "      <td>0.0</td>\n",
       "      <td>7</td>\n",
       "    </tr>\n",
       "    <tr>\n",
       "      <th>210</th>\n",
       "      <td>1.51685</td>\n",
       "      <td>14.92</td>\n",
       "      <td>0.00</td>\n",
       "      <td>1.99</td>\n",
       "      <td>73.06</td>\n",
       "      <td>0.00</td>\n",
       "      <td>8.40</td>\n",
       "      <td>0.0</td>\n",
       "      <td>7</td>\n",
       "    </tr>\n",
       "    <tr>\n",
       "      <th>211</th>\n",
       "      <td>1.52065</td>\n",
       "      <td>14.36</td>\n",
       "      <td>0.00</td>\n",
       "      <td>2.02</td>\n",
       "      <td>73.42</td>\n",
       "      <td>0.00</td>\n",
       "      <td>8.44</td>\n",
       "      <td>0.0</td>\n",
       "      <td>7</td>\n",
       "    </tr>\n",
       "    <tr>\n",
       "      <th>212</th>\n",
       "      <td>1.51651</td>\n",
       "      <td>14.38</td>\n",
       "      <td>0.00</td>\n",
       "      <td>1.94</td>\n",
       "      <td>73.61</td>\n",
       "      <td>0.00</td>\n",
       "      <td>8.48</td>\n",
       "      <td>0.0</td>\n",
       "      <td>7</td>\n",
       "    </tr>\n",
       "  </tbody>\n",
       "</table>\n",
       "<p>194 rows × 9 columns</p>\n",
       "</div>"
      ],
      "text/plain": [
       "          RI     Na    Mg    Al     Si     K    Ca   Fe  Type of glass\n",
       "0    1.52101  13.64  4.49  1.10  71.78  0.06  8.75  0.0              1\n",
       "1    1.51761  13.89  3.60  1.36  72.73  0.48  7.83  0.0              1\n",
       "2    1.51618  13.53  3.55  1.54  72.99  0.39  7.78  0.0              1\n",
       "3    1.51766  13.21  3.69  1.29  72.61  0.57  8.22  0.0              1\n",
       "4    1.51742  13.27  3.62  1.24  73.08  0.55  8.07  0.0              1\n",
       "..       ...    ...   ...   ...    ...   ...   ...  ...            ...\n",
       "208  1.51640  14.37  0.00  2.74  72.85  0.00  9.45  0.0              7\n",
       "209  1.51623  14.14  0.00  2.88  72.61  0.08  9.18  0.0              7\n",
       "210  1.51685  14.92  0.00  1.99  73.06  0.00  8.40  0.0              7\n",
       "211  1.52065  14.36  0.00  2.02  73.42  0.00  8.44  0.0              7\n",
       "212  1.51651  14.38  0.00  1.94  73.61  0.00  8.48  0.0              7\n",
       "\n",
       "[194 rows x 9 columns]"
      ]
     },
     "execution_count": 44,
     "metadata": {},
     "output_type": "execute_result"
    }
   ],
   "source": [
    "glass\n"
   ]
  },
  {
   "cell_type": "code",
   "execution_count": 45,
   "id": "cb49549d",
   "metadata": {},
   "outputs": [
    {
     "data": {
      "text/plain": [
       "Type of glass    1.000000\n",
       "Ba               0.710327\n",
       "Al               0.660262\n",
       "Na               0.533025\n",
       "Si               0.262152\n",
       "Ca               0.154762\n",
       "RI              -0.167355\n",
       "Fe              -0.202028\n",
       "K               -0.383499\n",
       "Mg              -0.810321\n",
       "Name: Type of glass, dtype: float64"
      ]
     },
     "execution_count": 45,
     "metadata": {},
     "output_type": "execute_result"
    }
   ],
   "source": [
    "corr['Type of glass'].sort_values(ascending=False)"
   ]
  },
  {
   "cell_type": "code",
   "execution_count": 46,
   "id": "512a802a",
   "metadata": {},
   "outputs": [],
   "source": [
    "#fixing features and label\n",
    "\n",
    "a=glass.drop('Type of glass', axis=1)\n",
    "b=glass['Type of glass']"
   ]
  },
  {
   "cell_type": "code",
   "execution_count": 47,
   "id": "49baf508",
   "metadata": {},
   "outputs": [
    {
     "data": {
      "text/html": [
       "<div>\n",
       "<style scoped>\n",
       "    .dataframe tbody tr th:only-of-type {\n",
       "        vertical-align: middle;\n",
       "    }\n",
       "\n",
       "    .dataframe tbody tr th {\n",
       "        vertical-align: top;\n",
       "    }\n",
       "\n",
       "    .dataframe thead th {\n",
       "        text-align: right;\n",
       "    }\n",
       "</style>\n",
       "<table border=\"1\" class=\"dataframe\">\n",
       "  <thead>\n",
       "    <tr style=\"text-align: right;\">\n",
       "      <th></th>\n",
       "      <th>RI</th>\n",
       "      <th>Na</th>\n",
       "      <th>Mg</th>\n",
       "      <th>Al</th>\n",
       "      <th>Si</th>\n",
       "      <th>K</th>\n",
       "      <th>Ca</th>\n",
       "      <th>Fe</th>\n",
       "    </tr>\n",
       "  </thead>\n",
       "  <tbody>\n",
       "    <tr>\n",
       "      <th>0</th>\n",
       "      <td>1.291781</td>\n",
       "      <td>0.332127</td>\n",
       "      <td>1.233397</td>\n",
       "      <td>-0.729105</td>\n",
       "      <td>-1.612464</td>\n",
       "      <td>-1.319609</td>\n",
       "      <td>-0.075653</td>\n",
       "      <td>-0.603056</td>\n",
       "    </tr>\n",
       "    <tr>\n",
       "      <th>1</th>\n",
       "      <td>-0.197832</td>\n",
       "      <td>0.704398</td>\n",
       "      <td>0.551581</td>\n",
       "      <td>-0.141722</td>\n",
       "      <td>0.016082</td>\n",
       "      <td>0.172091</td>\n",
       "      <td>-1.008147</td>\n",
       "      <td>-0.603056</td>\n",
       "    </tr>\n",
       "    <tr>\n",
       "      <th>2</th>\n",
       "      <td>-0.824346</td>\n",
       "      <td>0.168328</td>\n",
       "      <td>0.513277</td>\n",
       "      <td>0.264928</td>\n",
       "      <td>0.461790</td>\n",
       "      <td>-0.147559</td>\n",
       "      <td>-1.058826</td>\n",
       "      <td>-0.603056</td>\n",
       "    </tr>\n",
       "    <tr>\n",
       "      <th>3</th>\n",
       "      <td>-0.175926</td>\n",
       "      <td>-0.308179</td>\n",
       "      <td>0.620529</td>\n",
       "      <td>-0.299864</td>\n",
       "      <td>-0.189629</td>\n",
       "      <td>0.491741</td>\n",
       "      <td>-0.612851</td>\n",
       "      <td>-0.603056</td>\n",
       "    </tr>\n",
       "    <tr>\n",
       "      <th>4</th>\n",
       "      <td>-0.281075</td>\n",
       "      <td>-0.218834</td>\n",
       "      <td>0.566903</td>\n",
       "      <td>-0.412822</td>\n",
       "      <td>0.616073</td>\n",
       "      <td>0.420708</td>\n",
       "      <td>-0.764888</td>\n",
       "      <td>-0.603056</td>\n",
       "    </tr>\n",
       "    <tr>\n",
       "      <th>...</th>\n",
       "      <td>...</td>\n",
       "      <td>...</td>\n",
       "      <td>...</td>\n",
       "      <td>...</td>\n",
       "      <td>...</td>\n",
       "      <td>...</td>\n",
       "      <td>...</td>\n",
       "      <td>...</td>\n",
       "    </tr>\n",
       "    <tr>\n",
       "      <th>189</th>\n",
       "      <td>-0.727959</td>\n",
       "      <td>1.419158</td>\n",
       "      <td>-2.206325</td>\n",
       "      <td>2.975928</td>\n",
       "      <td>0.221793</td>\n",
       "      <td>-1.532708</td>\n",
       "      <td>0.633854</td>\n",
       "      <td>-0.603056</td>\n",
       "    </tr>\n",
       "    <tr>\n",
       "      <th>190</th>\n",
       "      <td>-0.802440</td>\n",
       "      <td>1.076668</td>\n",
       "      <td>-2.206325</td>\n",
       "      <td>3.292211</td>\n",
       "      <td>-0.189629</td>\n",
       "      <td>-1.248575</td>\n",
       "      <td>0.360187</td>\n",
       "      <td>-0.603056</td>\n",
       "    </tr>\n",
       "    <tr>\n",
       "      <th>191</th>\n",
       "      <td>-0.530805</td>\n",
       "      <td>2.238153</td>\n",
       "      <td>-2.206325</td>\n",
       "      <td>1.281553</td>\n",
       "      <td>0.581788</td>\n",
       "      <td>-1.532708</td>\n",
       "      <td>-0.430406</td>\n",
       "      <td>-0.603056</td>\n",
       "    </tr>\n",
       "    <tr>\n",
       "      <th>192</th>\n",
       "      <td>1.134057</td>\n",
       "      <td>1.404267</td>\n",
       "      <td>-2.206325</td>\n",
       "      <td>1.349328</td>\n",
       "      <td>1.198921</td>\n",
       "      <td>-1.532708</td>\n",
       "      <td>-0.389863</td>\n",
       "      <td>-0.603056</td>\n",
       "    </tr>\n",
       "    <tr>\n",
       "      <th>193</th>\n",
       "      <td>-0.679766</td>\n",
       "      <td>1.434048</td>\n",
       "      <td>-2.206325</td>\n",
       "      <td>1.168595</td>\n",
       "      <td>1.524630</td>\n",
       "      <td>-1.532708</td>\n",
       "      <td>-0.349320</td>\n",
       "      <td>-0.603056</td>\n",
       "    </tr>\n",
       "  </tbody>\n",
       "</table>\n",
       "<p>194 rows × 8 columns</p>\n",
       "</div>"
      ],
      "text/plain": [
       "           RI        Na        Mg        Al        Si         K        Ca  \\\n",
       "0    1.291781  0.332127  1.233397 -0.729105 -1.612464 -1.319609 -0.075653   \n",
       "1   -0.197832  0.704398  0.551581 -0.141722  0.016082  0.172091 -1.008147   \n",
       "2   -0.824346  0.168328  0.513277  0.264928  0.461790 -0.147559 -1.058826   \n",
       "3   -0.175926 -0.308179  0.620529 -0.299864 -0.189629  0.491741 -0.612851   \n",
       "4   -0.281075 -0.218834  0.566903 -0.412822  0.616073  0.420708 -0.764888   \n",
       "..        ...       ...       ...       ...       ...       ...       ...   \n",
       "189 -0.727959  1.419158 -2.206325  2.975928  0.221793 -1.532708  0.633854   \n",
       "190 -0.802440  1.076668 -2.206325  3.292211 -0.189629 -1.248575  0.360187   \n",
       "191 -0.530805  2.238153 -2.206325  1.281553  0.581788 -1.532708 -0.430406   \n",
       "192  1.134057  1.404267 -2.206325  1.349328  1.198921 -1.532708 -0.389863   \n",
       "193 -0.679766  1.434048 -2.206325  1.168595  1.524630 -1.532708 -0.349320   \n",
       "\n",
       "           Fe  \n",
       "0   -0.603056  \n",
       "1   -0.603056  \n",
       "2   -0.603056  \n",
       "3   -0.603056  \n",
       "4   -0.603056  \n",
       "..        ...  \n",
       "189 -0.603056  \n",
       "190 -0.603056  \n",
       "191 -0.603056  \n",
       "192 -0.603056  \n",
       "193 -0.603056  \n",
       "\n",
       "[194 rows x 8 columns]"
      ]
     },
     "execution_count": 47,
     "metadata": {},
     "output_type": "execute_result"
    }
   ],
   "source": [
    "scaler=StandardScaler()\n",
    "\n",
    "x_scaled=scaler.fit_transform(a)\n",
    "x_scaled\n",
    "a=pd.DataFrame(scaler.fit_transform(a),columns=a.columns)\n",
    "a"
   ]
  },
  {
   "cell_type": "code",
   "execution_count": 48,
   "id": "0d57e5c0",
   "metadata": {},
   "outputs": [
    {
     "data": {
      "text/plain": [
       "array([[ 1.29178128,  0.33212692,  1.23339705, ..., -1.31960855,\n",
       "        -0.07565285, -0.60305615],\n",
       "       [-0.19783224,  0.70439768,  0.55158129, ...,  0.17209101,\n",
       "        -1.00814732, -0.60305615],\n",
       "       [-0.82434616,  0.16832779,  0.51327703, ..., -0.14755889,\n",
       "        -1.05882637, -0.60305615],\n",
       "       ...,\n",
       "       [-0.53080467,  2.23815319, -2.20632516, ..., -1.53270848,\n",
       "        -0.43040618, -0.60305615],\n",
       "       [ 1.13405749,  1.4042667 , -2.20632516, ..., -1.53270848,\n",
       "        -0.38986294, -0.60305615],\n",
       "       [-0.67976602,  1.43404836, -2.20632516, ..., -1.53270848,\n",
       "        -0.3493197 , -0.60305615]])"
      ]
     },
     "execution_count": 48,
     "metadata": {},
     "output_type": "execute_result"
    }
   ],
   "source": [
    "x_scaled"
   ]
  },
  {
   "cell_type": "code",
   "execution_count": 49,
   "id": "706cb4dd",
   "metadata": {},
   "outputs": [
    {
     "data": {
      "text/html": [
       "<div>\n",
       "<style scoped>\n",
       "    .dataframe tbody tr th:only-of-type {\n",
       "        vertical-align: middle;\n",
       "    }\n",
       "\n",
       "    .dataframe tbody tr th {\n",
       "        vertical-align: top;\n",
       "    }\n",
       "\n",
       "    .dataframe thead th {\n",
       "        text-align: right;\n",
       "    }\n",
       "</style>\n",
       "<table border=\"1\" class=\"dataframe\">\n",
       "  <thead>\n",
       "    <tr style=\"text-align: right;\">\n",
       "      <th></th>\n",
       "      <th>VIF values</th>\n",
       "      <th>features</th>\n",
       "    </tr>\n",
       "  </thead>\n",
       "  <tbody>\n",
       "    <tr>\n",
       "      <th>0</th>\n",
       "      <td>5.096412</td>\n",
       "      <td>RI</td>\n",
       "    </tr>\n",
       "    <tr>\n",
       "      <th>1</th>\n",
       "      <td>12.721020</td>\n",
       "      <td>Na</td>\n",
       "    </tr>\n",
       "    <tr>\n",
       "      <th>2</th>\n",
       "      <td>25.852880</td>\n",
       "      <td>Mg</td>\n",
       "    </tr>\n",
       "    <tr>\n",
       "      <th>3</th>\n",
       "      <td>7.059272</td>\n",
       "      <td>Al</td>\n",
       "    </tr>\n",
       "    <tr>\n",
       "      <th>4</th>\n",
       "      <td>9.529611</td>\n",
       "      <td>Si</td>\n",
       "    </tr>\n",
       "    <tr>\n",
       "      <th>5</th>\n",
       "      <td>4.357206</td>\n",
       "      <td>K</td>\n",
       "    </tr>\n",
       "    <tr>\n",
       "      <th>6</th>\n",
       "      <td>14.776555</td>\n",
       "      <td>Ca</td>\n",
       "    </tr>\n",
       "    <tr>\n",
       "      <th>7</th>\n",
       "      <td>1.077843</td>\n",
       "      <td>Fe</td>\n",
       "    </tr>\n",
       "  </tbody>\n",
       "</table>\n",
       "</div>"
      ],
      "text/plain": [
       "   VIF values features\n",
       "0    5.096412       RI\n",
       "1   12.721020       Na\n",
       "2   25.852880       Mg\n",
       "3    7.059272       Al\n",
       "4    9.529611       Si\n",
       "5    4.357206        K\n",
       "6   14.776555       Ca\n",
       "7    1.077843       Fe"
      ]
     },
     "execution_count": 49,
     "metadata": {},
     "output_type": "execute_result"
    }
   ],
   "source": [
    "from statsmodels.stats.outliers_influence import variance_inflation_factor\n",
    "\n",
    "vif=pd.DataFrame()\n",
    "vif['VIF values']=[variance_inflation_factor(a.values,i) for i in range(len(a.columns))] \n",
    "\n",
    "vif['features']=a.columns\n",
    "vif"
   ]
  },
  {
   "cell_type": "markdown",
   "id": "4b728d1a",
   "metadata": {},
   "source": [
    "the vif values are very high which means that there is multicollinearity inorder to reduce it i am droping Mg column which has highest value."
   ]
  },
  {
   "cell_type": "code",
   "execution_count": 50,
   "id": "672186c8",
   "metadata": {},
   "outputs": [],
   "source": [
    "a=a.drop('Mg', axis=1)"
   ]
  },
  {
   "cell_type": "code",
   "execution_count": 51,
   "id": "4b26e391",
   "metadata": {},
   "outputs": [
    {
     "data": {
      "text/html": [
       "<div>\n",
       "<style scoped>\n",
       "    .dataframe tbody tr th:only-of-type {\n",
       "        vertical-align: middle;\n",
       "    }\n",
       "\n",
       "    .dataframe tbody tr th {\n",
       "        vertical-align: top;\n",
       "    }\n",
       "\n",
       "    .dataframe thead th {\n",
       "        text-align: right;\n",
       "    }\n",
       "</style>\n",
       "<table border=\"1\" class=\"dataframe\">\n",
       "  <thead>\n",
       "    <tr style=\"text-align: right;\">\n",
       "      <th></th>\n",
       "      <th>VIF values</th>\n",
       "      <th>features</th>\n",
       "    </tr>\n",
       "  </thead>\n",
       "  <tbody>\n",
       "    <tr>\n",
       "      <th>0</th>\n",
       "      <td>4.869326</td>\n",
       "      <td>RI</td>\n",
       "    </tr>\n",
       "    <tr>\n",
       "      <th>1</th>\n",
       "      <td>2.729326</td>\n",
       "      <td>Na</td>\n",
       "    </tr>\n",
       "    <tr>\n",
       "      <th>2</th>\n",
       "      <td>1.688865</td>\n",
       "      <td>Al</td>\n",
       "    </tr>\n",
       "    <tr>\n",
       "      <th>3</th>\n",
       "      <td>2.467209</td>\n",
       "      <td>Si</td>\n",
       "    </tr>\n",
       "    <tr>\n",
       "      <th>4</th>\n",
       "      <td>3.011218</td>\n",
       "      <td>K</td>\n",
       "    </tr>\n",
       "    <tr>\n",
       "      <th>5</th>\n",
       "      <td>2.935600</td>\n",
       "      <td>Ca</td>\n",
       "    </tr>\n",
       "    <tr>\n",
       "      <th>6</th>\n",
       "      <td>1.061729</td>\n",
       "      <td>Fe</td>\n",
       "    </tr>\n",
       "  </tbody>\n",
       "</table>\n",
       "</div>"
      ],
      "text/plain": [
       "   VIF values features\n",
       "0    4.869326       RI\n",
       "1    2.729326       Na\n",
       "2    1.688865       Al\n",
       "3    2.467209       Si\n",
       "4    3.011218        K\n",
       "5    2.935600       Ca\n",
       "6    1.061729       Fe"
      ]
     },
     "execution_count": 51,
     "metadata": {},
     "output_type": "execute_result"
    }
   ],
   "source": [
    "vif=pd.DataFrame()\n",
    "vif['VIF values']=[variance_inflation_factor(a.values,i) for i in range(len(a.columns))] \n",
    "\n",
    "vif['features']=a.columns\n",
    "vif"
   ]
  },
  {
   "cell_type": "markdown",
   "id": "71c5af77",
   "metadata": {},
   "source": [
    "Now there is no multicollinearity problem."
   ]
  },
  {
   "cell_type": "code",
   "execution_count": 52,
   "id": "28d8e386",
   "metadata": {},
   "outputs": [
    {
     "data": {
      "text/plain": [
       "1    70\n",
       "2    68\n",
       "7    23\n",
       "3    16\n",
       "5     9\n",
       "6     8\n",
       "Name: Type of glass, dtype: int64"
      ]
     },
     "execution_count": 52,
     "metadata": {},
     "output_type": "execute_result"
    }
   ],
   "source": [
    "b.value_counts()"
   ]
  },
  {
   "cell_type": "markdown",
   "id": "39d03127",
   "metadata": {},
   "source": [
    "the data is imbalnced so, we have to balance it."
   ]
  },
  {
   "cell_type": "code",
   "execution_count": 53,
   "id": "7faacf31",
   "metadata": {},
   "outputs": [],
   "source": [
    "#balancing the label values.\n",
    "from imblearn.over_sampling import SMOTE\n",
    "sampling= SMOTE()\n",
    "\n",
    "a,b=sampling.fit_resample(a,b)"
   ]
  },
  {
   "cell_type": "code",
   "execution_count": 54,
   "id": "a30f1fcc",
   "metadata": {},
   "outputs": [
    {
     "data": {
      "text/plain": [
       "1    70\n",
       "2    70\n",
       "3    70\n",
       "5    70\n",
       "6    70\n",
       "7    70\n",
       "Name: Type of glass, dtype: int64"
      ]
     },
     "execution_count": 54,
     "metadata": {},
     "output_type": "execute_result"
    }
   ],
   "source": [
    "b.value_counts()"
   ]
  },
  {
   "cell_type": "code",
   "execution_count": 55,
   "id": "5721f187",
   "metadata": {},
   "outputs": [
    {
     "data": {
      "text/plain": [
       "0      0\n",
       "1      0\n",
       "2      0\n",
       "3      0\n",
       "4      0\n",
       "      ..\n",
       "415    1\n",
       "416    1\n",
       "417    1\n",
       "418    1\n",
       "419    1\n",
       "Name: Type of glass, Length: 420, dtype: int64"
      ]
     },
     "execution_count": 55,
     "metadata": {},
     "output_type": "execute_result"
    }
   ],
   "source": [
    "b=b.apply(lambda y_value:1  if y_value>=3 else 0 )\n",
    "b"
   ]
  },
  {
   "cell_type": "code",
   "execution_count": 56,
   "id": "10c8122a",
   "metadata": {},
   "outputs": [
    {
     "data": {
      "text/html": [
       "<div>\n",
       "<style scoped>\n",
       "    .dataframe tbody tr th:only-of-type {\n",
       "        vertical-align: middle;\n",
       "    }\n",
       "\n",
       "    .dataframe tbody tr th {\n",
       "        vertical-align: top;\n",
       "    }\n",
       "\n",
       "    .dataframe thead th {\n",
       "        text-align: right;\n",
       "    }\n",
       "</style>\n",
       "<table border=\"1\" class=\"dataframe\">\n",
       "  <thead>\n",
       "    <tr style=\"text-align: right;\">\n",
       "      <th></th>\n",
       "      <th>RI</th>\n",
       "      <th>Na</th>\n",
       "      <th>Al</th>\n",
       "      <th>Si</th>\n",
       "      <th>K</th>\n",
       "      <th>Ca</th>\n",
       "      <th>Fe</th>\n",
       "    </tr>\n",
       "  </thead>\n",
       "  <tbody>\n",
       "    <tr>\n",
       "      <th>0</th>\n",
       "      <td>1.291781</td>\n",
       "      <td>0.332127</td>\n",
       "      <td>-0.729105</td>\n",
       "      <td>-1.612464</td>\n",
       "      <td>-1.319609</td>\n",
       "      <td>-0.075653</td>\n",
       "      <td>-0.603056</td>\n",
       "    </tr>\n",
       "    <tr>\n",
       "      <th>1</th>\n",
       "      <td>-0.197832</td>\n",
       "      <td>0.704398</td>\n",
       "      <td>-0.141722</td>\n",
       "      <td>0.016082</td>\n",
       "      <td>0.172091</td>\n",
       "      <td>-1.008147</td>\n",
       "      <td>-0.603056</td>\n",
       "    </tr>\n",
       "    <tr>\n",
       "      <th>2</th>\n",
       "      <td>-0.824346</td>\n",
       "      <td>0.168328</td>\n",
       "      <td>0.264928</td>\n",
       "      <td>0.461790</td>\n",
       "      <td>-0.147559</td>\n",
       "      <td>-1.058826</td>\n",
       "      <td>-0.603056</td>\n",
       "    </tr>\n",
       "    <tr>\n",
       "      <th>3</th>\n",
       "      <td>-0.175926</td>\n",
       "      <td>-0.308179</td>\n",
       "      <td>-0.299864</td>\n",
       "      <td>-0.189629</td>\n",
       "      <td>0.491741</td>\n",
       "      <td>-0.612851</td>\n",
       "      <td>-0.603056</td>\n",
       "    </tr>\n",
       "    <tr>\n",
       "      <th>4</th>\n",
       "      <td>-0.281075</td>\n",
       "      <td>-0.218834</td>\n",
       "      <td>-0.412822</td>\n",
       "      <td>0.616073</td>\n",
       "      <td>0.420708</td>\n",
       "      <td>-0.764888</td>\n",
       "      <td>-0.603056</td>\n",
       "    </tr>\n",
       "    <tr>\n",
       "      <th>...</th>\n",
       "      <td>...</td>\n",
       "      <td>...</td>\n",
       "      <td>...</td>\n",
       "      <td>...</td>\n",
       "      <td>...</td>\n",
       "      <td>...</td>\n",
       "      <td>...</td>\n",
       "    </tr>\n",
       "    <tr>\n",
       "      <th>415</th>\n",
       "      <td>-1.091049</td>\n",
       "      <td>1.430479</td>\n",
       "      <td>2.838514</td>\n",
       "      <td>0.547637</td>\n",
       "      <td>-1.424693</td>\n",
       "      <td>0.348717</td>\n",
       "      <td>-0.603056</td>\n",
       "    </tr>\n",
       "    <tr>\n",
       "      <th>416</th>\n",
       "      <td>-0.558385</td>\n",
       "      <td>1.996853</td>\n",
       "      <td>2.107175</td>\n",
       "      <td>0.958925</td>\n",
       "      <td>-1.532708</td>\n",
       "      <td>0.052658</td>\n",
       "      <td>-0.196650</td>\n",
       "    </tr>\n",
       "    <tr>\n",
       "      <th>417</th>\n",
       "      <td>-0.782032</td>\n",
       "      <td>1.412530</td>\n",
       "      <td>0.912507</td>\n",
       "      <td>0.658211</td>\n",
       "      <td>-1.532708</td>\n",
       "      <td>-0.156739</td>\n",
       "      <td>-0.603056</td>\n",
       "    </tr>\n",
       "    <tr>\n",
       "      <th>418</th>\n",
       "      <td>0.450785</td>\n",
       "      <td>1.105578</td>\n",
       "      <td>0.652941</td>\n",
       "      <td>0.418117</td>\n",
       "      <td>-0.770522</td>\n",
       "      <td>-0.196394</td>\n",
       "      <td>-0.077542</td>\n",
       "    </tr>\n",
       "    <tr>\n",
       "      <th>419</th>\n",
       "      <td>-0.836845</td>\n",
       "      <td>2.303517</td>\n",
       "      <td>2.039687</td>\n",
       "      <td>0.893959</td>\n",
       "      <td>-1.491582</td>\n",
       "      <td>-0.088028</td>\n",
       "      <td>-0.603056</td>\n",
       "    </tr>\n",
       "  </tbody>\n",
       "</table>\n",
       "<p>420 rows × 7 columns</p>\n",
       "</div>"
      ],
      "text/plain": [
       "           RI        Na        Al        Si         K        Ca        Fe\n",
       "0    1.291781  0.332127 -0.729105 -1.612464 -1.319609 -0.075653 -0.603056\n",
       "1   -0.197832  0.704398 -0.141722  0.016082  0.172091 -1.008147 -0.603056\n",
       "2   -0.824346  0.168328  0.264928  0.461790 -0.147559 -1.058826 -0.603056\n",
       "3   -0.175926 -0.308179 -0.299864 -0.189629  0.491741 -0.612851 -0.603056\n",
       "4   -0.281075 -0.218834 -0.412822  0.616073  0.420708 -0.764888 -0.603056\n",
       "..        ...       ...       ...       ...       ...       ...       ...\n",
       "415 -1.091049  1.430479  2.838514  0.547637 -1.424693  0.348717 -0.603056\n",
       "416 -0.558385  1.996853  2.107175  0.958925 -1.532708  0.052658 -0.196650\n",
       "417 -0.782032  1.412530  0.912507  0.658211 -1.532708 -0.156739 -0.603056\n",
       "418  0.450785  1.105578  0.652941  0.418117 -0.770522 -0.196394 -0.077542\n",
       "419 -0.836845  2.303517  2.039687  0.893959 -1.491582 -0.088028 -0.603056\n",
       "\n",
       "[420 rows x 7 columns]"
      ]
     },
     "execution_count": 56,
     "metadata": {},
     "output_type": "execute_result"
    }
   ],
   "source": [
    "a"
   ]
  },
  {
   "cell_type": "code",
   "execution_count": 57,
   "id": "c5fc28a9",
   "metadata": {},
   "outputs": [
    {
     "data": {
      "text/plain": [
       "array([0, 1], dtype=int64)"
      ]
     },
     "execution_count": 57,
     "metadata": {},
     "output_type": "execute_result"
    }
   ],
   "source": [
    "b.unique()"
   ]
  },
  {
   "cell_type": "markdown",
   "id": "d8661bb9",
   "metadata": {},
   "source": [
    "Modelling"
   ]
  },
  {
   "cell_type": "code",
   "execution_count": null,
   "id": "e107fa2d",
   "metadata": {},
   "outputs": [],
   "source": []
  },
  {
   "cell_type": "code",
   "execution_count": 58,
   "id": "766ab6e2",
   "metadata": {},
   "outputs": [
    {
     "data": {
      "text/plain": [
       "array([[ 1.34936131,  0.12840283, -0.99975599, ..., -0.98457615,\n",
       "        -0.45027352, -0.46637533],\n",
       "       [-0.27154558,  0.43793739, -0.42431221, ...,  0.44049032,\n",
       "        -1.2150773 , -0.46637533],\n",
       "       [-0.95327995, -0.00779238, -0.02592805, ...,  0.13511893,\n",
       "        -1.25664272, -0.46637533],\n",
       "       ...,\n",
       "       [-0.90723623,  1.02673312,  0.60848816, ..., -1.18815707,\n",
       "        -0.5167782 , -0.46637533],\n",
       "       [ 0.43423995,  0.77150919,  0.35419784, ..., -0.4600172 ,\n",
       "        -0.54930191,  0.18322416],\n",
       "       [-0.9668799 ,  1.76756831,  1.71275633, ..., -1.14886779,\n",
       "        -0.46042321, -0.46637533]])"
      ]
     },
     "execution_count": 58,
     "metadata": {},
     "output_type": "execute_result"
    }
   ],
   "source": [
    "\n",
    "scaler=StandardScaler()\n",
    "\n",
    "x_scaled=scaler.fit_transform(a)\n",
    "x_scaled"
   ]
  },
  {
   "cell_type": "code",
   "execution_count": null,
   "id": "4660da48",
   "metadata": {},
   "outputs": [],
   "source": []
  },
  {
   "cell_type": "code",
   "execution_count": 83,
   "id": "2e08fe40",
   "metadata": {},
   "outputs": [],
   "source": [
    "from sklearn.ensemble import ExtraTreesClassifier, GradientBoostingClassifier,BaggingClassifier\n",
    "from sklearn.neighbors import KNeighborsClassifier\n",
    "from sklearn.tree import DecisionTreeClassifier\n",
    "\n",
    "from sklearn.svm import SVC\n",
    "from sklearn.model_selection import cross_val_score"
   ]
  },
  {
   "cell_type": "code",
   "execution_count": 86,
   "id": "1b773629",
   "metadata": {},
   "outputs": [
    {
     "name": "stdout",
     "output_type": "stream",
     "text": [
      "The best accuracy is 0.9841269841269841 at random state is 44\n"
     ]
    }
   ],
   "source": [
    "#getting best random state\n",
    "from sklearn.ensemble import RandomForestClassifier\n",
    "Accu_max=0\n",
    "Rs_max=0\n",
    "for k in range(1,200):\n",
    "    x_train,x_test,y_train,y_test=train_test_split(a,b, test_size=0.30, random_state=k)\n",
    "    \n",
    "    RFC=RandomForestClassifier()\n",
    "    RFC.fit(x_train,y_train)\n",
    "    pred=RFC.predict(x_test)\n",
    "    acc=accuracy_score(y_test, pred)\n",
    "    if acc>Accu_max:\n",
    "        Accu_max= acc\n",
    "        Rs_max=k\n",
    "print('The best accuracy is', Accu_max, 'at random state is', Rs_max)"
   ]
  },
  {
   "cell_type": "code",
   "execution_count": 87,
   "id": "1ff88ca1",
   "metadata": {},
   "outputs": [],
   "source": [
    "#forming train_test_split\n",
    "x_train,x_test,y_train,y_test=train_test_split(a,b, test_size=0.30, random_state=44)"
   ]
  },
  {
   "cell_type": "code",
   "execution_count": 88,
   "id": "427f8889",
   "metadata": {},
   "outputs": [],
   "source": [
    "def metric_score(clf, x_train,x_test,y_train,y_test,train=True):\n",
    "    if train==False:\n",
    "       \n",
    "        \n",
    "        pred=clf.predict(x_test)\n",
    "        \n",
    "        print(\"\\n================ Test Result ================== \")\n",
    "        print(f\"Accuracy Score: {accuracy_score(y_test,pred)*100:2f}%\")\n",
    "        print('\\n \\n Test Classification Reprt \\n', classification_report(y_test,pred, digits=2))\n",
    "        "
   ]
  },
  {
   "cell_type": "code",
   "execution_count": 89,
   "id": "55b008df",
   "metadata": {},
   "outputs": [
    {
     "name": "stdout",
     "output_type": "stream",
     "text": [
      "\n",
      "================ Test Result ================== \n",
      "Accuracy Score: 93.650794%\n",
      "\n",
      " \n",
      " Test Classification Reprt \n",
      "               precision    recall  f1-score   support\n",
      "\n",
      "           0       0.85      0.94      0.89        35\n",
      "           1       0.98      0.93      0.96        91\n",
      "\n",
      "    accuracy                           0.94       126\n",
      "   macro avg       0.91      0.94      0.92       126\n",
      "weighted avg       0.94      0.94      0.94       126\n",
      "\n"
     ]
    },
    {
     "data": {
      "text/plain": [
       "array([[33,  2],\n",
       "       [ 6, 85]], dtype=int64)"
      ]
     },
     "execution_count": 89,
     "metadata": {},
     "output_type": "execute_result"
    }
   ],
   "source": [
    "dc=DecisionTreeClassifier()\n",
    "dc.fit(x_train,y_train)\n",
    "metric_score(dc,x_train,x_test,y_train,y_test, train=True)\n",
    "metric_score(dc,x_train,x_test,y_train,y_test, train=False)\n",
    "y_pred=dc.predict(x_test)\n",
    "probs_dc=dc.predict_proba(x_scaled)[:,1]\n",
    "confusion_matrix(y_test,y_pred)"
   ]
  },
  {
   "cell_type": "code",
   "execution_count": 90,
   "id": "34d10b9f",
   "metadata": {},
   "outputs": [
    {
     "name": "stdout",
     "output_type": "stream",
     "text": [
      "\n",
      "================ Test Result ================== \n",
      "Accuracy Score: 94.444444%\n",
      "\n",
      " \n",
      " Test Classification Reprt \n",
      "               precision    recall  f1-score   support\n",
      "\n",
      "           0       1.00      0.80      0.89        35\n",
      "           1       0.93      1.00      0.96        91\n",
      "\n",
      "    accuracy                           0.94       126\n",
      "   macro avg       0.96      0.90      0.93       126\n",
      "weighted avg       0.95      0.94      0.94       126\n",
      "\n"
     ]
    },
    {
     "data": {
      "text/plain": [
       "array([[28,  7],\n",
       "       [ 0, 91]], dtype=int64)"
      ]
     },
     "execution_count": 90,
     "metadata": {},
     "output_type": "execute_result"
    }
   ],
   "source": [
    "kn=KNeighborsClassifier()\n",
    "kn.fit(x_train,y_train)\n",
    "metric_score(kn,x_train,x_test,y_train,y_test, train=True)\n",
    "metric_score(kn,x_train,x_test,y_train,y_test, train=False)\n",
    "y_pred=kn.predict(x_test)\n",
    "probs_kn=kn.predict_proba(x_scaled)[:,1]\n",
    "confusion_matrix(y_test,y_pred)"
   ]
  },
  {
   "cell_type": "code",
   "execution_count": 91,
   "id": "77adae58",
   "metadata": {},
   "outputs": [
    {
     "name": "stdout",
     "output_type": "stream",
     "text": [
      "\n",
      "================ Test Result ================== \n",
      "Accuracy Score: 98.412698%\n",
      "\n",
      " \n",
      " Test Classification Reprt \n",
      "               precision    recall  f1-score   support\n",
      "\n",
      "           0       1.00      0.94      0.97        35\n",
      "           1       0.98      1.00      0.99        91\n",
      "\n",
      "    accuracy                           0.98       126\n",
      "   macro avg       0.99      0.97      0.98       126\n",
      "weighted avg       0.98      0.98      0.98       126\n",
      "\n"
     ]
    },
    {
     "data": {
      "text/plain": [
       "array([[33,  2],\n",
       "       [ 0, 91]], dtype=int64)"
      ]
     },
     "execution_count": 91,
     "metadata": {},
     "output_type": "execute_result"
    }
   ],
   "source": [
    "rfc=RandomForestClassifier()\n",
    "rfc.fit(x_train,y_train)\n",
    "metric_score(rfc,x_train,x_test,y_train,y_test, train=True)\n",
    "metric_score(rfc,x_train,x_test,y_train,y_test, train=False)\n",
    "y_pred=rfc.predict(x_test)\n",
    "probs_rfc=rfc.predict_proba(x_scaled)[:,1]\n",
    "confusion_matrix(y_test,y_pred)"
   ]
  },
  {
   "cell_type": "code",
   "execution_count": 92,
   "id": "f4603385",
   "metadata": {},
   "outputs": [
    {
     "name": "stdout",
     "output_type": "stream",
     "text": [
      "\n",
      "================ Test Result ================== \n",
      "Accuracy Score: 96.825397%\n",
      "\n",
      " \n",
      " Test Classification Reprt \n",
      "               precision    recall  f1-score   support\n",
      "\n",
      "           0       0.97      0.91      0.94        35\n",
      "           1       0.97      0.99      0.98        91\n",
      "\n",
      "    accuracy                           0.97       126\n",
      "   macro avg       0.97      0.95      0.96       126\n",
      "weighted avg       0.97      0.97      0.97       126\n",
      "\n"
     ]
    },
    {
     "data": {
      "text/plain": [
       "array([[32,  3],\n",
       "       [ 1, 90]], dtype=int64)"
      ]
     },
     "execution_count": 92,
     "metadata": {},
     "output_type": "execute_result"
    }
   ],
   "source": [
    "GB=GradientBoostingClassifier()\n",
    "GB.fit(x_train,y_train)\n",
    "metric_score(GB,x_train,x_test,y_train,y_test, train=True)\n",
    "metric_score(GB,x_train,x_test,y_train,y_test, train=False)\n",
    "y_pred=GB.predict(x_test)\n",
    "probs_GB=GB.predict_proba(x_scaled)[:,1]\n",
    "confusion_matrix(y_test,y_pred)"
   ]
  },
  {
   "cell_type": "code",
   "execution_count": 93,
   "id": "e873905a",
   "metadata": {},
   "outputs": [
    {
     "name": "stdout",
     "output_type": "stream",
     "text": [
      "\n",
      "================ Test Result ================== \n",
      "Accuracy Score: 96.031746%\n",
      "\n",
      " \n",
      " Test Classification Reprt \n",
      "               precision    recall  f1-score   support\n",
      "\n",
      "           0       0.94      0.91      0.93        35\n",
      "           1       0.97      0.98      0.97        91\n",
      "\n",
      "    accuracy                           0.96       126\n",
      "   macro avg       0.95      0.95      0.95       126\n",
      "weighted avg       0.96      0.96      0.96       126\n",
      "\n"
     ]
    },
    {
     "data": {
      "text/plain": [
       "array([[32,  3],\n",
       "       [ 2, 89]], dtype=int64)"
      ]
     },
     "execution_count": 93,
     "metadata": {},
     "output_type": "execute_result"
    }
   ],
   "source": [
    "bag=BaggingClassifier()\n",
    "bag.fit(x_train,y_train)\n",
    "metric_score(bag,x_train,x_test,y_train,y_test, train=True)\n",
    "metric_score(bag,x_train,x_test,y_train,y_test, train=False)\n",
    "y_pred=bag.predict(x_test)\n",
    "confusion_matrix(y_test,y_pred)"
   ]
  },
  {
   "cell_type": "code",
   "execution_count": 94,
   "id": "cbf08176",
   "metadata": {},
   "outputs": [
    {
     "name": "stdout",
     "output_type": "stream",
     "text": [
      "\n",
      "================ Test Result ================== \n",
      "Accuracy Score: 98.412698%\n",
      "\n",
      " \n",
      " Test Classification Reprt \n",
      "               precision    recall  f1-score   support\n",
      "\n",
      "           0       0.97      0.97      0.97        35\n",
      "           1       0.99      0.99      0.99        91\n",
      "\n",
      "    accuracy                           0.98       126\n",
      "   macro avg       0.98      0.98      0.98       126\n",
      "weighted avg       0.98      0.98      0.98       126\n",
      "\n"
     ]
    },
    {
     "data": {
      "text/plain": [
       "array([[34,  1],\n",
       "       [ 1, 90]], dtype=int64)"
      ]
     },
     "execution_count": 94,
     "metadata": {},
     "output_type": "execute_result"
    }
   ],
   "source": [
    "Etc=ExtraTreesClassifier()\n",
    "Etc.fit(x_train,y_train)\n",
    "metric_score(Etc,x_train,x_test,y_train,y_test, train=True)\n",
    "metric_score(Etc,x_train,x_test,y_train,y_test, train=False)\n",
    "y_pred=Etc.predict(x_test)\n",
    "probs_Etc=Etc.predict_proba(x_scaled)[:,1]\n",
    "confusion_matrix(y_test,y_pred)"
   ]
  },
  {
   "cell_type": "code",
   "execution_count": null,
   "id": "563c30c2",
   "metadata": {},
   "outputs": [],
   "source": []
  },
  {
   "cell_type": "code",
   "execution_count": 95,
   "id": "ea4831e5",
   "metadata": {},
   "outputs": [
    {
     "name": "stdout",
     "output_type": "stream",
     "text": [
      "[0.89285714 0.77380952 0.94047619 0.70238095 0.92857143]\n",
      "0.8476190476190476\n",
      "Difference between Accuracy score and cross validation score is-  -0.2523809523809524\n"
     ]
    }
   ],
   "source": [
    "score=cross_val_score(dc, a,b)\n",
    "print(score)\n",
    "print(score.mean())\n",
    "print(\"Difference between Accuracy score and cross validation score is- \", accuracy_score(y_test, pred)-score.mean() )"
   ]
  },
  {
   "cell_type": "code",
   "execution_count": 96,
   "id": "266f4596",
   "metadata": {},
   "outputs": [
    {
     "name": "stdout",
     "output_type": "stream",
     "text": [
      "[0.89285714 0.6547619  0.89285714 0.91666667 0.88095238]\n",
      "0.8476190476190476\n",
      "Difference between Accuracy score and cross validation score is-  -0.2523809523809524\n"
     ]
    }
   ],
   "source": [
    "score=cross_val_score(kn, a,b)\n",
    "print(score)\n",
    "print(score.mean())\n",
    "print(\"Difference between Accuracy score and cross validation score is- \", accuracy_score(y_test, pred)-score.mean() )"
   ]
  },
  {
   "cell_type": "code",
   "execution_count": 97,
   "id": "4889dfe9",
   "metadata": {},
   "outputs": [
    {
     "name": "stdout",
     "output_type": "stream",
     "text": [
      "[0.91666667 0.76190476 0.92857143 0.89285714 0.94047619]\n",
      "0.8880952380952379\n",
      "Difference between Accuracy score and cross validation score is-  -0.2928571428571427\n"
     ]
    }
   ],
   "source": [
    "score=cross_val_score(GB, a,b)\n",
    "print(score)\n",
    "print(score.mean())\n",
    "print(\"Difference between Accuracy score and cross validation score is- \", accuracy_score(y_test, pred)-score.mean() )"
   ]
  },
  {
   "cell_type": "code",
   "execution_count": 98,
   "id": "42afb848",
   "metadata": {},
   "outputs": [
    {
     "name": "stdout",
     "output_type": "stream",
     "text": [
      "[0.95238095 0.79761905 0.96428571 0.94047619 0.94047619]\n",
      "0.9190476190476191\n",
      "Difference between Accuracy score and cross validation score is-  -0.3238095238095239\n"
     ]
    }
   ],
   "source": [
    "score=cross_val_score(Etc, a,b)\n",
    "print(score)\n",
    "print(score.mean())\n",
    "print(\"Difference between Accuracy score and cross validation score is- \", accuracy_score(y_test, pred)-score.mean() )"
   ]
  },
  {
   "cell_type": "code",
   "execution_count": 99,
   "id": "0e140ef2",
   "metadata": {},
   "outputs": [
    {
     "name": "stdout",
     "output_type": "stream",
     "text": [
      "[0.9047619  0.5952381  0.92857143 0.9047619  0.92857143]\n",
      "0.8523809523809524\n",
      "Difference between Accuracy score and cross validation score is-  -0.2571428571428571\n"
     ]
    }
   ],
   "source": [
    "score=cross_val_score(bag, a,b)\n",
    "print(score)\n",
    "print(score.mean())\n",
    "print(\"Difference between Accuracy score and cross validation score is- \", accuracy_score(y_test, pred)-score.mean() )"
   ]
  },
  {
   "cell_type": "code",
   "execution_count": 100,
   "id": "ab8f7674",
   "metadata": {},
   "outputs": [
    {
     "name": "stdout",
     "output_type": "stream",
     "text": [
      "[0.91666667 0.82142857 0.95238095 0.9047619  0.94047619]\n",
      "0.9071428571428571\n",
      "Difference between Accuracy score and cross validation score is-  -0.3119047619047619\n"
     ]
    }
   ],
   "source": [
    "score=cross_val_score(rfc, a,b)\n",
    "print(score)\n",
    "print(score.mean())\n",
    "print(\"Difference between Accuracy score and cross validation score is- \", accuracy_score(y_test, pred)-score.mean() )"
   ]
  },
  {
   "cell_type": "markdown",
   "id": "5854ea16",
   "metadata": {},
   "source": [
    "As per the above observation i am considering decision tree classifier model where my accuracy score is 93%\n"
   ]
  },
  {
   "cell_type": "markdown",
   "id": "a4c11481",
   "metadata": {},
   "source": [
    "Hyperparameter tuning"
   ]
  },
  {
   "cell_type": "code",
   "execution_count": 101,
   "id": "a089cd37",
   "metadata": {},
   "outputs": [],
   "source": [
    "#giving parameters for the decision tree classifier:\n",
    "grid_param={\n",
    "    'criterion':['gini','entropy'],\n",
    "    'max_depth':range(10,42),\n",
    "    'min_samples_leaf': range(1,4),\n",
    "    'min_samples_split':range(1,5),\n",
    "    'max_leaf_nodes' :range(20,70)\n",
    "}"
   ]
  },
  {
   "cell_type": "code",
   "execution_count": 102,
   "id": "3fc91e8e",
   "metadata": {},
   "outputs": [],
   "source": [
    "grid_search=GridSearchCV(estimator=dc,\n",
    "                        param_grid=grid_param,\n",
    "                        cv=5,\n",
    "                         n_jobs=-1)"
   ]
  },
  {
   "cell_type": "code",
   "execution_count": 103,
   "id": "f193a0cd",
   "metadata": {},
   "outputs": [
    {
     "data": {
      "text/plain": [
       "GridSearchCV(cv=5, estimator=DecisionTreeClassifier(), n_jobs=-1,\n",
       "             param_grid={'criterion': ['gini', 'entropy'],\n",
       "                         'max_depth': range(10, 42),\n",
       "                         'max_leaf_nodes': range(20, 70),\n",
       "                         'min_samples_leaf': range(1, 4),\n",
       "                         'min_samples_split': range(1, 5)})"
      ]
     },
     "execution_count": 103,
     "metadata": {},
     "output_type": "execute_result"
    }
   ],
   "source": [
    "grid_search.fit(x_train, y_train)"
   ]
  },
  {
   "cell_type": "code",
   "execution_count": 104,
   "id": "eaf475f5",
   "metadata": {},
   "outputs": [
    {
     "name": "stdout",
     "output_type": "stream",
     "text": [
      "{'criterion': 'entropy', 'max_depth': 28, 'max_leaf_nodes': 40, 'min_samples_leaf': 1, 'min_samples_split': 2}\n"
     ]
    }
   ],
   "source": [
    "#finding the best parameters\n",
    "best_parameters=grid_search.best_params_\n",
    "print(best_parameters)"
   ]
  },
  {
   "cell_type": "code",
   "execution_count": 143,
   "id": "95b75457",
   "metadata": {},
   "outputs": [
    {
     "data": {
      "text/plain": [
       "DecisionTreeClassifier(max_depth=37, max_leaf_nodes=55)"
      ]
     },
     "execution_count": 143,
     "metadata": {},
     "output_type": "execute_result"
    }
   ],
   "source": [
    "final_model=DecisionTreeClassifier( max_depth= 37, max_leaf_nodes=55, min_samples_leaf= 1, min_samples_split=2)\n",
    "final_model.fit(x_train,y_train)"
   ]
  },
  {
   "cell_type": "code",
   "execution_count": 144,
   "id": "9bc88aae",
   "metadata": {},
   "outputs": [
    {
     "data": {
      "text/plain": [
       "0.9365079365079365"
      ]
     },
     "execution_count": 144,
     "metadata": {},
     "output_type": "execute_result"
    }
   ],
   "source": [
    "dc.score(x_test,y_test)"
   ]
  },
  {
   "cell_type": "code",
   "execution_count": 145,
   "id": "c2cdc9fe",
   "metadata": {},
   "outputs": [
    {
     "name": "stdout",
     "output_type": "stream",
     "text": [
      "\n",
      "================ Test Result ================== \n",
      "Accuracy Score: 96.031746%\n",
      "\n",
      " \n",
      " Test Classification Reprt \n",
      "               precision    recall  f1-score   support\n",
      "\n",
      "           0       0.92      0.94      0.93        35\n",
      "           1       0.98      0.97      0.97        91\n",
      "\n",
      "    accuracy                           0.96       126\n",
      "   macro avg       0.95      0.95      0.95       126\n",
      "weighted avg       0.96      0.96      0.96       126\n",
      "\n"
     ]
    }
   ],
   "source": [
    "metric_score(final_model,x_train,x_test,y_train,y_test,train=False)"
   ]
  },
  {
   "cell_type": "markdown",
   "id": "838eaff7",
   "metadata": {},
   "source": [
    "By using this hyperparameter tuning my model accuracy score is increased to 96%"
   ]
  },
  {
   "cell_type": "markdown",
   "id": "6145dbc1",
   "metadata": {},
   "source": [
    "ROC-AUC CURVE"
   ]
  },
  {
   "cell_type": "code",
   "execution_count": 146,
   "id": "c936f5cf",
   "metadata": {},
   "outputs": [],
   "source": [
    "from sklearn.metrics import roc_auc_score, auc\n",
    "from sklearn.metrics import roc_curve"
   ]
  },
  {
   "cell_type": "code",
   "execution_count": 147,
   "id": "48120011",
   "metadata": {},
   "outputs": [
    {
     "data": {
      "image/png": "[encoded data removed]",
      "text/plain": [
       "<Figure size 432x288 with 1 Axes>"
      ]
     },
     "metadata": {
      "needs_background": "light"
     },
     "output_type": "display_data"
    },
    {
     "name": "stdout",
     "output_type": "stream",
     "text": [
      "Auc Score is : \n",
      " 95.4945054945055\n"
     ]
    }
   ],
   "source": [
    "y_pred=final_model.predict(x_test)\n",
    "fpr,tpr,thresholds=roc_curve(y_test,y_pred)\n",
    "roc_auc=auc(fpr,tpr)\n",
    "\n",
    "plt.plot([0,1],[0,1],'h--')\n",
    "plt.plot(fpr,tpr, label=\"decision tree classifier\"%roc_auc)\n",
    "plt.xlabel('fpr')\n",
    "plt.ylabel('tpr')\n",
    "plt.show()\n",
    "auc_score=roc_auc_score(y_test, final_model.predict(x_test))\n",
    "print('Auc Score is :','\\n', auc_score*100)"
   ]
  },
  {
   "cell_type": "code",
   "execution_count": null,
   "id": "9ea1b3e7",
   "metadata": {},
   "outputs": [],
   "source": []
  },
  {
   "cell_type": "markdown",
   "id": "9865bd28",
   "metadata": {},
   "source": [
    "Saving my model"
   ]
  },
  {
   "cell_type": "code",
   "execution_count": 148,
   "id": "9e6f3985",
   "metadata": {},
   "outputs": [],
   "source": [
    "import pickle\n",
    "filename='Glass prediction'\n",
    "pickle.dump(dc, open(filename,'wb'))\n"
   ]
  },
  {
   "cell_type": "code",
   "execution_count": 149,
   "id": "d642ff5a",
   "metadata": {},
   "outputs": [
    {
     "name": "stdout",
     "output_type": "stream",
     "text": [
      "93.65079365079364\n"
     ]
    }
   ],
   "source": [
    "import pickle\n",
    "loaded_model=pickle.load(open('Glass prediction','rb'))\n",
    "result=loaded_model.score(x_test,y_test)\n",
    "print(result*100)"
   ]
  },
  {
   "cell_type": "code",
   "execution_count": 150,
   "id": "c6b2c16b",
   "metadata": {},
   "outputs": [
    {
     "data": {
      "text/html": [
       "<div>\n",
       "<style scoped>\n",
       "    .dataframe tbody tr th:only-of-type {\n",
       "        vertical-align: middle;\n",
       "    }\n",
       "\n",
       "    .dataframe tbody tr th {\n",
       "        vertical-align: top;\n",
       "    }\n",
       "\n",
       "    .dataframe thead th {\n",
       "        text-align: right;\n",
       "    }\n",
       "</style>\n",
       "<table border=\"1\" class=\"dataframe\">\n",
       "  <thead>\n",
       "    <tr style=\"text-align: right;\">\n",
       "      <th></th>\n",
       "      <th>0</th>\n",
       "      <th>1</th>\n",
       "      <th>2</th>\n",
       "      <th>3</th>\n",
       "      <th>4</th>\n",
       "      <th>5</th>\n",
       "      <th>6</th>\n",
       "      <th>7</th>\n",
       "      <th>8</th>\n",
       "      <th>9</th>\n",
       "      <th>...</th>\n",
       "      <th>116</th>\n",
       "      <th>117</th>\n",
       "      <th>118</th>\n",
       "      <th>119</th>\n",
       "      <th>120</th>\n",
       "      <th>121</th>\n",
       "      <th>122</th>\n",
       "      <th>123</th>\n",
       "      <th>124</th>\n",
       "      <th>125</th>\n",
       "    </tr>\n",
       "  </thead>\n",
       "  <tbody>\n",
       "    <tr>\n",
       "      <th>original</th>\n",
       "      <td>0</td>\n",
       "      <td>1</td>\n",
       "      <td>1</td>\n",
       "      <td>1</td>\n",
       "      <td>1</td>\n",
       "      <td>0</td>\n",
       "      <td>1</td>\n",
       "      <td>1</td>\n",
       "      <td>1</td>\n",
       "      <td>1</td>\n",
       "      <td>...</td>\n",
       "      <td>0</td>\n",
       "      <td>1</td>\n",
       "      <td>0</td>\n",
       "      <td>1</td>\n",
       "      <td>0</td>\n",
       "      <td>1</td>\n",
       "      <td>0</td>\n",
       "      <td>1</td>\n",
       "      <td>1</td>\n",
       "      <td>1</td>\n",
       "    </tr>\n",
       "    <tr>\n",
       "      <th>predicted</th>\n",
       "      <td>0</td>\n",
       "      <td>1</td>\n",
       "      <td>1</td>\n",
       "      <td>1</td>\n",
       "      <td>1</td>\n",
       "      <td>0</td>\n",
       "      <td>1</td>\n",
       "      <td>1</td>\n",
       "      <td>1</td>\n",
       "      <td>1</td>\n",
       "      <td>...</td>\n",
       "      <td>0</td>\n",
       "      <td>1</td>\n",
       "      <td>0</td>\n",
       "      <td>1</td>\n",
       "      <td>0</td>\n",
       "      <td>1</td>\n",
       "      <td>0</td>\n",
       "      <td>1</td>\n",
       "      <td>1</td>\n",
       "      <td>1</td>\n",
       "    </tr>\n",
       "  </tbody>\n",
       "</table>\n",
       "<p>2 rows × 126 columns</p>\n",
       "</div>"
      ],
      "text/plain": [
       "           0    1    2    3    4    5    6    7    8    9    ...  116  117  \\\n",
       "original     0    1    1    1    1    0    1    1    1    1  ...    0    1   \n",
       "predicted    0    1    1    1    1    0    1    1    1    1  ...    0    1   \n",
       "\n",
       "           118  119  120  121  122  123  124  125  \n",
       "original     0    1    0    1    0    1    1    1  \n",
       "predicted    0    1    0    1    0    1    1    1  \n",
       "\n",
       "[2 rows x 126 columns]"
      ]
     },
     "execution_count": 150,
     "metadata": {},
     "output_type": "execute_result"
    }
   ],
   "source": [
    "conclusion=pd.DataFrame([loaded_model.predict(x_test)[:],y_test[:]],index=['original','predicted'])\n",
    "conclusion"
   ]
  },
  {
   "cell_type": "markdown",
   "id": "b3890144",
   "metadata": {},
   "source": [
    "finally, it is done"
   ]
  },
  {
   "cell_type": "code",
   "execution_count": null,
   "id": "d3beddcb",
   "metadata": {},
   "outputs": [],
   "source": []
  }
 ],
 "metadata": {
  "kernelspec": {
   "display_name": "Python 3 (ipykernel)",
   "language": "python",
   "name": "python3"
  },
  "language_info": {
   "codemirror_mode": {
    "name": "ipython",
    "version": 3
   },
   "file_extension": ".py",
   "mimetype": "text/x-python",
   "name": "python",
   "nbconvert_exporter": "python",
   "pygments_lexer": "ipython3",
   "version": "3.9.12"
  }
 },
 "nbformat": 4,
 "nbformat_minor": 5
}
